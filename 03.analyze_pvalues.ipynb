{
 "cells": [
  {
   "cell_type": "code",
   "execution_count": 4,
   "metadata": {},
   "outputs": [],
   "source": [
    "import numpy as np\n",
    "import pandas as pd\n",
    "import matplotlib.pyplot as plt\n",
    "from collections import defaultdict\n",
    "from copy import deepcopy\n",
    "import time\n",
    "import random\n",
    "from scipy import stats\n",
    "from scipy.stats import mode\n",
    "import seaborn as sns\n",
    "import warnings\n",
    "from collections import defaultdict\n",
    "warnings.filterwarnings(\"ignore\")"
   ]
  },
  {
   "cell_type": "markdown",
   "metadata": {},
   "source": [
    "## Annotate positions and within antibiotic resistance encoding genes or their upstream/downstream regions"
   ]
  },
  {
   "cell_type": "code",
   "execution_count": 6,
   "metadata": {},
   "outputs": [
    {
     "name": "stdout",
     "output_type": "stream",
     "text": [
      "mkdir: cannot create directory ‘03.annotation’: File exists\n"
     ]
    }
   ],
   "source": [
    "!mkdir 03.annotation\n",
    "## Extract the upstream and downstrean regions for each resistance-associated gene ###\n",
    "# Take the antibiotic resistance gene list and define the upstream and downstream regions\n",
    "ab_genes = pd.read_csv(\"input/AB_genes.csv\")\n",
    "\n",
    "genome_position_to_gene = pd.read_csv(\"input/genome_position_to_gene.csv\", index_col=0)\n",
    "genome_position_to_gene = genome_position_to_gene.sort_values(\"i\")\n",
    "\n",
    "# Initialize column to be added\n",
    "data = ab_genes\n",
    "data[[\"locus_name\", \"gene_start\", \"gene_end\"]] = np.nan\n",
    "data[[ \"upstream_gene\", \"downstream_gene\", \"upstream_start\", \n",
    "      \"upstream_end\", \"downstream_start\", \"downstream_end\"]] = np.nan\n",
    "\n",
    "for idx, row in data.iterrows():\n",
    "    \n",
    "    # Add gene locus and gene start/end locations\n",
    "    positions = genome_position_to_gene.query(\"gene==@row.gene\")\n",
    "    \n",
    "    gene_start = positions.i.min()\n",
    "    gene_end = positions.i.max()\n",
    "    \n",
    "    data.loc[idx, \"gene_start\"] = gene_start\n",
    "    data.loc[idx, \"gene_end\"] = gene_end\n",
    "    data.loc[idx, \"locus_name\"] = list(genome_position_to_gene.locus)[0]\n",
    "    \n",
    "    data.loc[idx, \"upstream_end\"] = gene_start - 1\n",
    "    data.loc[idx, \"downstream_start\"] = gene_end + 1\n",
    "    \n",
    "    # upstream stuff\n",
    "    upstream_all = genome_position_to_gene.query(\"i < @gene_start\")\n",
    "    upstream_gene = list(upstream_all.gene)[-1]\n",
    "    upstream = genome_position_to_gene.query(\"gene==@upstream_gene\")\n",
    "    data.loc[idx, \"upstream_gene\"] = upstream_gene\n",
    "    data.loc[idx, \"upstream_start\"] = upstream.i.max() + 1 \n",
    "    \n",
    "    # downstream stuff\n",
    "    downstream_all = genome_position_to_gene.query(\"i > @gene_end\")\n",
    "    downstream_gene = list(downstream_all.gene)[0]\n",
    "    downstream = genome_position_to_gene.query(\"gene==@downstream_gene\")\n",
    "    data.loc[idx, \"downstream_gene\"] = downstream_gene\n",
    "    data.loc[idx, \"downstream_end\"] = downstream.i.min() - 1\n",
    "\n",
    "data.to_csv(\"03.annotation/AB_genes_position_annotation.csv\")"
   ]
  },
  {
   "cell_type": "code",
   "execution_count": 8,
   "metadata": {},
   "outputs": [],
   "source": [
    "data = pd.read_csv(\"03.annotation/AB_genes_position_annotation.csv\")\n",
    "ab_to_region = {}\n",
    "for idx, row in data.iterrows():\n",
    "    gene_name = str(row.gene)\n",
    "    for position in list(range(int(row.upstream_start), int(row.upstream_end))) +\\\n",
    "        list(range(int(row.downstream_start), int(row.downstream_end))):\n",
    "        ab_to_region[position] = \"r_\" + gene_name\n",
    "\n",
    "# # Read in the SNP annotation file\n",
    "snps = pd.read_pickle(\"input/genotypes_SNP_annotation.pkl\")\n",
    "\n",
    "# Filter for just snps in our analysis\n",
    "positions = pd.read_csv(\"01.mutation_and_comutation_data/first_order_statistics.csv\", index_col=0)\n",
    "snps = snps.query(\"pos in @positions.pos\")\n",
    "\n",
    "# annotate the region around genes\n",
    "for idx, row in snps.iterrows():\n",
    "    position = row.pos\n",
    "    \n",
    "    if position in ab_to_region:\n",
    "        snps.loc[idx, \"gene_name\"] = ab_to_region[position]\n",
    "\n",
    "# need to manually add name for rrs\n",
    "snps.loc[snps.query(\"gene_id=='Rvnr01'\").index, \"gene_name\"] = 'rrs'\n"
   ]
  },
  {
   "cell_type": "code",
   "execution_count": 9,
   "metadata": {},
   "outputs": [],
   "source": [
    "# Make a list of antibiotic-associated gene names\n",
    "ab_to_genes = defaultdict(list)\n",
    "ab_genes_list = []\n",
    "\n",
    "for idx,row in data.iterrows():\n",
    "    #print(row)\n",
    "    ab_to_genes[row.Drug].append(row.gene)\n",
    "    ab_to_genes[row.Drug].append(\"r_\"+row.gene)\n",
    "    ab_genes_list += [row.gene, \"r_\"+row.gene]\n",
    "    \n",
    "AB_gene_names = list(set(ab_genes_list))"
   ]
  },
  {
   "cell_type": "code",
   "execution_count": 10,
   "metadata": {},
   "outputs": [],
   "source": [
    "! cp /n/data1/hms/dbmi/farhat/anna/databases/list_lineage_specific_snps_99_1.txt input/\n",
    "! cp /n/data1/hms/dbmi/farhat/anna/databases/Coll_2014_lineage_barcode.csv input/"
   ]
  },
  {
   "cell_type": "code",
   "execution_count": 11,
   "metadata": {},
   "outputs": [],
   "source": [
    "# add lineage annotaiton to the results\n",
    "\n",
    "# Lineage positions from Freschi et al 2021\n",
    "lineage_positions = pd.read_csv(\n",
    "    \"input/list_lineage_specific_snps_99_1.txt\", header=None)\n",
    "lineage_positions[\"position\"] = [int(x.split(\"_\")[0]) for x in lineage_positions[0]]\n",
    "\n",
    "# Lineage positions from Coll et al 2014\n",
    "coll_positions = pd.read_csv(\n",
    "    \"input/Coll_2014_lineage_barcode.csv\",\n",
    "    index_col=0\n",
    ")\n",
    "\n",
    "# Find out which SNPs are in the lineage set\n",
    "coll_pos = set(coll_positions.position)\n",
    "lineage_pos = set(lineage_positions.position)\n",
    "lineage_mutation_indices  = snps.query(\"pos in @coll_pos or pos in @lineage_pos\").index\n",
    "\n",
    "# Annotate in SNP dataframe\n",
    "snps[\"is_lineage\"] = False\n",
    "snps.loc[lineage_mutation_indices, \"is_lineage\"] = True\n",
    "\n",
    "snps.to_csv(\"03.annotation/snps_with_gene_annotation.csv\")"
   ]
  },
  {
   "cell_type": "code",
   "execution_count": 16,
   "metadata": {},
   "outputs": [],
   "source": [
    "# Add gene and lineage  annotation to the results\n",
    "results = pd.read_csv(\"02.comutation_pvalues/results_file_allpairs.csv\")\n",
    "results = results.merge(snps[[\"pos\", \"gene_name\", \"gene_id\", \"is_lineage\"]], left_on=\"position_i\", right_on=\"pos\")\n",
    "results = results.merge(snps[[\"pos\", \"gene_name\", \"gene_id\", \"is_lineage\"]], left_on=\"position_j\", right_on=\"pos\", suffixes=[\"_i\", \"_j\"])\n",
    "results.columns\n",
    "\n",
    "results = results[[\n",
    "   'position_i', 'gene_name_i','position_j', 'gene_name_j',\n",
    "    'n_mutations_i',\n",
    "   'n_mutations_j', 'n_branches_with_i', 'n_branches_with_j',\n",
    "   'n_muts_i_on_branch_j', 'n_muts_j_on_branch_i', 'n_muts_same_branch',\n",
    "   'n_branch_with_i_no_j', 'n_branch_with_j_no_i', 'n_branch_i_and_j',\n",
    "   'pval_beta_i_on_j', 'BH_critical_value', 'pval_beta_i_on_j_BH_sig',\n",
    "    'is_lineage_i','is_lineage_j',\n",
    "    'gene_id_i', \n",
    "    'gene_id_j', \n",
    "\n",
    "]]\n",
    "results.to_csv(\"03.annotation/results_allpairs_annotated.csv\")\n",
    "\n",
    "results.query(\"pval_beta_i_on_j_BH_sig\").to_csv(\"03.annotation/results_significant_annotated.csv\")"
   ]
  },
  {
   "cell_type": "markdown",
   "metadata": {},
   "source": [
    "## Hits within a particular antibiotic category"
   ]
  },
  {
   "cell_type": "code",
   "execution_count": 18,
   "metadata": {},
   "outputs": [],
   "source": [
    "!mkdir 03.annotation/AB_to_AB\n",
    "# make sure that both results are in the antibiotic resistance category\n",
    "r = results.query(\"gene_name_i in @AB_gene_names and gene_name_j in @AB_gene_names\")\n",
    "\n",
    "#filter lineage results\n",
    "significant_results = r.query('pval_beta_i_on_j_BH_sig and not is_lineage_i and not is_lineage_j')\n",
    "all_results = r.query('not is_lineage_i and not is_lineage_j')\n",
    "\n",
    "drugs = []\n",
    "n = []\n",
    "\n",
    "for key,vals in ab_to_genes.items():\n",
    "\n",
    "    significant_results.query(\"gene_name_i in @vals and gene_name_j in @vals\").sort_values(\n",
    "        \"n_muts_i_on_branch_j\", ascending=False\n",
    "    ).to_csv(\n",
    "     f\"03.annotation/AB_to_AB/{key}_significant_pairs_0p001.csv\", index=None\n",
    "    )\n",
    "    \n",
    "    all_results.query(\"gene_name_i in @vals and gene_name_j in @vals\").sort_values(\n",
    "        \"n_muts_i_on_branch_j\", ascending=False\n",
    "    ).to_csv(\n",
    "     f\"03.annotation/AB_to_AB/{key}_all_results.csv\", index=None\n",
    "    )\n",
    "    \n",
    "    sig_results =significant_results.query(\"gene_name_i in @vals and gene_name_j in @vals\")\n",
    "    drugs.append(key)\n",
    "    n.append(len(sig_results))"
   ]
  },
  {
   "cell_type": "markdown",
   "metadata": {},
   "source": [
    "### Make table of all single mutations associated with each antibiotic"
   ]
  },
  {
   "cell_type": "code",
   "execution_count": 19,
   "metadata": {},
   "outputs": [
    {
     "name": "stdout",
     "output_type": "stream",
     "text": [
      "INH 80\n",
      "RIF 154\n",
      "EMB 81\n",
      "PZA 158\n",
      "MFX 33\n",
      "LEV 33\n",
      "OFX 33\n",
      "AMI 103\n",
      "CAP 92\n",
      "KAN 103\n",
      "STM 210\n",
      "ETH 68\n",
      "PAS 26\n",
      "LZD 7\n",
      "CYS 16\n",
      "CFZ 10\n",
      "CIP 33\n",
      "RFB 154\n"
     ]
    }
   ],
   "source": [
    "snps = pd.read_csv(\"03.annotation/snps_with_gene_annotation.csv\")\n",
    "first_order = pd.read_csv(\"01.mutation_and_comutation_data/first_order_statistics.csv\", index_col=0)\n",
    "snps = snps.merge(first_order[[\"pos\",\"n_mutations\"]], on=\"pos\", how=\"left\")\n",
    "\n",
    "for key,vals in ab_to_genes.items():\n",
    "    #print(key, vals)\n",
    "    snps_x = snps.query(\"gene_name in @vals\")\n",
    "    print(key, len(snps_x))\n",
    "    snps_x.to_csv(f\"03.annotation/AB_to_AB/{key}_single_mutations.csv\")\n",
    "\n"
   ]
  },
  {
   "cell_type": "markdown",
   "metadata": {},
   "source": [
    "# From AB to other genes"
   ]
  },
  {
   "cell_type": "code",
   "execution_count": 20,
   "metadata": {},
   "outputs": [
    {
     "data": {
      "text/plain": [
       "143473"
      ]
     },
     "execution_count": 20,
     "metadata": {},
     "output_type": "execute_result"
    }
   ],
   "source": [
    "subset = results.query(\"(gene_name_i in @AB_gene_names and not gene_name_j in @AB_gene_names) or (gene_name_i not in @AB_gene_names and gene_name_j in @AB_gene_names)\")\n",
    "len(subset)"
   ]
  },
  {
   "cell_type": "code",
   "execution_count": 21,
   "metadata": {},
   "outputs": [
    {
     "name": "stdout",
     "output_type": "stream",
     "text": [
      "INH\n",
      "231\n",
      "RIF\n",
      "282\n",
      "EMB\n",
      "209\n",
      "PZA\n",
      "153\n",
      "MFX\n",
      "59\n",
      "LEV\n",
      "59\n",
      "OFX\n",
      "59\n",
      "AMI\n",
      "265\n",
      "CAP\n",
      "215\n",
      "KAN\n",
      "265\n",
      "STM\n",
      "432\n",
      "ETH\n",
      "135\n",
      "PAS\n",
      "90\n",
      "LZD\n",
      "2\n",
      "CYS\n",
      "152\n",
      "CFZ\n",
      "3\n",
      "CIP\n",
      "59\n",
      "RFB\n",
      "282\n"
     ]
    }
   ],
   "source": [
    "significant_results = subset.query('pval_beta_i_on_j_BH_sig and not is_lineage_i and not is_lineage_j')\n",
    "!mkdir 03.annotation/AB_to_UK\n",
    "\n",
    "for key,vals in ab_to_genes.items():\n",
    "    print(key)\n",
    "    #print(significant_results.query(\"gene_name_i in @vals and gene_name_j in @vals\"))\n",
    "    x = significant_results.query(\"gene_name_j in @vals\").sort_values(\n",
    "        \"n_muts_i_on_branch_j\", ascending=False\n",
    "    )\n",
    "    print(len(x))\n",
    "    \n",
    "    significant_results.query(\"gene_name_j in @vals\").sort_values(\n",
    "        \"n_muts_i_on_branch_j\", ascending=False\n",
    "    ).to_csv(\n",
    "     f\"03.annotation/AB_to_UK/{key}_significant_pairs.csv\", index=None\n",
    "    )\n",
    "significant_results.query(\"gene_name_j in @AB_gene_names\").to_csv(\"03.annotation/AB_to_UK_all.csv\")"
   ]
  },
  {
   "cell_type": "markdown",
   "metadata": {},
   "source": [
    "## Between antibiotics (due to colinearity)"
   ]
  },
  {
   "cell_type": "code",
   "execution_count": 12,
   "metadata": {},
   "outputs": [
    {
     "name": "stdout",
     "output_type": "stream",
     "text": [
      "mkdir: cannot create directory ‘03.annotation/between_AB’: File exists\n",
      "INH ['ahpC', 'r_ahpC', 'fabG1', 'r_fabG1', 'inhA', 'r_inhA', 'katG', 'r_katG', 'mshA', 'r_mshA', 'furA', 'r_furA', 'ndh', 'r_ndh', 'Rv1258c', 'r_Rv1258c', 'Rv2752c', 'r_Rv2752c']\n",
      "264\n",
      "RIF ['rpoB', 'r_rpoB', 'rpoA', 'r_rpoA', 'rpoC', 'r_rpoC', 'Rv2752c', 'r_Rv2752c']\n",
      "475\n",
      "EMB ['embA', 'r_embA', 'embB', 'r_embB', 'embC', 'r_embC', 'embR', 'r_embR', 'ubiA', 'r_ubiA']\n",
      "441\n",
      "PZA ['pncA', 'r_pncA', 'clpC1', 'r_clpC1', 'panD', 'r_panD', 'Rv1258c', 'r_Rv1258c', 'PPE35', 'r_PPE35', 'Rv3236c', 'r_Rv3236c']\n",
      "275\n",
      "MFX ['gyrA', 'r_gyrA', 'gyrB', 'r_gyrB']\n",
      "213\n",
      "LEV ['gyrA', 'r_gyrA', 'gyrB', 'r_gyrB']\n",
      "213\n",
      "OFX ['gyrA', 'r_gyrA', 'gyrB', 'r_gyrB']\n",
      "213\n",
      "AMI ['rrs', 'r_rrs', 'eis', 'r_eis', 'whiB7', 'r_whiB7', 'whiB6', 'r_whiB6', 'ccsA', 'r_ccsA', 'fprA', 'r_fprA', 'aftB', 'r_aftB']\n",
      "207\n",
      "CAP ['rrs', 'r_rrs', 'tlyA', 'r_tlyA', 'whiB6', 'r_whiB6', 'fprA', 'r_fprA', 'ccsA', 'r_ccsA', 'aftB', 'r_aftB']\n",
      "129\n",
      "KAN ['rrs', 'r_rrs', 'eis', 'r_eis', 'whiB7', 'r_whiB7', 'whiB6', 'r_whiB6', 'ccsA', 'r_ccsA', 'fprA', 'r_fprA', 'aftB', 'r_aftB']\n",
      "207\n",
      "STM ['rrs', 'r_rrs', 'rpsL', 'r_rpsL', 'gid', 'r_gid', 'whiB7', 'r_whiB7', 'Rv1258c', 'r_Rv1258c', 'whiB6', 'r_whiB6']\n",
      "271\n",
      "ETH ['inhA', 'r_inhA', 'fabG1', 'r_fabG1', 'ethA', 'r_ethA', 'ethR', 'r_ethR', 'ndh', 'r_ndh', 'mshA', 'r_mshA', 'Rv3083', 'r_Rv3083']\n",
      "162\n",
      "PAS ['ribD', 'r_ribD', 'thyA', 'r_thyA', 'thyX', 'r_thyX', 'folC', 'r_folC']\n",
      "68\n",
      "LZD ['rplC', 'r_rplC', 'rrl', 'r_rrl', 'Rv1816', 'r_Rv1816', 'mmpL3', 'r_mmpL3', 'Rv3249c', 'r_Rv3249c']\n",
      "0\n",
      "CYS ['alr', 'r_alr']\n",
      "27\n",
      "CFZ ['pepQ', 'r_pepQ', 'Rv0678', 'r_Rv0678', 'mmpL5', 'r_mmpL5', 'mmpS5', 'r_mmpS5', 'Rv1979c', 'r_Rv1979c', 'Rv1816', 'r_Rv1816', 'mmpL3', 'r_mmpL3', 'Rv3249c', 'r_Rv3249c']\n",
      "2\n",
      "CIP ['gyrA', 'r_gyrA', 'gyrB', 'r_gyrB']\n",
      "213\n",
      "RFB ['rpoB', 'r_rpoB', 'rpoA', 'r_rpoA', 'rpoC', 'r_rpoC', 'Rv2752c', 'r_Rv2752c']\n",
      "475\n"
     ]
    }
   ],
   "source": [
    "!mkdir 03.annotation/between_AB\n",
    "\n",
    "r = results.query(\"gene_name_i in @AB_gene_names and gene_name_j in @AB_gene_names\")\n",
    "\n",
    "significant_results = r.query('pval_beta_i_on_j_BH_sig and not is_lineage_i and not is_lineage_j')\n",
    "all_results = r.query('not is_lineage_i and not is_lineage_j')\n",
    "\n",
    "for key,vals in ab_to_genes.items():\n",
    "    print(key, vals)\n",
    "\n",
    "    significant_results.query(\"not gene_name_i in @vals and gene_name_j in @vals\").sort_values(\n",
    "        \"n_muts_i_on_branch_j\", ascending=False\n",
    "    ).to_csv(\n",
    "     f\"03.annotation/between_AB/{key}_significant_pairs_0p001.csv\", index=None\n",
    "    )\n",
    "    \n",
    "    sig_results =significant_results.query(\"gene_name_i in @vals and not gene_name_j in @vals\")\n",
    "    print(len(sig_results))"
   ]
  },
  {
   "cell_type": "markdown",
   "metadata": {},
   "source": [
    "## All antibiotic-associated"
   ]
  },
  {
   "cell_type": "code",
   "execution_count": 13,
   "metadata": {},
   "outputs": [
    {
     "name": "stdout",
     "output_type": "stream",
     "text": [
      "9522\n"
     ]
    }
   ],
   "source": [
    "r = results.query(\"gene_name_i in @AB_gene_names or gene_name_j in @AB_gene_names\")\n",
    "\n",
    "significant_results = r.query('pval_beta_i_on_j_BH_sig and not is_lineage_i and not is_lineage_j')\n",
    "all_results = r.query('not is_lineage_i and not is_lineage_j')\n",
    "\n",
    "significant_results.to_csv(\"03.annotation/all_AB_associated_significant.csv\")\n",
    "print(len(significant_results))"
   ]
  },
  {
   "cell_type": "code",
   "execution_count": null,
   "metadata": {},
   "outputs": [],
   "source": []
  }
 ],
 "metadata": {
  "kernelspec": {
   "display_name": "Python 3",
   "language": "python",
   "name": "python3"
  },
  "language_info": {
   "codemirror_mode": {
    "name": "ipython",
    "version": 3
   },
   "file_extension": ".py",
   "mimetype": "text/x-python",
   "name": "python",
   "nbconvert_exporter": "python",
   "pygments_lexer": "ipython3",
   "version": "3.7.4"
  }
 },
 "nbformat": 4,
 "nbformat_minor": 4
}
