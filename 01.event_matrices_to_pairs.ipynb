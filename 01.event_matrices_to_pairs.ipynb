{
 "cells": [
  {
   "cell_type": "code",
   "execution_count": 1,
   "metadata": {},
   "outputs": [],
   "source": [
    "import ete3\n",
    "import numpy as np\n",
    "import pandas as pd\n",
    "import matplotlib.pyplot as plt\n",
    "from evcouplings.align import Alignment\n",
    "from collections import defaultdict\n",
    "from copy import deepcopy\n",
    "import time\n",
    "import random\n",
    "from scipy import stats\n",
    "from scipy.stats import mode\n",
    "import seaborn as sns\n",
    "import warnings\n",
    "warnings.filterwarnings(\"ignore\")"
   ]
  },
  {
   "cell_type": "markdown",
   "metadata": {},
   "source": [
    "## Step 1: verify input data meets quality controls"
   ]
  },
  {
   "cell_type": "raw",
   "metadata": {},
   "source": [
    "Input mutation event matrix + reversion matrix should not have any columns (positions) that are all 0's"
   ]
  },
  {
   "cell_type": "code",
   "execution_count": 2,
   "metadata": {},
   "outputs": [
    {
     "name": "stdout",
     "output_type": "stream",
     "text": [
      "We find this many positions with no mutation 0\n"
     ]
    }
   ],
   "source": [
    "mutation_matrix = np.load(\"00.mutation_data_by_lineage/00.combined_data/all_mutation_matrix_5strain_filtering.npy\")\n",
    "reversion_matrix = np.load(\"00.mutation_data_by_lineage/00.combined_data/all_reversion_matrix_5strain_filtering.npy\")\n",
    "n_mutations_per_position = mutation_matrix.sum(axis=0) + reversion_matrix.sum(axis=0)\n",
    "print(\"We find this many positions with no mutation\", len(np.argwhere(n_mutations_per_position==0)))"
   ]
  },
  {
   "cell_type": "markdown",
   "metadata": {},
   "source": [
    "## Step 2: Impose filtering for number of mutation events"
   ]
  },
  {
   "cell_type": "code",
   "execution_count": 6,
   "metadata": {},
   "outputs": [
    {
     "name": "stdout",
     "output_type": "stream",
     "text": [
      "4776 positions have 5 or more mutations \n"
     ]
    }
   ],
   "source": [
    "# Load list of all positions\n",
    "positions = np.load(\"00.mutation_data_by_lineage/00.combined_data/all_positions_5strain_filtering.npy\")\n",
    "mutation_frequency_table = pd.read_csv(\"00.mutation_data_by_lineage/event_frequency_table.csv\")\n",
    "\n",
    "#Makes sure that the 5 events we observed are actually mutations - not reversions\n",
    "mutation_frequency_table_filtered = mutation_frequency_table.query(\"Position in @positions\")\n",
    "mutation_frequency_table_filtered[\"mutations_from_mutmat\"] = mutation_matrix.sum(axis=0)\n",
    "\n",
    "N=5\n",
    "at_least_5_mutations = mutation_frequency_table_filtered.query(f\"mutations_from_mutmat >= {N}\")\n",
    "print(f\"{len(at_least_5_mutations)} positions have {N} or more mutations \")\n",
    "\n",
    "# Get the indices of positions that meet the quality filter\n",
    "f_hits = set(at_least_5_mutations.Position)\n",
    "filtered_positions = [x for x in positions if x in f_hits]\n",
    "pos_list = list(positions)\n",
    "filtered_position_idx = [pos_list.index(x) for x in filtered_positions]\n"
   ]
  },
  {
   "cell_type": "code",
   "execution_count": 8,
   "metadata": {},
   "outputs": [
    {
     "name": "stdout",
     "output_type": "stream",
     "text": [
      "mkdir: cannot create directory ‘01.mutation_and_comutation_data’: File exists\n"
     ]
    }
   ],
   "source": [
    "# Filter the mutation, background, and reversion matrix\n",
    "!mkdir 01.mutation_and_comutation_data\n",
    "\n",
    "mutation_matrix = np.load(\"00.mutation_data_by_lineage/00.combined_data/all_mutation_matrix_5strain_filtering.npy\")\n",
    "background_matrix = np.load(\"00.mutation_data_by_lineage/00.combined_data/all_background_matrix_5strain_filtering.npy\")\n",
    "reversion_matrix = np.load(\"00.mutation_data_by_lineage/00.combined_data/all_reversion_matrix_5strain_filtering.npy\")\n",
    "\n",
    "filtered_mutation_matrix = mutation_matrix[:,np.array(filtered_position_idx)]\n",
    "filtered_background_matrix = background_matrix[:,np.array(filtered_position_idx)]\n",
    "filtered_reversion_matrix = reversion_matrix[:,np.array(filtered_position_idx)]\n",
    "\n",
    "np.save(\"01.mutation_and_comutation_data/all_mutation_matrix_5event_filtering.npy\", filtered_mutation_matrix)\n",
    "np.save(\"01.mutation_and_comutation_data/all_reversion_matrix_5event_filtering.npy\", filtered_reversion_matrix)\n",
    "np.save(\"01.mutation_and_comutation_data/all_background_matrix_5event_filtering.npy\", filtered_background_matrix)\n",
    "np.save(\"01.mutation_and_comutation_data/all_positions_5event_filtering.npy\", np.array(filtered_positions))"
   ]
  },
  {
   "cell_type": "markdown",
   "metadata": {},
   "source": [
    "## Step 3: generate first-order statistics df"
   ]
  },
  {
   "cell_type": "code",
   "execution_count": 9,
   "metadata": {},
   "outputs": [
    {
     "name": "stdout",
     "output_type": "stream",
     "text": [
      "(4776,) (62846, 4776) (62846, 4776) (62846, 4776)\n"
     ]
    }
   ],
   "source": [
    "mutation_matrix = np.load(\"01.mutation_and_comutation_data/all_mutation_matrix_5event_filtering.npy\")\n",
    "background_matrix = np.load(\"01.mutation_and_comutation_data/all_background_matrix_5event_filtering.npy\")\n",
    "reversion_matrix = np.load(\"01.mutation_and_comutation_data/all_reversion_matrix_5event_filtering.npy\")\n",
    "positions = np.load(\"01.mutation_and_comutation_data/all_positions_5event_filtering.npy\")\n",
    "print(positions.shape, mutation_matrix.shape, background_matrix.shape, reversion_matrix.shape)\n",
    "\n",
    "mutations_sum = np.sum(mutation_matrix, axis=0)\n",
    "reversions_sum = np.sum(reversion_matrix, axis=0)\n",
    "background_sum = np.sum(background_matrix, axis=0)\n",
    "\n",
    "first_order_stats = pd.DataFrame({\n",
    "    \"pos\": positions, \n",
    "    \"n_mutations\": mutations_sum, \n",
    "    \"n_reversions\": reversions_sum, \n",
    "    \"n_branches_with\": background_sum\n",
    "})\n",
    "first_order_stats[\"mat_index\"] = first_order_stats.index  \n",
    "first_order_stats.to_csv(\"01.mutation_and_comutation_data/first_order_statistics.csv\")"
   ]
  },
  {
   "cell_type": "markdown",
   "metadata": {},
   "source": [
    "## Step 4: calculate second-order statistics"
   ]
  },
  {
   "cell_type": "code",
   "execution_count": 11,
   "metadata": {
    "scrolled": true
   },
   "outputs": [],
   "source": [
    "# #### Don't rerun unless needed - computationally intensive\n",
    "\n",
    "# all_hits = []\n",
    "\n",
    "# # For each position\n",
    "# for idx, i in enumerate(positions):\n",
    "#     print(idx)\n",
    "    \n",
    "#     # Vector of mutations that happen in position i\n",
    "#     i_muts = mutation_matrix[:,idx]\n",
    "    \n",
    "#     # Vector of branches that start with mutation i in background\n",
    "#     i_branch = background_matrix[:,idx]\n",
    "\n",
    "#     for jdx, j in enumerate(positions):\n",
    "#         # don't calculate lower diagonal of matrix\n",
    "#         if j <= i:\n",
    "#             continue\n",
    "        \n",
    "#         # Vectors of mutations and branches in position j\n",
    "#         j_muts = mutation_matrix[:, jdx]\n",
    "#         j_branch = background_matrix[:, jdx]\n",
    "        \n",
    "#         n_muts_i_on_branch_j = np.sum((i_muts + j_branch) > 1)\n",
    "#         n_muts_j_on_branch_i = np.sum((j_muts + i_branch) > 1)\n",
    "        \n",
    "#         n_muts_same_branch = np.sum((i_muts + j_muts) > 1)\n",
    "        \n",
    "#         n_branch_i_and_j = np.sum((j_branch + i_branch) > 1)\n",
    "        \n",
    "#         n_branch_with_i_no_j = np.sum(i_branch) - n_branch_i_and_j\n",
    "#         n_branch_with_j_no_i = np.sum(j_branch) - n_branch_i_and_j\n",
    "                \n",
    "#         all_hits.append([\n",
    "#             idx, i, jdx, j, n_muts_i_on_branch_j, n_muts_j_on_branch_i, n_muts_same_branch,\n",
    "#             n_branch_with_i_no_j, n_branch_with_j_no_i, n_branch_i_and_j\n",
    "#         ])\n",
    "        \n",
    "# colnames = [\"mat_index_i\", \"position_i\", \"mat_index_j\", \"position_j\", \n",
    "#         \"n_muts_i_on_branch_j\", \"n_muts_j_on_branch_i\", \"n_muts_same_branch\",\n",
    "#             \"n_branch_with_i_no_j\", \"n_branch_with_j_no_i\", \"n_branch_i_and_j\"]\n",
    "# x = pd.DataFrame(all_hits, columns = colnames)\n",
    "# x.to_csv(\"01.mutation_and_comutation_data/pairwise_statistics.csv\")\n"
   ]
  },
  {
   "cell_type": "markdown",
   "metadata": {},
   "source": [
    "## Step 5: Combine into full dataframe"
   ]
  },
  {
   "cell_type": "code",
   "execution_count": 15,
   "metadata": {},
   "outputs": [
    {
     "name": "stdout",
     "output_type": "stream",
     "text": [
      "Total number of pairs 11255140\n",
      "after filtering for co-occuring events 917952\n"
     ]
    }
   ],
   "source": [
    "first_order = pd.read_csv(\"01.mutation_and_comutation_data/first_order_statistics.csv\", index_col = 0)\n",
    "pairwise_raw = pd.read_csv(\"01.mutation_and_comutation_data/pairwise_statistics.csv\", index_col = 0)\n",
    "\n",
    "# Filtering on pairwise matrix so that we only have mutations that actually co-occurr\n",
    "print(\"Total number of pairs\", len(pairwise_raw))\n",
    "pairwise = pairwise_raw.query(\"n_muts_i_on_branch_j > 0 or n_muts_j_on_branch_i >0\")\n",
    "print(\"after filtering for co-occuring events\", len(pairwise))"
   ]
  },
  {
   "cell_type": "code",
   "execution_count": 17,
   "metadata": {},
   "outputs": [
    {
     "data": {
      "image/png": "[encoded data removed]",
      "text/plain": [
       "<Figure size 432x288 with 1 Axes>"
      ]
     },
     "metadata": {
      "needs_background": "light"
     },
     "output_type": "display_data"
    }
   ],
   "source": [
    "fig=plt.figure()\n",
    "ax=fig.gca()\n",
    "ax.hist(np.log10(first_order.n_mutations), bins=50)\n",
    "ax.set_xlabel(\"Log10(N_mutations)\")\n",
    "\n",
    "sns.despine()\n"
   ]
  },
  {
   "cell_type": "code",
   "execution_count": 18,
   "metadata": {},
   "outputs": [
    {
     "data": {
      "image/png": "[encoded data removed]",
      "text/plain": [
       "<Figure size 432x288 with 1 Axes>"
      ]
     },
     "metadata": {
      "needs_background": "light"
     },
     "output_type": "display_data"
    }
   ],
   "source": [
    "fig=plt.figure()\n",
    "ax=fig.gca()\n",
    "first_order[\"log_n_branches\"] = [np.log10(x) if x > 0 else 0 for x in first_order.n_branches_with]\n",
    "ax.hist(first_order.log_n_branches, bins=20)\n",
    "ax.set_xlabel(\"Log10(N_branches)\")\n",
    "\n",
    "sns.despine()\n"
   ]
  },
  {
   "cell_type": "code",
   "execution_count": 19,
   "metadata": {},
   "outputs": [],
   "source": [
    "# Add the first order statistics to the pairwise df\n",
    "merged = pairwise.merge(first_order, left_on=\"position_i\", right_on = \"pos\", how=\"left\")\n",
    "merged = merged.merge(first_order, left_on = \"position_j\", right_on = \"pos\", how=\"left\", suffixes=[\"_i\", \"_j\"])\n",
    "\n",
    "# Select only needed columns and save\n",
    "merged = merged[['position_i', 'mat_index_i', 'position_j','mat_index_j', \n",
    "                 'n_mutations_i', 'n_mutations_j','n_reversions_i',\n",
    "                 'n_reversions_j','n_branches_with_i','n_branches_with_j',\n",
    "                 'n_muts_i_on_branch_j', 'n_muts_j_on_branch_i', 'n_muts_same_branch',\n",
    "                 'n_branch_with_i_no_j', 'n_branch_with_j_no_i', 'n_branch_i_and_j']]\n",
    "\n",
    "merged.to_csv(\"01.mutation_and_comutation_data/combined_position.csv\")"
   ]
  },
  {
   "cell_type": "code",
   "execution_count": 20,
   "metadata": {},
   "outputs": [
    {
     "data": {
      "text/plain": [
       "<seaborn.axisgrid.JointGrid at 0x7f81a3c5d310>"
      ]
     },
     "execution_count": 20,
     "metadata": {},
     "output_type": "execute_result"
    },
    {
     "data": {
      "image/png": "[encoded data removed]",
      "text/plain": [
       "<Figure size 432x432 with 3 Axes>"
      ]
     },
     "metadata": {
      "needs_background": "light"
     },
     "output_type": "display_data"
    }
   ],
   "source": [
    "p = merged.query(\"n_mutations_i >4 and n_mutations_j > 4\")\n",
    "len(p)\n",
    "sns.jointplot(data=p, x=\"n_mutations_i\", y=\"n_mutations_j\", kind=\"hex\", bins=20)\n"
   ]
  },
  {
   "cell_type": "code",
   "execution_count": null,
   "metadata": {},
   "outputs": [],
   "source": []
  }
 ],
 "metadata": {
  "kernelspec": {
   "display_name": "Python 3",
   "language": "python",
   "name": "python3"
  },
  "language_info": {
   "codemirror_mode": {
    "name": "ipython",
    "version": 3
   },
   "file_extension": ".py",
   "mimetype": "text/x-python",
   "name": "python",
   "nbconvert_exporter": "python",
   "pygments_lexer": "ipython3",
   "version": "3.7.4"
  }
 },
 "nbformat": 4,
 "nbformat_minor": 4
}
