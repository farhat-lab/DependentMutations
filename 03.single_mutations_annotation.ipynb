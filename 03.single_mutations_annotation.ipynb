{
 "cells": [
  {
   "cell_type": "code",
   "execution_count": 4,
   "id": "31161dce-7116-4c88-a169-1d736e484460",
   "metadata": {},
   "outputs": [],
   "source": [
    "import pandas as pd\n",
    "import matplotlib.pyplot as plt\n",
    "import seaborn as sns\n",
    "import numpy as np\n",
    "from scipy.stats import chisquare"
   ]
  },
  {
   "cell_type": "raw",
   "id": "75cd9892-4411-4f1c-ae91-5d7d7dfeeef7",
   "metadata": {},
   "source": [
    "## Notbeook to analyze properties of the single mutations observed in the dataset. \n",
    "\n",
    "In particular: \n",
    "# of times each mutation happens\n",
    "# of branches on which each mutation is found\n",
    "age index of each mutation\n",
    "Mean # of lineages per mutation\n",
    "\n",
    "whether mutation is found in epitope region\n",
    "whether mutation is found in antigenic protein (non-epitope region)\n",
    "\n",
    "whether mutation is found in known resistance site (WHO)\n",
    "whether mutation is found in posisble resistance site (wide set of genes)\n",
    "\n",
    "Baselines: what fraction of all sites in the genome are represented by each category\n",
    "\n",
    "Is there an overrepresentation of any of the categories? "
   ]
  },
  {
   "cell_type": "markdown",
   "id": "4a878256-b826-41c4-9fea-6dc496ef5c98",
   "metadata": {},
   "source": [
    "## Individual mutation statistics"
   ]
  },
  {
   "cell_type": "code",
   "execution_count": 5,
   "id": "49075706-3870-4fe3-8924-9fd6bb62f8f8",
   "metadata": {},
   "outputs": [
    {
     "name": "stdout",
     "output_type": "stream",
     "text": [
      "4743\n"
     ]
    }
   ],
   "source": [
    "first_order = pd.read_csv(\"output/01.mutation_and_comutation_data/first_order_statistics.csv\", index_col = 0)\n",
    "print(len(first_order))"
   ]
  },
  {
   "cell_type": "code",
   "execution_count": 6,
   "id": "b9bf9777-6a05-417c-ba09-eab9333ed4c1",
   "metadata": {},
   "outputs": [
    {
     "data": {
      "image/png": "[encoded data removed]",
      "text/plain": [
       "<Figure size 432x288 with 1 Axes>"
      ]
     },
     "metadata": {
      "needs_background": "light"
     },
     "output_type": "display_data"
    }
   ],
   "source": [
    "fig=plt.figure()\n",
    "ax=fig.gca()\n",
    "ax.hist(np.log10(first_order.n_mutations), bins=50)\n",
    "ax.set_xlabel(\"Number of mutations\")\n",
    "ax.set_xticks([1,2,3])\n",
    "ax.set_xticklabels([10, 100, 1000])\n",
    "sns.despine()\n"
   ]
  },
  {
   "cell_type": "code",
   "execution_count": 7,
   "id": "864c774e-cd63-406d-8d81-0fa9133e38cb",
   "metadata": {},
   "outputs": [
    {
     "name": "stderr",
     "output_type": "stream",
     "text": [
      "/tmp/ipykernel_24641/1130403591.py:6: UserWarning: FixedFormatter should only be used together with FixedLocator\n",
      "  ax.set_xticklabels([0, 1, 10, 100, 1000, 10000])\n"
     ]
    },
    {
     "data": {
      "image/png": "[encoded data removed]",
      "text/plain": [
       "<Figure size 432x288 with 1 Axes>"
      ]
     },
     "metadata": {
      "needs_background": "light"
     },
     "output_type": "display_data"
    }
   ],
   "source": [
    "fig=plt.figure()\n",
    "ax=fig.gca()\n",
    "first_order[\"log_n_branches\"] = [np.log10(x) if x > 0 else 0 for x in first_order.n_branches_with]\n",
    "ax.hist(first_order.log_n_branches, bins=20)\n",
    "ax.set_xlabel(\"Number of branches\")\n",
    "ax.set_xticklabels([0, 1, 10, 100, 1000, 10000])\n",
    "sns.despine()"
   ]
  },
  {
   "cell_type": "code",
   "execution_count": 8,
   "id": "86177ca3-b174-4e8a-8008-bbc2fc9df6bc",
   "metadata": {},
   "outputs": [
    {
     "name": "stderr",
     "output_type": "stream",
     "text": [
      "/tmp/ipykernel_24641/377992423.py:8: UserWarning: FixedFormatter should only be used together with FixedLocator\n",
      "  ax.set_xticklabels([0, 0.1, 1, 10, 100, 1000, 10000])\n"
     ]
    },
    {
     "data": {
      "image/png": "[encoded data removed]",
      "text/plain": [
       "<Figure size 432x288 with 1 Axes>"
      ]
     },
     "metadata": {
      "needs_background": "light"
     },
     "output_type": "display_data"
    }
   ],
   "source": [
    "first_order[\"age_index\"] = first_order.n_branches_with\n",
    "\n",
    "first_order[\"log10_age_index\"] = [np.log10(x) if x >0 else np.nan for x in first_order.age_index]\n",
    "\n",
    "fig= plt.figure()\n",
    "ax = fig.gca()\n",
    "ax.hist(first_order.log10_age_index, bins=50)\n",
    "ax.set_xticklabels([0, 0.1, 1, 10, 100, 1000, 10000])\n",
    "ax.set_xlabel(\"Number of descendant branches per mutation\")\n",
    "sns.despine()"
   ]
  },
  {
   "cell_type": "code",
   "execution_count": 9,
   "id": "2ba976a6-7a7d-42d4-bff4-96d3453e2f7d",
   "metadata": {},
   "outputs": [
    {
     "name": "stdout",
     "output_type": "stream",
     "text": [
      "2.4444444444444446\n"
     ]
    }
   ],
   "source": [
    "print(np.median(first_order.age_index))"
   ]
  },
  {
   "cell_type": "markdown",
   "id": "34ee978f-f116-49b8-a296-eac40af3d9d0",
   "metadata": {},
   "source": [
    "## Median number of lineages per mutation"
   ]
  },
  {
   "cell_type": "code",
   "execution_count": 10,
   "id": "b71dcc04-aabf-458c-9f8e-dabf0cb82990",
   "metadata": {},
   "outputs": [
    {
     "data": {
      "text/plain": [
       "3.0"
      ]
     },
     "execution_count": 10,
     "metadata": {},
     "output_type": "execute_result"
    }
   ],
   "source": [
    "\n",
    "first_order = pd.read_csv(\"output/01.mutation_and_comutation_data/first_order_statistics.csv\", index_col = 0)\n",
    "event_freqs = pd.read_csv(\"output/00.mutation_data_by_lineage/event_frequency_table.csv\")\n",
    "first_order = first_order.merge(event_freqs, left_on=\"pos\", right_on=\"Position\", how=\"inner\")\n",
    "first_order[\"L4\"] = first_order.L4A + first_order.L4B + first_order.L4C\n",
    "lineage_columns = ['L1', 'L2', 'L3', 'L4', 'L5', 'L6']\n",
    "\n",
    "\n",
    "first_order[\"num_lineages_with_mutation\"] = np.sum(first_order[lineage_columns].values > 0,axis=1)\n",
    "np.median(first_order.num_lineages_with_mutation)"
   ]
  },
  {
   "cell_type": "markdown",
   "id": "a87659f7-1386-48f4-8819-11e1cdff8e34",
   "metadata": {},
   "source": [
    "# Analyses of SNP data"
   ]
  },
  {
   "cell_type": "code",
   "execution_count": 11,
   "id": "67a7aaff-e7cb-4e28-8871-2a7e22e400d7",
   "metadata": {},
   "outputs": [],
   "source": [
    "# # Read in the SNP annotation file\n",
    "snps = pd.read_pickle(\"input/genotypes_SNP_annotation.pkl\")\n",
    "\n",
    "# Filter for just snps in our analysis\n",
    "positions = pd.read_csv(\"output/01.mutation_and_comutation_data/first_order_statistics.csv\", index_col=0)\n",
    "snps = snps.query(\"pos in @positions.pos\")"
   ]
  },
  {
   "cell_type": "code",
   "execution_count": 12,
   "id": "5c871258-7cdb-438b-bac5-c511af54e269",
   "metadata": {},
   "outputs": [
    {
     "name": "stdout",
     "output_type": "stream",
     "text": [
      "0.19460257221168037\n"
     ]
    }
   ],
   "source": [
    "#percent intergenic\n",
    "print(len(snps.query(\"gene_id=='intergenic'\"))/len(snps))"
   ]
  },
  {
   "cell_type": "markdown",
   "id": "3a581a1f-91d3-4123-b218-447efd38331d",
   "metadata": {},
   "source": [
    "# Lineage annotation"
   ]
  },
  {
   "cell_type": "code",
   "execution_count": 13,
   "id": "be3774d6-33dc-43fa-af95-b6eec9c4cd28",
   "metadata": {},
   "outputs": [
    {
     "name": "stdout",
     "output_type": "stream",
     "text": [
      "mkdir: cannot create directory ‘output/03.annotation’: File exists\n"
     ]
    }
   ],
   "source": [
    "# add lineage annotaiton to the results\n",
    "!mkdir output/03.annotation\n",
    "# Lineage positions from Freschi et al 2021\n",
    "lineage_positions = pd.read_csv(\n",
    "    \"input/list_lineage_specific_snps_99_1.txt\", header=None)\n",
    "lineage_positions[\"position\"] = [int(x.split(\"_\")[0]) for x in lineage_positions[0]]\n",
    "\n",
    "# Lineage positions from Coll et al 2014\n",
    "coll_positions = pd.read_csv(\n",
    "    \"input/Coll_2014_lineage_barcode.csv\",\n",
    "    index_col=0\n",
    ")\n",
    "\n",
    "# Find out which SNPs are in the lineage set\n",
    "coll_pos = set(coll_positions.position)\n",
    "lineage_pos = set(lineage_positions.position)\n",
    "lineage_mutation_indices  = snps.query(\"pos in @coll_pos or pos in @lineage_pos\").index\n",
    "\n",
    "# Annotate in SNP dataframe\n",
    "snps[\"is_lineage\"] = False\n",
    "snps.loc[lineage_mutation_indices, \"is_lineage\"] = True\n",
    "\n",
    "snps.to_csv(\"output/03.annotation/snps_with_gene_annotation.csv\")"
   ]
  },
  {
   "cell_type": "markdown",
   "id": "6bb562c7-4682-43a4-8240-3595da0fa39f",
   "metadata": {},
   "source": [
    "## Mutations are found in epitope regions"
   ]
  },
  {
   "cell_type": "code",
   "execution_count": 14,
   "id": "f8904087-71ac-4564-a61b-ad009062df65",
   "metadata": {},
   "outputs": [
    {
     "data": {
      "text/html": [
       "<div>\n",
       "<style scoped>\n",
       "    .dataframe tbody tr th:only-of-type {\n",
       "        vertical-align: middle;\n",
       "    }\n",
       "\n",
       "    .dataframe tbody tr th {\n",
       "        vertical-align: top;\n",
       "    }\n",
       "\n",
       "    .dataframe thead th {\n",
       "        text-align: right;\n",
       "    }\n",
       "</style>\n",
       "<table border=\"1\" class=\"dataframe\">\n",
       "  <thead>\n",
       "    <tr style=\"text-align: right;\">\n",
       "      <th></th>\n",
       "      <th>Epitope ID</th>\n",
       "      <th>Description</th>\n",
       "      <th>Starting Position</th>\n",
       "      <th>Ending Position</th>\n",
       "      <th>Antigen Name</th>\n",
       "      <th>Antigen Accession</th>\n",
       "      <th>Parent Protein</th>\n",
       "      <th>Parent Protein Accession</th>\n",
       "      <th>Entry</th>\n",
       "      <th>locus_id</th>\n",
       "    </tr>\n",
       "  </thead>\n",
       "  <tbody>\n",
       "    <tr>\n",
       "      <th>0</th>\n",
       "      <td>19</td>\n",
       "      <td>AAAAKLAGLVFPQPPAPIAV</td>\n",
       "      <td>14.0</td>\n",
       "      <td>33.0</td>\n",
       "      <td>CONSERVED HYPOTHETICAL ALANINE RICH PROTEIN</td>\n",
       "      <td>CAA17970.1</td>\n",
       "      <td>ESX-1 secretion-associated protein EspJ</td>\n",
       "      <td>P9WJC3</td>\n",
       "      <td>P9WJC3</td>\n",
       "      <td>Rv3878</td>\n",
       "    </tr>\n",
       "    <tr>\n",
       "      <th>1</th>\n",
       "      <td>250</td>\n",
       "      <td>AAKLAGLVFPQPPAP</td>\n",
       "      <td>16.0</td>\n",
       "      <td>30.0</td>\n",
       "      <td>CONSERVED HYPOTHETICAL ALANINE RICH PROTEIN</td>\n",
       "      <td>CAA17970.1</td>\n",
       "      <td>ESX-1 secretion-associated protein EspJ</td>\n",
       "      <td>P9WJC3</td>\n",
       "      <td>P9WJC3</td>\n",
       "      <td>Rv3878</td>\n",
       "    </tr>\n",
       "    <tr>\n",
       "      <th>2</th>\n",
       "      <td>1020</td>\n",
       "      <td>AEKPATEQAEPVHEVTNDDQ</td>\n",
       "      <td>194.0</td>\n",
       "      <td>213.0</td>\n",
       "      <td>hypothetical protein Rv3878 - Mycobacterium tu...</td>\n",
       "      <td>D70803</td>\n",
       "      <td>ESX-1 secretion-associated protein EspJ</td>\n",
       "      <td>P9WJC3</td>\n",
       "      <td>P9WJC3</td>\n",
       "      <td>Rv3878</td>\n",
       "    </tr>\n",
       "    <tr>\n",
       "      <th>3</th>\n",
       "      <td>1452</td>\n",
       "      <td>AGARPAASPLAAPVDPSTPA</td>\n",
       "      <td>254.0</td>\n",
       "      <td>273.0</td>\n",
       "      <td>CONSERVED HYPOTHETICAL ALANINE RICH PROTEIN</td>\n",
       "      <td>CAA17970.1</td>\n",
       "      <td>ESX-1 secretion-associated protein EspJ</td>\n",
       "      <td>P9WJC3</td>\n",
       "      <td>P9WJC3</td>\n",
       "      <td>Rv3878</td>\n",
       "    </tr>\n",
       "    <tr>\n",
       "      <th>4</th>\n",
       "      <td>7992</td>\n",
       "      <td>DEGAGASPGQQPGGGVPAQA</td>\n",
       "      <td>230.0</td>\n",
       "      <td>249.0</td>\n",
       "      <td>CONSERVED HYPOTHETICAL ALANINE RICH PROTEIN</td>\n",
       "      <td>CAA17970.1</td>\n",
       "      <td>ESX-1 secretion-associated protein EspJ</td>\n",
       "      <td>P9WJC3</td>\n",
       "      <td>P9WJC3</td>\n",
       "      <td>Rv3878</td>\n",
       "    </tr>\n",
       "  </tbody>\n",
       "</table>\n",
       "</div>"
      ],
      "text/plain": [
       "   Epitope ID           Description  Starting Position  Ending Position  \\\n",
       "0          19  AAAAKLAGLVFPQPPAPIAV               14.0             33.0   \n",
       "1         250       AAKLAGLVFPQPPAP               16.0             30.0   \n",
       "2        1020  AEKPATEQAEPVHEVTNDDQ              194.0            213.0   \n",
       "3        1452  AGARPAASPLAAPVDPSTPA              254.0            273.0   \n",
       "4        7992  DEGAGASPGQQPGGGVPAQA              230.0            249.0   \n",
       "\n",
       "                                        Antigen Name Antigen Accession  \\\n",
       "0        CONSERVED HYPOTHETICAL ALANINE RICH PROTEIN        CAA17970.1   \n",
       "1        CONSERVED HYPOTHETICAL ALANINE RICH PROTEIN        CAA17970.1   \n",
       "2  hypothetical protein Rv3878 - Mycobacterium tu...            D70803   \n",
       "3        CONSERVED HYPOTHETICAL ALANINE RICH PROTEIN        CAA17970.1   \n",
       "4        CONSERVED HYPOTHETICAL ALANINE RICH PROTEIN        CAA17970.1   \n",
       "\n",
       "                            Parent Protein Parent Protein Accession   Entry  \\\n",
       "0  ESX-1 secretion-associated protein EspJ                   P9WJC3  P9WJC3   \n",
       "1  ESX-1 secretion-associated protein EspJ                   P9WJC3  P9WJC3   \n",
       "2  ESX-1 secretion-associated protein EspJ                   P9WJC3  P9WJC3   \n",
       "3  ESX-1 secretion-associated protein EspJ                   P9WJC3  P9WJC3   \n",
       "4  ESX-1 secretion-associated protein EspJ                   P9WJC3  P9WJC3   \n",
       "\n",
       "  locus_id  \n",
       "0   Rv3878  \n",
       "1   Rv3878  \n",
       "2   Rv3878  \n",
       "3   Rv3878  \n",
       "4   Rv3878  "
      ]
     },
     "execution_count": 14,
     "metadata": {},
     "output_type": "execute_result"
    }
   ],
   "source": [
    "epitopes = pd.read_csv(\"input/epitope_table_export_1644510184.csv\", header=1)\n",
    "epitopes = epitopes[['Epitope ID','Description', \"Starting Position\", \"Ending Position\", 'Antigen Name',\n",
    "       'Antigen Accession', 'Parent Protein', 'Parent Protein Accession']]\n",
    "\n",
    "# this table maps the uniprot identifiers to H37Rv locus tags\n",
    "mapping = pd.read_csv(\"input/H37Rv_uniprot_proteome_to_locus_ids.csv\", index_col=0)\n",
    "\n",
    "# add the logus tags to the epitope table\n",
    "epitopes = epitopes.merge(mapping[[\"Entry\", \"locus_id\"]], left_on=\"Parent Protein Accession\", right_on=\"Entry\", how=\"inner\")\n",
    "epitopes.to_csv(\"input/epitope_table_cleaned.csv\")\n",
    "epitopes.head()"
   ]
  },
  {
   "cell_type": "code",
   "execution_count": 15,
   "id": "0a1e2be3-bbf7-45c0-97bc-2228e7b97a62",
   "metadata": {},
   "outputs": [
    {
     "data": {
      "text/html": [
       "<div>\n",
       "<style scoped>\n",
       "    .dataframe tbody tr th:only-of-type {\n",
       "        vertical-align: middle;\n",
       "    }\n",
       "\n",
       "    .dataframe tbody tr th {\n",
       "        vertical-align: top;\n",
       "    }\n",
       "\n",
       "    .dataframe thead th {\n",
       "        text-align: right;\n",
       "    }\n",
       "</style>\n",
       "<table border=\"1\" class=\"dataframe\">\n",
       "  <thead>\n",
       "    <tr style=\"text-align: right;\">\n",
       "      <th></th>\n",
       "      <th>pos</th>\n",
       "      <th>ref</th>\n",
       "      <th>alt</th>\n",
       "      <th>gene_id</th>\n",
       "      <th>gene_pos</th>\n",
       "      <th>gene_category</th>\n",
       "      <th>gene_name</th>\n",
       "      <th>is_lineage</th>\n",
       "      <th>in_antigen_protein</th>\n",
       "      <th>AA_change</th>\n",
       "    </tr>\n",
       "  </thead>\n",
       "  <tbody>\n",
       "    <tr>\n",
       "      <th>0</th>\n",
       "      <td>290</td>\n",
       "      <td>G</td>\n",
       "      <td>['C', 'T']</td>\n",
       "      <td>Rv0001</td>\n",
       "      <td>289.0</td>\n",
       "      <td>Essential</td>\n",
       "      <td>dnaA</td>\n",
       "      <td>False</td>\n",
       "      <td>False</td>\n",
       "      <td>G97A</td>\n",
       "    </tr>\n",
       "    <tr>\n",
       "      <th>2</th>\n",
       "      <td>490</td>\n",
       "      <td>G</td>\n",
       "      <td>['A']</td>\n",
       "      <td>Rv0001</td>\n",
       "      <td>489.0</td>\n",
       "      <td>Essential</td>\n",
       "      <td>dnaA</td>\n",
       "      <td>False</td>\n",
       "      <td>False</td>\n",
       "      <td>G164S</td>\n",
       "    </tr>\n",
       "    <tr>\n",
       "      <th>3</th>\n",
       "      <td>573</td>\n",
       "      <td>G</td>\n",
       "      <td>['C', 'T']</td>\n",
       "      <td>Rv0001</td>\n",
       "      <td>572.0</td>\n",
       "      <td>Essential</td>\n",
       "      <td>dnaA</td>\n",
       "      <td>False</td>\n",
       "      <td>False</td>\n",
       "      <td>L191F</td>\n",
       "    </tr>\n",
       "    <tr>\n",
       "      <th>5</th>\n",
       "      <td>696</td>\n",
       "      <td>G</td>\n",
       "      <td>['A', 'C', 'T']</td>\n",
       "      <td>Rv0001</td>\n",
       "      <td>695.0</td>\n",
       "      <td>Essential</td>\n",
       "      <td>dnaA</td>\n",
       "      <td>False</td>\n",
       "      <td>False</td>\n",
       "      <td>M232I</td>\n",
       "    </tr>\n",
       "    <tr>\n",
       "      <th>8</th>\n",
       "      <td>697</td>\n",
       "      <td>C</td>\n",
       "      <td>['T']</td>\n",
       "      <td>Rv0001</td>\n",
       "      <td>696.0</td>\n",
       "      <td>Essential</td>\n",
       "      <td>dnaA</td>\n",
       "      <td>False</td>\n",
       "      <td>False</td>\n",
       "      <td>R233W</td>\n",
       "    </tr>\n",
       "  </tbody>\n",
       "</table>\n",
       "</div>"
      ],
      "text/plain": [
       "   pos ref              alt gene_id  gene_pos gene_category gene_name  \\\n",
       "0  290   G       ['C', 'T']  Rv0001     289.0     Essential      dnaA   \n",
       "2  490   G            ['A']  Rv0001     489.0     Essential      dnaA   \n",
       "3  573   G       ['C', 'T']  Rv0001     572.0     Essential      dnaA   \n",
       "5  696   G  ['A', 'C', 'T']  Rv0001     695.0     Essential      dnaA   \n",
       "8  697   C            ['T']  Rv0001     696.0     Essential      dnaA   \n",
       "\n",
       "   is_lineage  in_antigen_protein AA_change  \n",
       "0       False               False      G97A  \n",
       "2       False               False     G164S  \n",
       "3       False               False     L191F  \n",
       "5       False               False     M232I  \n",
       "8       False               False     R233W  "
      ]
     },
     "execution_count": 15,
     "metadata": {},
     "output_type": "execute_result"
    }
   ],
   "source": [
    "# contains the annotated amino acid change for each SNP\n",
    "snp_annotation_file = \"input/genotypes_SNP_functional_annotation.pkl\"\n",
    "snp_annot = pd.read_pickle(snp_annotation_file)\n",
    "\n",
    "snps = pd.read_csv(\"output/03.annotation/snps_with_gene_annotation.csv\", index_col=0)\n",
    "\n",
    "# Ask if the protein itself is an antigen\n",
    "antigen_protein_names = set(epitopes.locus_id)\n",
    "snps[\"in_antigen_protein\"] = [x in antigen_protein_names for x in snps.gene_id]\n",
    "\n",
    "# get the amino acid position for each position in first_order\n",
    "snps = snps.merge(snp_annot[[\"pos\", \"AA_change\"]], on=\"pos\", how=\"left\").drop_duplicates(subset=[\"pos\"])\n",
    "snps.head()"
   ]
  },
  {
   "cell_type": "code",
   "execution_count": 16,
   "id": "c00b0444-4f53-409b-b335-677e464252b3",
   "metadata": {},
   "outputs": [],
   "source": [
    "# Ask if the mutation is found in an epitope\n",
    "snps[\"aa_position\"] = [x[1:-1] if x != \"None\" else -1 for x in snps.AA_change]\n",
    "snps[\"in_antigen_epitope\"] = False\n",
    "\n",
    "subset = snps.query(\"in_antigen_protein\")\n",
    "for idx, row in subset.iterrows():\n",
    "    locus = row.gene_id\n",
    "    aa = int(row.aa_position)\n",
    "    #print(locus, aa)\n",
    "    relevant_epitopes = epitopes.query('locus_id == @locus').drop_duplicates(subset = [\"Entry\", \"Starting Position\", \"Ending Position\"])\n",
    "    \n",
    "    is_epitope=False\n",
    "    for idx2, row2 in relevant_epitopes.iterrows():\n",
    "        #print(row2[\"Starting Position\"], row2[\"Ending Position\"])\n",
    "        if row2[\"Starting Position\"] <= aa and row2[\"Ending Position\"] >= aa:\n",
    "            is_epitope=True\n",
    "            break\n",
    "       \n",
    "            \n",
    "    snps.loc[idx, \"in_antigen_epitope\"] = is_epitope\n"
   ]
  },
  {
   "cell_type": "code",
   "execution_count": 17,
   "id": "4ee264ef-0f7c-4dc4-9ad4-1505bcb3702d",
   "metadata": {},
   "outputs": [
    {
     "name": "stdout",
     "output_type": "stream",
     "text": [
      "Number of SNPs in antigen proteins 774\n",
      "Number of SNps in antigen epitopes 159\n"
     ]
    }
   ],
   "source": [
    "print(\"Number of SNPs in antigen proteins\", len(snps.query(\"in_antigen_protein\")))\n",
    "print(\"Number of SNps in antigen epitopes\", len(snps.query(\"in_antigen_epitope\")))\n",
    "\n",
    "snps.to_csv(\"output/03.annotation/snps_with_antigen_annotation.csv\")"
   ]
  },
  {
   "cell_type": "markdown",
   "id": "b17db743-3ab2-42c5-ae58-6a7c53d22a8b",
   "metadata": {},
   "source": [
    "## Mutations in known resistance positions"
   ]
  },
  {
   "cell_type": "code",
   "execution_count": 18,
   "id": "e4f74063-3aaa-47cd-af20-e0f06a944efb",
   "metadata": {},
   "outputs": [
    {
     "name": "stdout",
     "output_type": "stream",
     "text": [
      "number of known resistance positions with at least 5 mutations 250\n"
     ]
    }
   ],
   "source": [
    "who = pd.read_csv(\"input/WHO_resistance_variants_Cat1orCat2.csv\")\n",
    "indices_of_r_positions = set(who.genome_index)\n",
    "snps[\"in_known_ABR_position\"] = [x in indices_of_r_positions for x in snps.pos]\n",
    "snps[\"known_drug\"] = np.nan\n",
    "for idx, row in snps.query(\"in_known_ABR_position\").iterrows():\n",
    "    position = row.pos\n",
    "    who_subset = who.query(\"genome_index==@position\")\n",
    "    snps.loc[idx, \"known_drug\"] = \",\".join(list(who_subset.drug))\n",
    "\n",
    "print(\"number of known resistance positions with at least 5 mutations\" , len(snps.query(\"in_known_ABR_position\")))"
   ]
  },
  {
   "cell_type": "code",
   "execution_count": 19,
   "id": "2e6976b5-bf4c-40af-af2d-415d745347b8",
   "metadata": {},
   "outputs": [
    {
     "data": {
      "text/plain": [
       "array(['AMI', 'CAP', 'DLM', 'EMB', 'ETH', 'INH', 'KAN', 'LEV', 'LZD',\n",
       "       'MXF', 'PZA', 'RIF', 'STM'], dtype=object)"
      ]
     },
     "execution_count": 19,
     "metadata": {},
     "output_type": "execute_result"
    }
   ],
   "source": [
    "who.drug.unique()"
   ]
  },
  {
   "cell_type": "code",
   "execution_count": 20,
   "id": "026c8a7b-9fa5-4473-8116-0251aaf54d67",
   "metadata": {},
   "outputs": [
    {
     "data": {
      "text/plain": [
       "16"
      ]
     },
     "execution_count": 20,
     "metadata": {},
     "output_type": "execute_result"
    }
   ],
   "source": [
    "who[\"gene\"] = [x.split(\"_\")[0] for x in who.variant]\n",
    "len(who.gene.unique())"
   ]
  },
  {
   "cell_type": "markdown",
   "id": "e78066fc-5de3-4262-9339-489db65b91cd",
   "metadata": {},
   "source": [
    "## Mutations in any possible resistance genes and promoter regions"
   ]
  },
  {
   "cell_type": "code",
   "execution_count": 21,
   "id": "d03095e8-6e4f-41ca-9388-0b6bb38e0748",
   "metadata": {},
   "outputs": [
    {
     "data": {
      "text/plain": [
       "array(['aftB', 'ccsA', 'fprA', 'rrs', 'atpE', 'Rv1979c', 'tlyA', 'ddn',\n",
       "       'embC', 'ubiA', 'inhA', 'mshA', 'katG', 'Rv1258c', 'Rv2752c',\n",
       "       'rplC', 'pncA', 'Rv3236c', 'panD', 'rpoA', 'rpsL', 'gid', 'eis',\n",
       "       'whiB6', 'whiB7', 'Rv0678', 'mmpL5', 'pepQ', 'mmpS5', 'fgd1',\n",
       "       'fbiA', 'fbiB', 'fbiC', 'Rv2983', 'embB', 'embA', 'embR', 'ethA',\n",
       "       'Rv3083', 'ndh', 'ethR', 'ahpC', 'gyrA', 'gyrB', 'rrl', 'PPE35',\n",
       "       'clpC1', 'rpoB', 'rpoC'], dtype=object)"
      ]
     },
     "execution_count": 21,
     "metadata": {},
     "output_type": "execute_result"
    }
   ],
   "source": [
    "all_who = pd.read_csv(\"input/WHO_resistance_variants_all.csv\", index_col = 0)\n",
    "all_who.gene.unique()"
   ]
  },
  {
   "cell_type": "code",
   "execution_count": 22,
   "id": "3eecfa03-8d93-43e6-a4dd-fd1952bbb446",
   "metadata": {},
   "outputs": [
    {
     "data": {
      "text/html": [
       "<div>\n",
       "<style scoped>\n",
       "    .dataframe tbody tr th:only-of-type {\n",
       "        vertical-align: middle;\n",
       "    }\n",
       "\n",
       "    .dataframe tbody tr th {\n",
       "        vertical-align: top;\n",
       "    }\n",
       "\n",
       "    .dataframe thead th {\n",
       "        text-align: right;\n",
       "    }\n",
       "</style>\n",
       "<table border=\"1\" class=\"dataframe\">\n",
       "  <thead>\n",
       "    <tr style=\"text-align: right;\">\n",
       "      <th></th>\n",
       "      <th>Unnamed: 0</th>\n",
       "      <th>drug</th>\n",
       "      <th>gene</th>\n",
       "      <th>locus_name</th>\n",
       "      <th>gene_start</th>\n",
       "      <th>gene_end</th>\n",
       "      <th>upstream_gene</th>\n",
       "      <th>downstream_gene</th>\n",
       "      <th>upstream_start</th>\n",
       "      <th>upstream_end</th>\n",
       "      <th>downstream_start</th>\n",
       "      <th>downstream_end</th>\n",
       "    </tr>\n",
       "  </thead>\n",
       "  <tbody>\n",
       "    <tr>\n",
       "      <th>0</th>\n",
       "      <td>0</td>\n",
       "      <td>AMI</td>\n",
       "      <td>aftB</td>\n",
       "      <td>Rv0002</td>\n",
       "      <td>4266953.0</td>\n",
       "      <td>4268836.0</td>\n",
       "      <td>fbpA</td>\n",
       "      <td>ubiA</td>\n",
       "      <td>4266659.0</td>\n",
       "      <td>4266952.0</td>\n",
       "      <td>4268837.0</td>\n",
       "      <td>4268924.0</td>\n",
       "    </tr>\n",
       "    <tr>\n",
       "      <th>1</th>\n",
       "      <td>2</td>\n",
       "      <td>AMI</td>\n",
       "      <td>ccsA</td>\n",
       "      <td>Rv0002</td>\n",
       "      <td>2714124.0</td>\n",
       "      <td>2715332.0</td>\n",
       "      <td>Rv2415c</td>\n",
       "      <td>Rv2417c</td>\n",
       "      <td>2713785.0</td>\n",
       "      <td>2714123.0</td>\n",
       "      <td>2715333.0</td>\n",
       "      <td>2715471.0</td>\n",
       "    </tr>\n",
       "    <tr>\n",
       "      <th>2</th>\n",
       "      <td>17</td>\n",
       "      <td>AMI</td>\n",
       "      <td>fprA</td>\n",
       "      <td>Rv0002</td>\n",
       "      <td>3474007.0</td>\n",
       "      <td>3475377.0</td>\n",
       "      <td>prfB</td>\n",
       "      <td>agpS</td>\n",
       "      <td>3473905.0</td>\n",
       "      <td>3474006.0</td>\n",
       "      <td>3475378.0</td>\n",
       "      <td>3475377.0</td>\n",
       "    </tr>\n",
       "    <tr>\n",
       "      <th>3</th>\n",
       "      <td>22</td>\n",
       "      <td>AMI</td>\n",
       "      <td>rrs</td>\n",
       "      <td>Rv0002</td>\n",
       "      <td>1471846.0</td>\n",
       "      <td>1473382.0</td>\n",
       "      <td>mcr3</td>\n",
       "      <td>rrl</td>\n",
       "      <td>1471743.0</td>\n",
       "      <td>1471845.0</td>\n",
       "      <td>1473383.0</td>\n",
       "      <td>1473657.0</td>\n",
       "    </tr>\n",
       "    <tr>\n",
       "      <th>4</th>\n",
       "      <td>51</td>\n",
       "      <td>BDQ</td>\n",
       "      <td>atpE</td>\n",
       "      <td>Rv0002</td>\n",
       "      <td>1461045.0</td>\n",
       "      <td>1461290.0</td>\n",
       "      <td>atpB</td>\n",
       "      <td>atpF</td>\n",
       "      <td>1460997.0</td>\n",
       "      <td>1461044.0</td>\n",
       "      <td>1461291.0</td>\n",
       "      <td>1461320.0</td>\n",
       "    </tr>\n",
       "    <tr>\n",
       "      <th>...</th>\n",
       "      <td>...</td>\n",
       "      <td>...</td>\n",
       "      <td>...</td>\n",
       "      <td>...</td>\n",
       "      <td>...</td>\n",
       "      <td>...</td>\n",
       "      <td>...</td>\n",
       "      <td>...</td>\n",
       "      <td>...</td>\n",
       "      <td>...</td>\n",
       "      <td>...</td>\n",
       "      <td>...</td>\n",
       "    </tr>\n",
       "    <tr>\n",
       "      <th>69</th>\n",
       "      <td>13476</td>\n",
       "      <td>PZA</td>\n",
       "      <td>clpC1</td>\n",
       "      <td>Rv0002</td>\n",
       "      <td>4038158.0</td>\n",
       "      <td>4040704.0</td>\n",
       "      <td>PE_PGRS59</td>\n",
       "      <td>lsr2</td>\n",
       "      <td>4038051.0</td>\n",
       "      <td>4038157.0</td>\n",
       "      <td>4040705.0</td>\n",
       "      <td>4040980.0</td>\n",
       "    </tr>\n",
       "    <tr>\n",
       "      <th>70</th>\n",
       "      <td>14283</td>\n",
       "      <td>RIF</td>\n",
       "      <td>rpoB</td>\n",
       "      <td>Rv0002</td>\n",
       "      <td>759807.0</td>\n",
       "      <td>763325.0</td>\n",
       "      <td>Rv0666</td>\n",
       "      <td>rpoC</td>\n",
       "      <td>759310.0</td>\n",
       "      <td>759806.0</td>\n",
       "      <td>763326.0</td>\n",
       "      <td>763369.0</td>\n",
       "    </tr>\n",
       "    <tr>\n",
       "      <th>71</th>\n",
       "      <td>14433</td>\n",
       "      <td>RIF</td>\n",
       "      <td>rpoC</td>\n",
       "      <td>Rv0002</td>\n",
       "      <td>763370.0</td>\n",
       "      <td>767320.0</td>\n",
       "      <td>rpoB</td>\n",
       "      <td>Rv0669c</td>\n",
       "      <td>763326.0</td>\n",
       "      <td>763369.0</td>\n",
       "      <td>767321.0</td>\n",
       "      <td>767683.0</td>\n",
       "    </tr>\n",
       "    <tr>\n",
       "      <th>72</th>\n",
       "      <td>16211</td>\n",
       "      <td>STM</td>\n",
       "      <td>whiB6</td>\n",
       "      <td>Rv0002</td>\n",
       "      <td>4338171.0</td>\n",
       "      <td>4338521.0</td>\n",
       "      <td>Rv3861</td>\n",
       "      <td>Rv3863</td>\n",
       "      <td>4338273.0</td>\n",
       "      <td>4338170.0</td>\n",
       "      <td>4338522.0</td>\n",
       "      <td>4338848.0</td>\n",
       "    </tr>\n",
       "    <tr>\n",
       "      <th>73</th>\n",
       "      <td>16223</td>\n",
       "      <td>STM</td>\n",
       "      <td>whiB7</td>\n",
       "      <td>Rv0002</td>\n",
       "      <td>3568401.0</td>\n",
       "      <td>3568679.0</td>\n",
       "      <td>Rv3197</td>\n",
       "      <td>uvrD2</td>\n",
       "      <td>3568368.0</td>\n",
       "      <td>3568400.0</td>\n",
       "      <td>3568680.0</td>\n",
       "      <td>3569108.0</td>\n",
       "    </tr>\n",
       "  </tbody>\n",
       "</table>\n",
       "<p>74 rows × 12 columns</p>\n",
       "</div>"
      ],
      "text/plain": [
       "    Unnamed: 0 drug   gene locus_name  gene_start   gene_end upstream_gene  \\\n",
       "0            0  AMI   aftB     Rv0002   4266953.0  4268836.0          fbpA   \n",
       "1            2  AMI   ccsA     Rv0002   2714124.0  2715332.0       Rv2415c   \n",
       "2           17  AMI   fprA     Rv0002   3474007.0  3475377.0          prfB   \n",
       "3           22  AMI    rrs     Rv0002   1471846.0  1473382.0          mcr3   \n",
       "4           51  BDQ   atpE     Rv0002   1461045.0  1461290.0          atpB   \n",
       "..         ...  ...    ...        ...         ...        ...           ...   \n",
       "69       13476  PZA  clpC1     Rv0002   4038158.0  4040704.0     PE_PGRS59   \n",
       "70       14283  RIF   rpoB     Rv0002    759807.0   763325.0        Rv0666   \n",
       "71       14433  RIF   rpoC     Rv0002    763370.0   767320.0          rpoB   \n",
       "72       16211  STM  whiB6     Rv0002   4338171.0  4338521.0        Rv3861   \n",
       "73       16223  STM  whiB7     Rv0002   3568401.0  3568679.0        Rv3197   \n",
       "\n",
       "   downstream_gene  upstream_start  upstream_end  downstream_start  \\\n",
       "0             ubiA       4266659.0     4266952.0         4268837.0   \n",
       "1          Rv2417c       2713785.0     2714123.0         2715333.0   \n",
       "2             agpS       3473905.0     3474006.0         3475378.0   \n",
       "3              rrl       1471743.0     1471845.0         1473383.0   \n",
       "4             atpF       1460997.0     1461044.0         1461291.0   \n",
       "..             ...             ...           ...               ...   \n",
       "69            lsr2       4038051.0     4038157.0         4040705.0   \n",
       "70            rpoC        759310.0      759806.0          763326.0   \n",
       "71         Rv0669c        763326.0      763369.0          767321.0   \n",
       "72          Rv3863       4338273.0     4338170.0         4338522.0   \n",
       "73           uvrD2       3568368.0     3568400.0         3568680.0   \n",
       "\n",
       "    downstream_end  \n",
       "0        4268924.0  \n",
       "1        2715471.0  \n",
       "2        3475377.0  \n",
       "3        1473657.0  \n",
       "4        1461320.0  \n",
       "..             ...  \n",
       "69       4040980.0  \n",
       "70        763369.0  \n",
       "71        767683.0  \n",
       "72       4338848.0  \n",
       "73       3569108.0  \n",
       "\n",
       "[74 rows x 12 columns]"
      ]
     },
     "execution_count": 22,
     "metadata": {},
     "output_type": "execute_result"
    }
   ],
   "source": [
    "## Annotate gene and promoter regions for each\n",
    "\n",
    "## Extract the upstream and downstrean regions for each resistance-associated gene ###\n",
    "# Take the antibiotic resistance gene list and define the upstream and downstream regions\n",
    "\n",
    "genome_position_to_gene = pd.read_csv(\"input/genome_position_to_gene.csv\", index_col=0)\n",
    "genome_position_to_gene = genome_position_to_gene.sort_values(\"i\")\n",
    "\n",
    "# Initialize column to be added\n",
    "data = all_who[[\"drug\", \"gene\"]].drop_duplicates()\n",
    "data[[\"locus_name\", \"gene_start\", \"gene_end\"]] = np.nan\n",
    "data[[ \"upstream_gene\", \"downstream_gene\", \"upstream_start\", \n",
    "      \"upstream_end\", \"downstream_start\", \"downstream_end\"]] = np.nan\n",
    "\n",
    "for idx, row in data.iterrows():\n",
    "    \n",
    "    # Add gene locus and gene start/end locations\n",
    "    positions = genome_position_to_gene.query(\"gene==@row.gene\")\n",
    "    \n",
    "    gene_start = positions.i.min()\n",
    "    gene_end = positions.i.max()\n",
    "    \n",
    "    data.loc[idx, \"gene_start\"] = gene_start\n",
    "    data.loc[idx, \"gene_end\"] = gene_end\n",
    "    data.loc[idx, \"locus_name\"] = list(genome_position_to_gene.locus)[0]\n",
    "    \n",
    "    data.loc[idx, \"upstream_end\"] = gene_start - 1\n",
    "    data.loc[idx, \"downstream_start\"] = gene_end + 1\n",
    "    \n",
    "    # upstream stuff\n",
    "    upstream_all = genome_position_to_gene.query(\"i < @gene_start\")\n",
    "    upstream_gene = list(upstream_all.gene)[-1]\n",
    "    upstream = genome_position_to_gene.query(\"gene==@upstream_gene\")\n",
    "    data.loc[idx, \"upstream_gene\"] = upstream_gene\n",
    "    data.loc[idx, \"upstream_start\"] = upstream.i.max() + 1 \n",
    "    \n",
    "    # downstream stuff\n",
    "    downstream_all = genome_position_to_gene.query(\"i > @gene_end\")\n",
    "    downstream_gene = list(downstream_all.gene)[0]\n",
    "    downstream = genome_position_to_gene.query(\"gene==@downstream_gene\")\n",
    "    data.loc[idx, \"downstream_gene\"] = downstream_gene\n",
    "    data.loc[idx, \"downstream_end\"] = downstream.i.min() - 1\n",
    "\n",
    "data.to_csv(\"output/03.annotation/AB_genes_position_annotation.csv\")\n",
    "antibiotic_position_data = pd.read_csv(\"output/03.annotation/AB_genes_position_annotation.csv\")\n",
    "antibiotic_position_data"
   ]
  },
  {
   "cell_type": "code",
   "execution_count": 23,
   "id": "b3baa55f-4b93-475c-a8e7-5774df8200fc",
   "metadata": {},
   "outputs": [],
   "source": [
    "## annotate SNPs as belonging to one of these categories\n",
    "snps[\"in_possible_ABR_gene\"] = False\n",
    "snps[\"possible_drug\"] = np.nan\n",
    "for idx, row in snps.iterrows():\n",
    "    position = row.pos\n",
    "    \n",
    "    in_possible_ABR = False\n",
    "    possible_drugs = []\n",
    "    \n",
    "    in_gene_hits = antibiotic_position_data.query(\"gene_start <= @position and gene_end >= @position\")\n",
    "    if len(in_gene_hits) > 0: # Position found in at least 1 resistance gene\n",
    "        possible_drugs = possible_drugs + list(in_gene_hits.drug)\n",
    "        in_possible_ABR = True\n",
    "        \n",
    "    upstream_hits = antibiotic_position_data.query(\"upstream_start <= @position and upstream_end >= @position\")\n",
    "    if len(upstream_hits) > 0:\n",
    "        possible_drugs = possible_drugs + list(upstream_hits.drug)\n",
    "        in_possible_ABR = True\n",
    "        \n",
    "    downstream_hits = antibiotic_position_data.query(\"downstream_start <= @position and downstream_end >= @position\")\n",
    "    if len(downstream_hits) > 0:\n",
    "        possible_drugs = possible_drugs + list(downstream_hits.drug)\n",
    "        in_possible_ABR = True\n",
    "        \n",
    "    snps.loc[idx, \"in_possible_ABR_gene\"] = in_possible_ABR\n",
    "    if in_possible_ABR:\n",
    "        snps.loc[idx, \"possible_drug\"] = \",\".join(list(set(possible_drugs)))\n",
    "        \n",
    "    \n"
   ]
  },
  {
   "cell_type": "code",
   "execution_count": 24,
   "id": "0b35fec9-96a6-48c2-b66f-116965925bda",
   "metadata": {},
   "outputs": [
    {
     "name": "stdout",
     "output_type": "stream",
     "text": [
      "possible ABR Snps 814\n"
     ]
    }
   ],
   "source": [
    "print(\"possible ABR Snps\", len(snps.query(\"in_possible_ABR_gene\")))\n",
    "snps.to_csv(\"output/03.annotation/snps_with_all_annotation.csv\")"
   ]
  },
  {
   "cell_type": "code",
   "execution_count": 25,
   "id": "9bdc2a9d-86bf-4e7f-92b8-fc337910d6cc",
   "metadata": {},
   "outputs": [
    {
     "data": {
      "text/plain": [
       "0.052709255745308874"
      ]
     },
     "execution_count": 25,
     "metadata": {},
     "output_type": "execute_result"
    }
   ],
   "source": [
    "250/4743"
   ]
  },
  {
   "cell_type": "markdown",
   "id": "09a3f1e7-9300-408e-afcb-4923ed7686c5",
   "metadata": {},
   "source": [
    "## Computing baselines"
   ]
  },
  {
   "cell_type": "code",
   "execution_count": 26,
   "id": "e48d800c-ced3-480e-b1f7-620b8bab01b8",
   "metadata": {},
   "outputs": [],
   "source": [
    "total_nucleotides = 4411532"
   ]
  },
  {
   "cell_type": "code",
   "execution_count": 27,
   "id": "82187ca3-de82-47fe-ac21-814d817caac2",
   "metadata": {},
   "outputs": [
    {
     "name": "stdout",
     "output_type": "stream",
     "text": [
      "total amino acids in epitopes 15720\n"
     ]
    }
   ],
   "source": [
    "# Number of amino acids found in epitopes\n",
    "total_positions = 0\n",
    "\n",
    "# iteratre through each protein with epitopes\n",
    "for name, group in epitopes.dropna(subset=[\"Starting Position\", \"Ending Position\"]).groupby(\"locus_id\"):\n",
    "    positions = []\n",
    "    \n",
    "    # compute the number of positions in this protein represented by an epitope\n",
    "    for _, row in group.iterrows():\n",
    "        positions += range(int(row[\"Starting Position\"]), int(row[\"Ending Position\"]))\n",
    "        \n",
    "    # remove redundancy between overlapping epitopes\n",
    "    positions = list(set(positions))\n",
    "    \n",
    "    # Add to total positions\n",
    "    total_positions += len(positions)\n",
    "\n",
    "print(\"total amino acids in epitopes\", total_positions)\n",
    "total_epitope = total_positions\n",
    "total_non_epitope = mapping.drop_duplicates(subset=[\"Entry\"]).Length.sum()"
   ]
  },
  {
   "cell_type": "code",
   "execution_count": 28,
   "id": "3951dd19-f902-4011-9d1d-8ac17d9fd17a",
   "metadata": {},
   "outputs": [
    {
     "name": "stdout",
     "output_type": "stream",
     "text": [
      "total length of anitgen proteins 180834\n"
     ]
    }
   ],
   "source": [
    "# Length of each antigen protein\n",
    "antigen_proteins = mapping.query(\"Entry in @epitopes.Entry\").drop_duplicates(subset=[\"Entry\"])\n",
    "print(\"total length of anitgen proteins\", antigen_proteins.Length.sum())"
   ]
  },
  {
   "cell_type": "code",
   "execution_count": 29,
   "id": "601fe25c-4d7b-4548-bb51-4d0270ce44ad",
   "metadata": {},
   "outputs": [
    {
     "name": "stdout",
     "output_type": "stream",
     "text": [
      "total length of anitgen proteins 1150817\n"
     ]
    }
   ],
   "source": [
    "# Length of each antigen protein\n",
    "non_antigen_proteins = mapping.query(\"not Entry in @epitopes.Entry\").drop_duplicates(subset=[\"Entry\"])\n",
    "print(\"total length of anitgen proteins\", non_antigen_proteins.Length.sum())"
   ]
  },
  {
   "cell_type": "code",
   "execution_count": 30,
   "id": "21fabd8e-e51e-48b2-b3b2-9a74c9cff732",
   "metadata": {},
   "outputs": [
    {
     "name": "stdout",
     "output_type": "stream",
     "text": [
      "total possible antibiotic positions 81460\n"
     ]
    }
   ],
   "source": [
    "# Number of possible antibiotic resistance positions\n",
    "total_antibiotic_positions = []\n",
    "for idx,row in antibiotic_position_data.iterrows():\n",
    "    \n",
    "    total_antibiotic_positions += range(int(row.gene_start), int(row.gene_end)) \n",
    "    total_antibiotic_positions += range(int(row.upstream_start), int(row.upstream_end))\n",
    "    total_antibiotic_positions += range(int(row.downstream_start), int(row.downstream_end))\n",
    "total_antibiotic_positions = list(set(total_antibiotic_positions))\n",
    "print(\"total possible antibiotic positions\", len(total_antibiotic_positions))"
   ]
  },
  {
   "cell_type": "code",
   "execution_count": 31,
   "id": "af03ea11-7269-4c69-8976-38e9c920a9bb",
   "metadata": {},
   "outputs": [
    {
     "name": "stdout",
     "output_type": "stream",
     "text": [
      "known antibiotic positions 848\n"
     ]
    }
   ],
   "source": [
    "print(\"known antibiotic positions\", len(who.genome_index.unique()))"
   ]
  },
  {
   "cell_type": "markdown",
   "id": "a3ba68d3-a03d-4f24-8271-36ba62060c61",
   "metadata": {},
   "source": [
    "## Chi-squared tests"
   ]
  },
  {
   "cell_type": "code",
   "execution_count": 32,
   "id": "dc4de29a-6353-4456-853d-dc4367091c19",
   "metadata": {},
   "outputs": [
    {
     "name": "stdout",
     "output_type": "stream",
     "text": [
      "Number of genic SNPS 3820\n",
      "774 3046 518.7439351601884 3301.2560648398116\n",
      "Power_divergenceResult(statistic=145.33936483013812, pvalue=1.8103725366746116e-33)\n"
     ]
    }
   ],
   "source": [
    "genic_snps = snps.query(\"gene_id != 'intergenic'\")\n",
    "print(\"Number of genic SNPS\", len(genic_snps))\n",
    "_chi_squared_data = []\n",
    "\n",
    "# antigen versus not antigen\n",
    "epitope_nucleotides = antigen_proteins.Length.sum()*3 \n",
    "non_epitope_nucleotides = non_antigen_proteins.Length.sum()*3## in a protein but not an antigen\n",
    "expected_freq = epitope_nucleotides / (epitope_nucleotides + non_epitope_nucleotides) * len(genic_snps)\n",
    "expected_freq_not = non_epitope_nucleotides / (epitope_nucleotides + non_epitope_nucleotides) * len(genic_snps)\n",
    "\n",
    "actual_epitopes = len(genic_snps.query(\"in_antigen_protein\"))\n",
    "actual_not_epitopes = len(genic_snps.query(\"not in_antigen_protein\"))\n",
    "\n",
    "print(actual_epitopes, actual_not_epitopes, expected_freq, expected_freq_not)\n",
    "print(chisquare([actual_epitopes, actual_not_epitopes], [expected_freq, expected_freq_not]))\n",
    "_chi_squared_data.append([\"antigen_protein\", actual_epitopes, \n",
    "                          actual_not_epitopes, expected_freq, expected_freq_not, \n",
    "                          chisquare([actual_epitopes, actual_not_epitopes], [expected_freq, expected_freq_not])[0],\n",
    "                          chisquare([actual_epitopes, actual_not_epitopes], [expected_freq, expected_freq_not])[1]]\n",
    "                          )\n",
    "                          "
   ]
  },
  {
   "cell_type": "code",
   "execution_count": 33,
   "id": "f1fc0dd3-fb61-4752-b993-8d4eca434680",
   "metadata": {},
   "outputs": [
    {
     "name": "stdout",
     "output_type": "stream",
     "text": [
      "159 3661 44.56857094296968 3775.4314290570305\n",
      "Power_divergenceResult(statistic=297.27522072949245, pvalue=1.2924623216691688e-66)\n"
     ]
    }
   ],
   "source": [
    "# epitope versus not\n",
    "epitope_nucleotides = total_epitope*3 \n",
    "non_epitope_nucleotides = total_non_epitope*3## in a protein but not an antigen\n",
    "expected_freq = epitope_nucleotides / (epitope_nucleotides + non_epitope_nucleotides) * len(genic_snps)\n",
    "expected_freq_not = non_epitope_nucleotides / (epitope_nucleotides + non_epitope_nucleotides) * len(genic_snps)\n",
    "\n",
    "actual_epitopes = len(genic_snps.query(\"in_antigen_epitope\"))\n",
    "actual_not_epitopes = len(genic_snps.query(\"not in_antigen_epitope\"))\n",
    "\n",
    "print(actual_epitopes, actual_not_epitopes, expected_freq, expected_freq_not)\n",
    "print(chisquare([actual_epitopes, actual_not_epitopes], [expected_freq, expected_freq_not]))\n",
    "_chi_squared_data.append([\"epitope\", actual_epitopes, \n",
    "                          actual_not_epitopes, expected_freq, expected_freq_not, \n",
    "                          chisquare([actual_epitopes, actual_not_epitopes], [expected_freq, expected_freq_not])[0],\n",
    "                          chisquare([actual_epitopes, actual_not_epitopes], [expected_freq, expected_freq_not])[1]]\n",
    "                          )"
   ]
  },
  {
   "cell_type": "code",
   "execution_count": 34,
   "id": "66c088a5-fb65-4435-b2f1-30eec97d9207",
   "metadata": {},
   "outputs": [
    {
     "name": "stdout",
     "output_type": "stream",
     "text": [
      "250 4493 0.9117159299762532 4742.088284070024\n",
      "Power_divergenceResult(statistic=68066.04997652004, pvalue=0.0)\n"
     ]
    }
   ],
   "source": [
    "# known antibiotics\n",
    "\n",
    "epitope_nucleotides = len(who.genome_index.unique())\n",
    "expected_freq = epitope_nucleotides / total_nucleotides * len(snps)\n",
    "expected_freq_not = (1 - epitope_nucleotides / total_nucleotides) * len(snps)\n",
    "\n",
    "actual_epitopes = len(snps.query(\"in_known_ABR_position\"))\n",
    "actual_not_epitopes = len(snps.query(\"not in_known_ABR_position\"))\n",
    "\n",
    "print(actual_epitopes, actual_not_epitopes, expected_freq, expected_freq_not)\n",
    "print(chisquare([actual_epitopes, actual_not_epitopes], [expected_freq, expected_freq_not]))\n",
    "_chi_squared_data.append([\"known_resistance\", actual_epitopes, \n",
    "                          actual_not_epitopes, expected_freq, expected_freq_not, \n",
    "                          chisquare([actual_epitopes, actual_not_epitopes], [expected_freq, expected_freq_not])[0],\n",
    "                          chisquare([actual_epitopes, actual_not_epitopes], [expected_freq, expected_freq_not])[1]]\n",
    "                          )"
   ]
  },
  {
   "cell_type": "code",
   "execution_count": 35,
   "id": "608a8b18-4777-4439-bf9b-3e7641138d6e",
   "metadata": {},
   "outputs": [
    {
     "name": "stdout",
     "output_type": "stream",
     "text": [
      "814 3929 87.58063638663394 4655.419363613366\n",
      "Power_divergenceResult(statistic=6138.482811200829, pvalue=0.0)\n"
     ]
    }
   ],
   "source": [
    "# possible antibiotics\n",
    "\n",
    "epitope_nucleotides = len(total_antibiotic_positions)\n",
    "expected_freq = epitope_nucleotides / total_nucleotides * len(snps)\n",
    "expected_freq_not = (1 - epitope_nucleotides / total_nucleotides) * len(snps)\n",
    "\n",
    "actual_epitopes = len(snps.query(\"in_possible_ABR_gene\"))\n",
    "actual_not_epitopes = len(snps.query(\"not in_possible_ABR_gene\"))\n",
    "\n",
    "print(actual_epitopes, actual_not_epitopes, expected_freq, expected_freq_not)\n",
    "print(chisquare([actual_epitopes, actual_not_epitopes], [expected_freq, expected_freq_not]))\n",
    "_chi_squared_data.append([\"possible_resistance\", actual_epitopes, \n",
    "                          actual_not_epitopes, expected_freq, expected_freq_not, \n",
    "                          chisquare([actual_epitopes, actual_not_epitopes], [expected_freq, expected_freq_not])[0],\n",
    "                          chisquare([actual_epitopes, actual_not_epitopes], [expected_freq, expected_freq_not])[1]]\n",
    "                          )"
   ]
  },
  {
   "cell_type": "markdown",
   "id": "edeb3091-9c5f-41e2-a2b6-71594424490f",
   "metadata": {},
   "source": [
    "## Analysis for essential vs non-essential genes - control"
   ]
  },
  {
   "cell_type": "code",
   "execution_count": 36,
   "id": "d90e61ed-9c62-4949-a243-e72d487538ce",
   "metadata": {},
   "outputs": [],
   "source": [
    "! cp ../../../structure_annotation/NB_2021_12/minato_2019_s3.csv input//minato_2019_s3.csv\n",
    "essentiality = pd.read_csv(\"input/minato_2019_s3.csv\")\n"
   ]
  },
  {
   "cell_type": "code",
   "execution_count": 37,
   "id": "92367a55-5fd2-4ac0-93d3-93ce55f31375",
   "metadata": {},
   "outputs": [],
   "source": [
    "essential_genes = list(essentiality.iloc[:,0].dropna()) +  list(essentiality.iloc[:,1].dropna()) +  list(essentiality.iloc[:,2].dropna())\n",
    "snps[\"in_essential_gene_minato\"] = [x in essential_genes for x in snps.gene_id]"
   ]
  },
  {
   "cell_type": "code",
   "execution_count": 38,
   "id": "23e97f85-0367-499f-8c53-0906463783e6",
   "metadata": {},
   "outputs": [],
   "source": [
    "# Compute the length of all essential genes\n",
    "essential_proteins = mapping.query(\"locus_id in @essential_genes\").drop_duplicates()\n",
    "sites_in_essential = essential_proteins.Length.sum() * 3\n",
    "sites_in_non_essential = mapping.query(\"not locus_id in @essential_genes\").drop_duplicates().Length.sum()*3"
   ]
  },
  {
   "cell_type": "code",
   "execution_count": 39,
   "id": "e260a9c0-5789-4e2c-8222-6d72d2e2ccf5",
   "metadata": {},
   "outputs": [
    {
     "data": {
      "text/html": [
       "<div>\n",
       "<style scoped>\n",
       "    .dataframe tbody tr th:only-of-type {\n",
       "        vertical-align: middle;\n",
       "    }\n",
       "\n",
       "    .dataframe tbody tr th {\n",
       "        vertical-align: top;\n",
       "    }\n",
       "\n",
       "    .dataframe thead th {\n",
       "        text-align: right;\n",
       "    }\n",
       "</style>\n",
       "<table border=\"1\" class=\"dataframe\">\n",
       "  <thead>\n",
       "    <tr style=\"text-align: right;\">\n",
       "      <th></th>\n",
       "      <th>pos</th>\n",
       "      <th>ref</th>\n",
       "      <th>alt</th>\n",
       "      <th>gene_id</th>\n",
       "      <th>gene_pos</th>\n",
       "      <th>gene_category</th>\n",
       "      <th>gene_name</th>\n",
       "      <th>is_lineage</th>\n",
       "      <th>in_antigen_protein</th>\n",
       "      <th>AA_change</th>\n",
       "      <th>aa_position</th>\n",
       "      <th>in_antigen_epitope</th>\n",
       "      <th>in_known_ABR_position</th>\n",
       "      <th>known_drug</th>\n",
       "      <th>in_possible_ABR_gene</th>\n",
       "      <th>possible_drug</th>\n",
       "      <th>in_essential_gene_minato</th>\n",
       "    </tr>\n",
       "  </thead>\n",
       "  <tbody>\n",
       "    <tr>\n",
       "      <th>0</th>\n",
       "      <td>290</td>\n",
       "      <td>G</td>\n",
       "      <td>['C', 'T']</td>\n",
       "      <td>Rv0001</td>\n",
       "      <td>289.0</td>\n",
       "      <td>Essential</td>\n",
       "      <td>dnaA</td>\n",
       "      <td>False</td>\n",
       "      <td>False</td>\n",
       "      <td>G97A</td>\n",
       "      <td>97</td>\n",
       "      <td>False</td>\n",
       "      <td>False</td>\n",
       "      <td>NaN</td>\n",
       "      <td>False</td>\n",
       "      <td>NaN</td>\n",
       "      <td>True</td>\n",
       "    </tr>\n",
       "    <tr>\n",
       "      <th>2</th>\n",
       "      <td>490</td>\n",
       "      <td>G</td>\n",
       "      <td>['A']</td>\n",
       "      <td>Rv0001</td>\n",
       "      <td>489.0</td>\n",
       "      <td>Essential</td>\n",
       "      <td>dnaA</td>\n",
       "      <td>False</td>\n",
       "      <td>False</td>\n",
       "      <td>G164S</td>\n",
       "      <td>164</td>\n",
       "      <td>False</td>\n",
       "      <td>False</td>\n",
       "      <td>NaN</td>\n",
       "      <td>False</td>\n",
       "      <td>NaN</td>\n",
       "      <td>True</td>\n",
       "    </tr>\n",
       "    <tr>\n",
       "      <th>3</th>\n",
       "      <td>573</td>\n",
       "      <td>G</td>\n",
       "      <td>['C', 'T']</td>\n",
       "      <td>Rv0001</td>\n",
       "      <td>572.0</td>\n",
       "      <td>Essential</td>\n",
       "      <td>dnaA</td>\n",
       "      <td>False</td>\n",
       "      <td>False</td>\n",
       "      <td>L191F</td>\n",
       "      <td>191</td>\n",
       "      <td>False</td>\n",
       "      <td>False</td>\n",
       "      <td>NaN</td>\n",
       "      <td>False</td>\n",
       "      <td>NaN</td>\n",
       "      <td>True</td>\n",
       "    </tr>\n",
       "    <tr>\n",
       "      <th>5</th>\n",
       "      <td>696</td>\n",
       "      <td>G</td>\n",
       "      <td>['A', 'C', 'T']</td>\n",
       "      <td>Rv0001</td>\n",
       "      <td>695.0</td>\n",
       "      <td>Essential</td>\n",
       "      <td>dnaA</td>\n",
       "      <td>False</td>\n",
       "      <td>False</td>\n",
       "      <td>M232I</td>\n",
       "      <td>232</td>\n",
       "      <td>False</td>\n",
       "      <td>False</td>\n",
       "      <td>NaN</td>\n",
       "      <td>False</td>\n",
       "      <td>NaN</td>\n",
       "      <td>True</td>\n",
       "    </tr>\n",
       "    <tr>\n",
       "      <th>8</th>\n",
       "      <td>697</td>\n",
       "      <td>C</td>\n",
       "      <td>['T']</td>\n",
       "      <td>Rv0001</td>\n",
       "      <td>696.0</td>\n",
       "      <td>Essential</td>\n",
       "      <td>dnaA</td>\n",
       "      <td>False</td>\n",
       "      <td>False</td>\n",
       "      <td>R233W</td>\n",
       "      <td>233</td>\n",
       "      <td>False</td>\n",
       "      <td>False</td>\n",
       "      <td>NaN</td>\n",
       "      <td>False</td>\n",
       "      <td>NaN</td>\n",
       "      <td>True</td>\n",
       "    </tr>\n",
       "    <tr>\n",
       "      <th>...</th>\n",
       "      <td>...</td>\n",
       "      <td>...</td>\n",
       "      <td>...</td>\n",
       "      <td>...</td>\n",
       "      <td>...</td>\n",
       "      <td>...</td>\n",
       "      <td>...</td>\n",
       "      <td>...</td>\n",
       "      <td>...</td>\n",
       "      <td>...</td>\n",
       "      <td>...</td>\n",
       "      <td>...</td>\n",
       "      <td>...</td>\n",
       "      <td>...</td>\n",
       "      <td>...</td>\n",
       "      <td>...</td>\n",
       "      <td>...</td>\n",
       "    </tr>\n",
       "    <tr>\n",
       "      <th>7274</th>\n",
       "      <td>4408156</td>\n",
       "      <td>A</td>\n",
       "      <td>['C', 'G']</td>\n",
       "      <td>Rv3919c</td>\n",
       "      <td>628.0</td>\n",
       "      <td>Antibiotic Resistance</td>\n",
       "      <td>gid</td>\n",
       "      <td>True</td>\n",
       "      <td>False</td>\n",
       "      <td>L16R</td>\n",
       "      <td>16</td>\n",
       "      <td>False</td>\n",
       "      <td>False</td>\n",
       "      <td>NaN</td>\n",
       "      <td>True</td>\n",
       "      <td>STM</td>\n",
       "      <td>False</td>\n",
       "    </tr>\n",
       "    <tr>\n",
       "      <th>7276</th>\n",
       "      <td>4408168</td>\n",
       "      <td>A</td>\n",
       "      <td>['C', 'G']</td>\n",
       "      <td>Rv3919c</td>\n",
       "      <td>640.0</td>\n",
       "      <td>Antibiotic Resistance</td>\n",
       "      <td>gid</td>\n",
       "      <td>False</td>\n",
       "      <td>False</td>\n",
       "      <td>F12C</td>\n",
       "      <td>12</td>\n",
       "      <td>False</td>\n",
       "      <td>False</td>\n",
       "      <td>NaN</td>\n",
       "      <td>True</td>\n",
       "      <td>STM</td>\n",
       "      <td>False</td>\n",
       "    </tr>\n",
       "    <tr>\n",
       "      <th>7278</th>\n",
       "      <td>4408185</td>\n",
       "      <td>G</td>\n",
       "      <td>['A', 'C']</td>\n",
       "      <td>Rv3919c</td>\n",
       "      <td>657.0</td>\n",
       "      <td>Antibiotic Resistance</td>\n",
       "      <td>gid</td>\n",
       "      <td>False</td>\n",
       "      <td>False</td>\n",
       "      <td>P6P</td>\n",
       "      <td>6</td>\n",
       "      <td>False</td>\n",
       "      <td>False</td>\n",
       "      <td>NaN</td>\n",
       "      <td>True</td>\n",
       "      <td>STM</td>\n",
       "      <td>False</td>\n",
       "    </tr>\n",
       "    <tr>\n",
       "      <th>7280</th>\n",
       "      <td>4408806</td>\n",
       "      <td>G</td>\n",
       "      <td>['A']</td>\n",
       "      <td>Rv3920c</td>\n",
       "      <td>472.0</td>\n",
       "      <td>Non-Essential</td>\n",
       "      <td>Rv3920c</td>\n",
       "      <td>False</td>\n",
       "      <td>False</td>\n",
       "      <td>A31V</td>\n",
       "      <td>31</td>\n",
       "      <td>False</td>\n",
       "      <td>False</td>\n",
       "      <td>NaN</td>\n",
       "      <td>False</td>\n",
       "      <td>NaN</td>\n",
       "      <td>False</td>\n",
       "    </tr>\n",
       "    <tr>\n",
       "      <th>7281</th>\n",
       "      <td>4411475</td>\n",
       "      <td>G</td>\n",
       "      <td>['A']</td>\n",
       "      <td>intergenic</td>\n",
       "      <td>NaN</td>\n",
       "      <td>None</td>\n",
       "      <td>None</td>\n",
       "      <td>False</td>\n",
       "      <td>False</td>\n",
       "      <td>None</td>\n",
       "      <td>-1</td>\n",
       "      <td>False</td>\n",
       "      <td>False</td>\n",
       "      <td>NaN</td>\n",
       "      <td>False</td>\n",
       "      <td>NaN</td>\n",
       "      <td>False</td>\n",
       "    </tr>\n",
       "  </tbody>\n",
       "</table>\n",
       "<p>4743 rows × 17 columns</p>\n",
       "</div>"
      ],
      "text/plain": [
       "          pos ref              alt     gene_id  gene_pos  \\\n",
       "0         290   G       ['C', 'T']      Rv0001     289.0   \n",
       "2         490   G            ['A']      Rv0001     489.0   \n",
       "3         573   G       ['C', 'T']      Rv0001     572.0   \n",
       "5         696   G  ['A', 'C', 'T']      Rv0001     695.0   \n",
       "8         697   C            ['T']      Rv0001     696.0   \n",
       "...       ...  ..              ...         ...       ...   \n",
       "7274  4408156   A       ['C', 'G']     Rv3919c     628.0   \n",
       "7276  4408168   A       ['C', 'G']     Rv3919c     640.0   \n",
       "7278  4408185   G       ['A', 'C']     Rv3919c     657.0   \n",
       "7280  4408806   G            ['A']     Rv3920c     472.0   \n",
       "7281  4411475   G            ['A']  intergenic       NaN   \n",
       "\n",
       "              gene_category gene_name  is_lineage  in_antigen_protein  \\\n",
       "0                 Essential      dnaA       False               False   \n",
       "2                 Essential      dnaA       False               False   \n",
       "3                 Essential      dnaA       False               False   \n",
       "5                 Essential      dnaA       False               False   \n",
       "8                 Essential      dnaA       False               False   \n",
       "...                     ...       ...         ...                 ...   \n",
       "7274  Antibiotic Resistance       gid        True               False   \n",
       "7276  Antibiotic Resistance       gid       False               False   \n",
       "7278  Antibiotic Resistance       gid       False               False   \n",
       "7280          Non-Essential   Rv3920c       False               False   \n",
       "7281                   None      None       False               False   \n",
       "\n",
       "     AA_change aa_position  in_antigen_epitope  in_known_ABR_position  \\\n",
       "0         G97A          97               False                  False   \n",
       "2        G164S         164               False                  False   \n",
       "3        L191F         191               False                  False   \n",
       "5        M232I         232               False                  False   \n",
       "8        R233W         233               False                  False   \n",
       "...        ...         ...                 ...                    ...   \n",
       "7274      L16R          16               False                  False   \n",
       "7276      F12C          12               False                  False   \n",
       "7278       P6P           6               False                  False   \n",
       "7280      A31V          31               False                  False   \n",
       "7281      None          -1               False                  False   \n",
       "\n",
       "     known_drug  in_possible_ABR_gene possible_drug  in_essential_gene_minato  \n",
       "0           NaN                 False           NaN                      True  \n",
       "2           NaN                 False           NaN                      True  \n",
       "3           NaN                 False           NaN                      True  \n",
       "5           NaN                 False           NaN                      True  \n",
       "8           NaN                 False           NaN                      True  \n",
       "...         ...                   ...           ...                       ...  \n",
       "7274        NaN                  True           STM                     False  \n",
       "7276        NaN                  True           STM                     False  \n",
       "7278        NaN                  True           STM                     False  \n",
       "7280        NaN                 False           NaN                     False  \n",
       "7281        NaN                 False           NaN                     False  \n",
       "\n",
       "[4743 rows x 17 columns]"
      ]
     },
     "execution_count": 39,
     "metadata": {},
     "output_type": "execute_result"
    }
   ],
   "source": [
    "snps"
   ]
  },
  {
   "cell_type": "code",
   "execution_count": 40,
   "id": "3756a07a-5221-4523-bac0-c15be805e968",
   "metadata": {},
   "outputs": [
    {
     "name": "stdout",
     "output_type": "stream",
     "text": [
      "1119 2701 3820\n"
     ]
    }
   ],
   "source": [
    "#enrichment of mutaitons in essential genes - look only at genic sites \n",
    "genic_snps = snps.query(\"gene_id != 'intergenic'\")\n",
    "\n",
    "num_essential = genic_snps.query(\"in_essential_gene_minato\") \n",
    "num_non_essential = genic_snps.query(\"not in_essential_gene_minato\") \n",
    "print(len(num_essential), len(num_non_essential), len(genic_snps))"
   ]
  },
  {
   "cell_type": "code",
   "execution_count": 41,
   "id": "2a5388ab-38f6-48da-bc66-c7cd1f9754ee",
   "metadata": {},
   "outputs": [
    {
     "name": "stdout",
     "output_type": "stream",
     "text": [
      "1119 2701 1055.7495019340654 2764.2504980659346\n"
     ]
    }
   ],
   "source": [
    "\n",
    "expected_freq = (sites_in_essential / (sites_in_essential+sites_in_non_essential)) * len(genic_snps)\n",
    "expected_freq_not = (sites_in_non_essential / (sites_in_essential+sites_in_non_essential)) * len(genic_snps)\n",
    "\n",
    "actual_epitopes = len(num_essential)\n",
    "actual_not_epitopes = len(num_non_essential)\n",
    "\n",
    "print(actual_epitopes, actual_not_epitopes, expected_freq, expected_freq_not)\n",
    "chisquare([actual_epitopes, actual_not_epitopes], [expected_freq, expected_freq_not])\n",
    "\n",
    "_chi_squared_data.append([\"essential_genes\", actual_epitopes, \n",
    "                          actual_not_epitopes, expected_freq, expected_freq_not, \n",
    "                          chisquare([actual_epitopes, actual_not_epitopes], [expected_freq, expected_freq_not])[0],\n",
    "                          chisquare([actual_epitopes, actual_not_epitopes], [expected_freq, expected_freq_not])[1]]\n",
    "                          )"
   ]
  },
  {
   "cell_type": "code",
   "execution_count": 42,
   "id": "f9f1c486-e7d7-4994-9762-fe0b0ea32861",
   "metadata": {},
   "outputs": [],
   "source": [
    "snps.to_csv(\"output/03.annotation/snps_with_all_annotation.csv\")"
   ]
  },
  {
   "cell_type": "code",
   "execution_count": 43,
   "id": "62edff2d-f20d-4dd1-bbd9-a12549598cf1",
   "metadata": {},
   "outputs": [
    {
     "data": {
      "text/html": [
       "<div>\n",
       "<style scoped>\n",
       "    .dataframe tbody tr th:only-of-type {\n",
       "        vertical-align: middle;\n",
       "    }\n",
       "\n",
       "    .dataframe tbody tr th {\n",
       "        vertical-align: top;\n",
       "    }\n",
       "\n",
       "    .dataframe thead th {\n",
       "        text-align: right;\n",
       "    }\n",
       "</style>\n",
       "<table border=\"1\" class=\"dataframe\">\n",
       "  <thead>\n",
       "    <tr style=\"text-align: right;\">\n",
       "      <th></th>\n",
       "      <th>category</th>\n",
       "      <th>actual</th>\n",
       "      <th>actual_not</th>\n",
       "      <th>expected</th>\n",
       "      <th>expected_not</th>\n",
       "      <th>chi_square</th>\n",
       "      <th>p_value</th>\n",
       "      <th>N</th>\n",
       "    </tr>\n",
       "  </thead>\n",
       "  <tbody>\n",
       "    <tr>\n",
       "      <th>0</th>\n",
       "      <td>antigen_protein</td>\n",
       "      <td>774</td>\n",
       "      <td>3046</td>\n",
       "      <td>518.743935</td>\n",
       "      <td>3301.256065</td>\n",
       "      <td>145.339365</td>\n",
       "      <td>1.810373e-33</td>\n",
       "      <td>3820</td>\n",
       "    </tr>\n",
       "    <tr>\n",
       "      <th>1</th>\n",
       "      <td>epitope</td>\n",
       "      <td>159</td>\n",
       "      <td>3661</td>\n",
       "      <td>44.568571</td>\n",
       "      <td>3775.431429</td>\n",
       "      <td>297.275221</td>\n",
       "      <td>1.292462e-66</td>\n",
       "      <td>3820</td>\n",
       "    </tr>\n",
       "    <tr>\n",
       "      <th>2</th>\n",
       "      <td>known_resistance</td>\n",
       "      <td>250</td>\n",
       "      <td>4493</td>\n",
       "      <td>0.911716</td>\n",
       "      <td>4742.088284</td>\n",
       "      <td>68066.049977</td>\n",
       "      <td>0.000000e+00</td>\n",
       "      <td>4743</td>\n",
       "    </tr>\n",
       "    <tr>\n",
       "      <th>3</th>\n",
       "      <td>possible_resistance</td>\n",
       "      <td>814</td>\n",
       "      <td>3929</td>\n",
       "      <td>87.580636</td>\n",
       "      <td>4655.419364</td>\n",
       "      <td>6138.482811</td>\n",
       "      <td>0.000000e+00</td>\n",
       "      <td>4743</td>\n",
       "    </tr>\n",
       "    <tr>\n",
       "      <th>4</th>\n",
       "      <td>essential_genes</td>\n",
       "      <td>1119</td>\n",
       "      <td>2701</td>\n",
       "      <td>1055.749502</td>\n",
       "      <td>2764.250498</td>\n",
       "      <td>5.236643</td>\n",
       "      <td>2.211591e-02</td>\n",
       "      <td>3820</td>\n",
       "    </tr>\n",
       "  </tbody>\n",
       "</table>\n",
       "</div>"
      ],
      "text/plain": [
       "              category  actual  actual_not     expected  expected_not  \\\n",
       "0      antigen_protein     774        3046   518.743935   3301.256065   \n",
       "1              epitope     159        3661    44.568571   3775.431429   \n",
       "2     known_resistance     250        4493     0.911716   4742.088284   \n",
       "3  possible_resistance     814        3929    87.580636   4655.419364   \n",
       "4      essential_genes    1119        2701  1055.749502   2764.250498   \n",
       "\n",
       "     chi_square       p_value     N  \n",
       "0    145.339365  1.810373e-33  3820  \n",
       "1    297.275221  1.292462e-66  3820  \n",
       "2  68066.049977  0.000000e+00  4743  \n",
       "3   6138.482811  0.000000e+00  4743  \n",
       "4      5.236643  2.211591e-02  3820  "
      ]
     },
     "execution_count": 43,
     "metadata": {},
     "output_type": "execute_result"
    }
   ],
   "source": [
    "chisquare_table = pd.DataFrame(_chi_squared_data, columns=[\"category\", \"actual\", \"actual_not\", \"expected\", \"expected_not\", \"chi_square\", \"p_value\"])\n",
    "chisquare_table[\"N\"] = chisquare_table.actual + chisquare_table.actual_not\n",
    "chisquare_table"
   ]
  },
  {
   "cell_type": "code",
   "execution_count": 44,
   "id": "7d71d27c-102d-4b35-8c78-a883165c597d",
   "metadata": {},
   "outputs": [],
   "source": [
    "\n",
    "chisquare_table.to_csv(\"output/03.annotation/chisquared_table.csv\")"
   ]
  },
  {
   "cell_type": "code",
   "execution_count": null,
   "id": "4448d438-b2cf-4cfc-8e9a-5e148e63f19b",
   "metadata": {},
   "outputs": [],
   "source": []
  }
 ],
 "metadata": {
  "kernelspec": {
   "display_name": "Python 3 (ipykernel)",
   "language": "python",
   "name": "python3"
  },
  "language_info": {
   "codemirror_mode": {
    "name": "ipython",
    "version": 3
   },
   "file_extension": ".py",
   "mimetype": "text/x-python",
   "name": "python",
   "nbconvert_exporter": "python",
   "pygments_lexer": "ipython3",
   "version": "3.9.13"
  }
 },
 "nbformat": 4,
 "nbformat_minor": 5
}
