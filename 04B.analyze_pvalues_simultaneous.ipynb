{
 "cells": [
  {
   "cell_type": "code",
   "execution_count": 1,
   "metadata": {},
   "outputs": [],
   "source": [
    "import numpy as np\n",
    "import pandas as pd\n",
    "import matplotlib.pyplot as plt\n",
    "from collections import defaultdict\n",
    "from copy import deepcopy\n",
    "import time\n",
    "import random\n",
    "from scipy import stats\n",
    "from scipy.stats import mode\n",
    "import seaborn as sns\n",
    "import warnings\n",
    "from collections import defaultdict\n",
    "warnings.filterwarnings(\"ignore\")\n",
    "from scipy.stats import chisquare\n",
    "\n",
    "def dist(p1,p2):\n",
    "    \n",
    "    total_nucleotides = 4411532    \n",
    "\n",
    "    max_dist = int(total_nucleotides / 2)\n",
    "    # accounts for circularization of genome\n",
    "    d1 = np.abs(p1 - p2)\n",
    "    \n",
    "    #print(i,j,d1)\n",
    "    if d1 > max_dist:\n",
    "        i,j=sorted([p1,p2])\n",
    "        #print(\"too_far!\", d1)\n",
    "        i = i + total_nucleotides\n",
    "        d1 = i-j\n",
    "        #print(\"new distance\", d1)\n",
    "        \n",
    "    return d1"
   ]
  },
  {
   "cell_type": "code",
   "execution_count": 2,
   "metadata": {},
   "outputs": [
    {
     "name": "stdout",
     "output_type": "stream",
     "text": [
      "mkdir: cannot create directory ‘output/04B.pair_annotation’: File exists\n"
     ]
    }
   ],
   "source": [
    "!mkdir output/04B.pair_annotation"
   ]
  },
  {
   "cell_type": "code",
   "execution_count": 3,
   "metadata": {},
   "outputs": [
    {
     "name": "stdout",
     "output_type": "stream",
     "text": [
      "total pairs 150518\n",
      "total non-lineage pairs 132012\n",
      "total_significant 62804\n"
     ]
    }
   ],
   "source": [
    "snps = pd.read_csv(\"output/03.annotation/snps_with_all_annotation.csv\", index_col=0)\n",
    "snps_columns_to_keep = [\n",
    "    \"pos\", \n",
    "    \"gene_name\", \n",
    "    \"gene_id\", \n",
    "    \"is_lineage\",\n",
    "    \"in_antigen_epitope\",\n",
    "    \"in_antigen_protein\", \n",
    "    \"in_known_ABR_position\",\n",
    "    \"known_drug\", \n",
    "    \"in_possible_ABR_gene\", \n",
    "    \"possible_drug\"\n",
    "\n",
    "]\n",
    "\n",
    "# Add gene and lineage  annotation to the results\n",
    "results = pd.read_csv(\"output/02B.comutation_pvalues/results_file_allpairs.csv\")\n",
    "results = results.merge(snps[snps_columns_to_keep], left_on=\"position_i\", right_on=\"pos\")\n",
    "results = results.merge(snps[snps_columns_to_keep], left_on=\"position_j\", right_on=\"pos\", suffixes=[\"_i\", \"_j\"])\n",
    "results.columns\n",
    "\n",
    "print(\"total pairs\", len(results))\n",
    "print(\"total non-lineage pairs\", len(results.query(\"not is_lineage_i and not is_lineage_j\")))\n",
    "\n",
    "results = results.query(\"not is_lineage_i and not is_lineage_j\")\n",
    "\n",
    "results = results[[\n",
    "   'position_i', 'gene_name_i','position_j', 'gene_name_j',\n",
    "    'n_mutations_i',\n",
    "   'n_mutations_j', 'n_branches_with_i', 'n_branches_with_j',\n",
    "   'n_muts_i_on_branch_j', 'n_muts_j_on_branch_i', 'n_muts_same_branch',\n",
    "   'n_branch_with_i_no_j', 'n_branch_with_j_no_i', 'n_branch_i_and_j',\n",
    "   'pval_beta_i_on_j', 'BH_critical_value', 'pval_beta_i_on_j_BH_sig',\n",
    "    'is_lineage_i','is_lineage_j',\n",
    "    'gene_id_i', 'gene_id_j', \n",
    "    \"in_antigen_epitope_i\",\n",
    "    \"in_antigen_protein_i\", \n",
    "    \"in_known_ABR_position_i\",\n",
    "    \"known_drug_i\", \n",
    "    \"in_possible_ABR_gene_i\", \n",
    "    \"possible_drug_i\",\n",
    "    \"in_antigen_epitope_j\",\n",
    "    \"in_antigen_protein_j\", \n",
    "    \"in_known_ABR_position_j\",\n",
    "    \"known_drug_j\", \n",
    "    \"in_possible_ABR_gene_j\", \n",
    "    \"possible_drug_j\"\n",
    "]]\n",
    "results.to_csv(\"output/04B.pair_annotation/results_allpairs_annotated.csv\")\n",
    "\n",
    "print(\"total_significant\", len(results.query(\"pval_beta_i_on_j_BH_sig\")))\n",
    "results.query(\"pval_beta_i_on_j_BH_sig\").to_csv(\"output/04B.pair_annotation/results_significant_annotated.csv\")"
   ]
  },
  {
   "cell_type": "code",
   "execution_count": 4,
   "metadata": {},
   "outputs": [
    {
     "data": {
      "text/plain": [
       "0.47574462927612643"
      ]
     },
     "execution_count": 4,
     "metadata": {},
     "output_type": "execute_result"
    }
   ],
   "source": [
    "62804/132012"
   ]
  },
  {
   "cell_type": "markdown",
   "metadata": {},
   "source": [
    "## Overall analysis of hits"
   ]
  },
  {
   "cell_type": "code",
   "execution_count": 5,
   "metadata": {},
   "outputs": [],
   "source": [
    "def annotate(top_hits):\n",
    "    def _separate_hits(logic_columns, current_df):\n",
    "        is_hit = np.sum(current_df[logic_columns].values, axis=1) > 0\n",
    "\n",
    "        hit_df = current_df.iloc[is_hit, :]\n",
    "        current_df = current_df.iloc[~is_hit, :]\n",
    "        return hit_df, current_df\n",
    "\n",
    "    # start with the df of top hits. Get just the known antibiotic hits\n",
    "    top_hits[\"annotation\"] = 'other'\n",
    "    logic_columns = [\"in_known_ABR_position_i\", \"in_known_ABR_position_j\"]\n",
    "\n",
    "    antibiotic_hits, current_df = _separate_hits(logic_columns, top_hits)\n",
    "\n",
    "    # if both are antibiotic, annotate that\n",
    "    antibiotic_hits.loc[\n",
    "        np.logical_and(\n",
    "            antibiotic_hits.in_known_ABR_position_i.values, \n",
    "            antibiotic_hits.in_known_ABR_position_j.values\n",
    "        ), \n",
    "        \"annotation\"\n",
    "    ] = \"between_known_AB\"\n",
    "\n",
    "    # if just one, annotate that\n",
    "    antibiotic_hits.loc[\n",
    "        np.logical_and(\n",
    "            antibiotic_hits.in_known_ABR_position_i.values, \n",
    "            ~antibiotic_hits.in_known_ABR_position_j.values\n",
    "        ), \n",
    "        \"annotation\"\n",
    "    ] = \"known_AB_second\"\n",
    "\n",
    "    antibiotic_hits.loc[\n",
    "        np.logical_and(\n",
    "            ~antibiotic_hits.in_known_ABR_position_i.values, \n",
    "            antibiotic_hits.in_known_ABR_position_j.values\n",
    "        ), \n",
    "        \"annotation\"\n",
    "    ] = \"known_AB_first\"\n",
    "\n",
    "    # Then get the antigen proteins\n",
    "    logic_columns = ['in_antigen_protein_i','in_antigen_protein_j',]\n",
    "\n",
    "    antigen_hits, current_df = _separate_hits(logic_columns, current_df)\n",
    "\n",
    "    # if just one, annotate that\n",
    "    antigen_hits.loc[\n",
    "        np.logical_or(\n",
    "            antigen_hits.in_antigen_protein_i.values, \n",
    "            antigen_hits.in_antigen_protein_j.values\n",
    "        ), \n",
    "        \"annotation\"\n",
    "    ] = \"one_antigen\"\n",
    "\n",
    "    antigen_hits.loc[\n",
    "        np.logical_and(\n",
    "            antigen_hits.in_antigen_protein_i.values, \n",
    "            antigen_hits.in_antigen_protein_j.values\n",
    "        ), \n",
    "        \"annotation\"\n",
    "    ] = \"both_antigen\"\n",
    "\n",
    "    # then get the maybe antibiotic hits\n",
    "    logic_columns = [\"in_possible_ABR_gene_i\", \"in_possible_ABR_gene_j\"]\n",
    "\n",
    "    maybe_antibiotic_hits, current_df = _separate_hits(logic_columns, current_df)\n",
    "\n",
    "    # if both are antibiotic, annotate that\n",
    "    maybe_antibiotic_hits.loc[\n",
    "        np.logical_and(\n",
    "            maybe_antibiotic_hits.in_possible_ABR_gene_i.values, \n",
    "            maybe_antibiotic_hits.in_possible_ABR_gene_j.values\n",
    "        ), \n",
    "        \"annotation\"\n",
    "    ] = \"between_maybe_AB\"\n",
    "\n",
    "    # if just one, annotate that\n",
    "    maybe_antibiotic_hits.loc[\n",
    "        np.logical_and(\n",
    "            maybe_antibiotic_hits.in_possible_ABR_gene_i.values, \n",
    "            ~maybe_antibiotic_hits.in_possible_ABR_gene_j.values\n",
    "        ), \n",
    "        \"annotation\"\n",
    "    ] = \"maybe_AB_second\"\n",
    "\n",
    "    maybe_antibiotic_hits.loc[\n",
    "        np.logical_and(\n",
    "            ~maybe_antibiotic_hits.in_possible_ABR_gene_i.values, \n",
    "            maybe_antibiotic_hits.in_possible_ABR_gene_j.values\n",
    "        ), \n",
    "        \"annotation\"\n",
    "    ] = \"maybe_AB_first\"\n",
    "\n",
    "    return pd.concat([antigen_hits, antibiotic_hits, maybe_antibiotic_hits, current_df])"
   ]
  },
  {
   "cell_type": "code",
   "execution_count": 6,
   "metadata": {},
   "outputs": [],
   "source": [
    "top_hits = pd.read_csv(\"output/04B.pair_annotation/results_significant_annotated.csv\")\n",
    "top_hits = annotate(top_hits)\n",
    "top_hits.to_csv(\"output/04B.pair_annotation/results_significant_annotated_with_categories.csv\")\n",
    "top_hits = pd.read_csv(\"output/04B.pair_annotation/results_significant_annotated_with_categories.csv\", index_col=0)"
   ]
  },
  {
   "cell_type": "code",
   "execution_count": 7,
   "metadata": {},
   "outputs": [
    {
     "name": "stdout",
     "output_type": "stream",
     "text": [
      "annotation\n",
      "between_known_AB     1196\n",
      "between_maybe_AB     1607\n",
      "both_antigen         3721\n",
      "known_AB_first       3349\n",
      "known_AB_second      2970\n",
      "maybe_AB_first       3280\n",
      "maybe_AB_second      1524\n",
      "one_antigen         15700\n",
      "other               29457\n",
      "dtype: int64\n"
     ]
    }
   ],
   "source": [
    "print(top_hits.groupby(\"annotation\").size())"
   ]
  },
  {
   "cell_type": "code",
   "execution_count": 8,
   "metadata": {},
   "outputs": [
    {
     "data": {
      "text/html": [
       "<div>\n",
       "<style scoped>\n",
       "    .dataframe tbody tr th:only-of-type {\n",
       "        vertical-align: middle;\n",
       "    }\n",
       "\n",
       "    .dataframe tbody tr th {\n",
       "        vertical-align: top;\n",
       "    }\n",
       "\n",
       "    .dataframe thead th {\n",
       "        text-align: right;\n",
       "    }\n",
       "</style>\n",
       "<table border=\"1\" class=\"dataframe\">\n",
       "  <thead>\n",
       "    <tr style=\"text-align: right;\">\n",
       "      <th></th>\n",
       "      <th>position_i</th>\n",
       "      <th>gene_name_i</th>\n",
       "      <th>position_j</th>\n",
       "      <th>gene_name_j</th>\n",
       "      <th>n_mutations_i</th>\n",
       "      <th>n_mutations_j</th>\n",
       "      <th>n_muts_same_branch</th>\n",
       "      <th>pval_beta_i_on_j</th>\n",
       "      <th>annotation</th>\n",
       "    </tr>\n",
       "  </thead>\n",
       "  <tbody>\n",
       "    <tr>\n",
       "      <th>0</th>\n",
       "      <td>105060</td>\n",
       "      <td>Rv0095c</td>\n",
       "      <td>105063</td>\n",
       "      <td>Rv0095c</td>\n",
       "      <td>376</td>\n",
       "      <td>361</td>\n",
       "      <td>352</td>\n",
       "      <td>0.000000e+00</td>\n",
       "      <td>other</td>\n",
       "    </tr>\n",
       "    <tr>\n",
       "      <th>3588</th>\n",
       "      <td>1341114</td>\n",
       "      <td>esxL</td>\n",
       "      <td>1341120</td>\n",
       "      <td>esxL</td>\n",
       "      <td>184</td>\n",
       "      <td>222</td>\n",
       "      <td>167</td>\n",
       "      <td>0.000000e+00</td>\n",
       "      <td>both_antigen</td>\n",
       "    </tr>\n",
       "    <tr>\n",
       "      <th>2</th>\n",
       "      <td>761155</td>\n",
       "      <td>rpoB</td>\n",
       "      <td>2155168</td>\n",
       "      <td>katG</td>\n",
       "      <td>1687</td>\n",
       "      <td>2098</td>\n",
       "      <td>687</td>\n",
       "      <td>0.000000e+00</td>\n",
       "      <td>between_known_AB</td>\n",
       "    </tr>\n",
       "    <tr>\n",
       "      <th>1089</th>\n",
       "      <td>3847215</td>\n",
       "      <td>PPE59</td>\n",
       "      <td>3847221</td>\n",
       "      <td>PPE59</td>\n",
       "      <td>161</td>\n",
       "      <td>145</td>\n",
       "      <td>136</td>\n",
       "      <td>5.497857e-288</td>\n",
       "      <td>other</td>\n",
       "    </tr>\n",
       "    <tr>\n",
       "      <th>2431</th>\n",
       "      <td>2197331</td>\n",
       "      <td>Rv1945</td>\n",
       "      <td>2197332</td>\n",
       "      <td>Rv1945</td>\n",
       "      <td>124</td>\n",
       "      <td>126</td>\n",
       "      <td>122</td>\n",
       "      <td>6.988375e-277</td>\n",
       "      <td>both_antigen</td>\n",
       "    </tr>\n",
       "    <tr>\n",
       "      <th>11443</th>\n",
       "      <td>1341099</td>\n",
       "      <td>esxL</td>\n",
       "      <td>1341114</td>\n",
       "      <td>esxL</td>\n",
       "      <td>199</td>\n",
       "      <td>184</td>\n",
       "      <td>137</td>\n",
       "      <td>4.252785e-264</td>\n",
       "      <td>both_antigen</td>\n",
       "    </tr>\n",
       "    <tr>\n",
       "      <th>12476</th>\n",
       "      <td>3841652</td>\n",
       "      <td>None</td>\n",
       "      <td>3841654</td>\n",
       "      <td>None</td>\n",
       "      <td>114</td>\n",
       "      <td>114</td>\n",
       "      <td>113</td>\n",
       "      <td>6.451416e-262</td>\n",
       "      <td>other</td>\n",
       "    </tr>\n",
       "    <tr>\n",
       "      <th>3589</th>\n",
       "      <td>1341099</td>\n",
       "      <td>esxL</td>\n",
       "      <td>1341120</td>\n",
       "      <td>esxL</td>\n",
       "      <td>199</td>\n",
       "      <td>222</td>\n",
       "      <td>137</td>\n",
       "      <td>1.318227e-252</td>\n",
       "      <td>both_antigen</td>\n",
       "    </tr>\n",
       "    <tr>\n",
       "      <th>4</th>\n",
       "      <td>781687</td>\n",
       "      <td>rpsL</td>\n",
       "      <td>2155168</td>\n",
       "      <td>katG</td>\n",
       "      <td>918</td>\n",
       "      <td>2098</td>\n",
       "      <td>405</td>\n",
       "      <td>4.842913e-245</td>\n",
       "      <td>between_known_AB</td>\n",
       "    </tr>\n",
       "    <tr>\n",
       "      <th>8156</th>\n",
       "      <td>1339435</td>\n",
       "      <td>PPE18</td>\n",
       "      <td>1339436</td>\n",
       "      <td>PPE18</td>\n",
       "      <td>109</td>\n",
       "      <td>119</td>\n",
       "      <td>107</td>\n",
       "      <td>5.308867e-243</td>\n",
       "      <td>both_antigen</td>\n",
       "    </tr>\n",
       "  </tbody>\n",
       "</table>\n",
       "</div>"
      ],
      "text/plain": [
       "       position_i gene_name_i  position_j gene_name_j  n_mutations_i  \\\n",
       "0          105060     Rv0095c      105063     Rv0095c            376   \n",
       "3588      1341114        esxL     1341120        esxL            184   \n",
       "2          761155        rpoB     2155168        katG           1687   \n",
       "1089      3847215       PPE59     3847221       PPE59            161   \n",
       "2431      2197331      Rv1945     2197332      Rv1945            124   \n",
       "11443     1341099        esxL     1341114        esxL            199   \n",
       "12476     3841652        None     3841654        None            114   \n",
       "3589      1341099        esxL     1341120        esxL            199   \n",
       "4          781687        rpsL     2155168        katG            918   \n",
       "8156      1339435       PPE18     1339436       PPE18            109   \n",
       "\n",
       "       n_mutations_j  n_muts_same_branch  pval_beta_i_on_j        annotation  \n",
       "0                361                 352      0.000000e+00             other  \n",
       "3588             222                 167      0.000000e+00      both_antigen  \n",
       "2               2098                 687      0.000000e+00  between_known_AB  \n",
       "1089             145                 136     5.497857e-288             other  \n",
       "2431             126                 122     6.988375e-277      both_antigen  \n",
       "11443            184                 137     4.252785e-264      both_antigen  \n",
       "12476            114                 113     6.451416e-262             other  \n",
       "3589             222                 137     1.318227e-252      both_antigen  \n",
       "4               2098                 405     4.842913e-245  between_known_AB  \n",
       "8156             119                 107     5.308867e-243      both_antigen  "
      ]
     },
     "execution_count": 8,
     "metadata": {},
     "output_type": "execute_result"
    }
   ],
   "source": [
    "top_hits.sort_values(\"pval_beta_i_on_j\")[[\n",
    "    \"position_i\",  \"gene_name_i\", \"position_j\", \"gene_name_j\", \n",
    "    \"n_mutations_i\", \"n_mutations_j\", \"n_muts_same_branch\", \"pval_beta_i_on_j\", \"annotation\"\n",
    "]].head(10)"
   ]
  },
  {
   "cell_type": "code",
   "execution_count": 9,
   "metadata": {},
   "outputs": [
    {
     "data": {
      "text/plain": [
       "87"
      ]
     },
     "execution_count": 9,
     "metadata": {},
     "output_type": "execute_result"
    }
   ],
   "source": [
    "#What fraction of the top hits in terms of p value are within 100 base pairs? \n",
    "top_hits = top_hits.sort_values(\"pval_beta_i_on_j\")\n",
    "top_hits[\"mutation_distance\"]=[dist(x,y) for x,y in zip(top_hits.position_i, top_hits.position_j)]\n",
    "len(top_hits.iloc[0:100].query(\"mutation_distance <= 100\"))"
   ]
  },
  {
   "cell_type": "code",
   "execution_count": 10,
   "metadata": {},
   "outputs": [
    {
     "data": {
      "image/png": "[encoded data removed]",
      "text/plain": [
       "<Figure size 432x288 with 1 Axes>"
      ]
     },
     "metadata": {
      "needs_background": "light"
     },
     "output_type": "display_data"
    }
   ],
   "source": [
    "\n",
    "pal = sns.color_palette(\"Blues\",4)\n",
    "\n",
    "for_display = top_hits\n",
    "for_display[\"mutation_distance\"] = [dist(x,y) for x,y in zip(for_display.position_i, for_display.position_j)]\n",
    "figure = plt.figure()\n",
    "ax = figure.gca()\n",
    "\n",
    "ax.hist(for_display.mutation_distance, 50, color=pal[3])\n",
    "plt.xlabel(\"Distance on genome (Mb)\")\n",
    "plt.ylabel(\"Number of pairs\")\n",
    "sns.despine()\n",
    "#plt.show()\n",
    "plt.savefig(\"figures/simultaneous_mutations_distance.pdf\")"
   ]
  },
  {
   "cell_type": "markdown",
   "metadata": {},
   "source": [
    "## Characterization of simultaneous, proximal pairs"
   ]
  },
  {
   "cell_type": "code",
   "execution_count": 11,
   "metadata": {},
   "outputs": [],
   "source": [
    "top_hits = pd.read_csv(\"output/04B.pair_annotation/results_significant_annotated.csv\")\n",
    "top_hits = annotate(top_hits)\n",
    "top_hits[\"mutation_distance\"] = [dist(x,y) for x,y in zip(top_hits.position_i, top_hits.position_j)]\n",
    "\n",
    "top_hits.to_csv(\"output/04B.pair_annotation/results_significant_annotated_with_categories.csv\")\n",
    "\n",
    "top_hits = pd.read_csv(\"output/04B.pair_annotation/results_significant_annotated_with_categories.csv\", index_col=0)"
   ]
  },
  {
   "cell_type": "code",
   "execution_count": 12,
   "metadata": {},
   "outputs": [
    {
     "name": "stdout",
     "output_type": "stream",
     "text": [
      "number of close pairs 2361 number of far pairs 60443\n",
      "fraction intergenic 0.15586615840745446 \n",
      " fraction genic 0.8242270224481152 \n",
      " fraction not same gene/one genic one intergenic 0.019906819144430325 \n",
      "\n"
     ]
    }
   ],
   "source": [
    "# Are the near distance hits more likely to be genic or intergenic? \n",
    "\n",
    "all_hits = pd.read_csv(\"output/04B.pair_annotation/results_significant_annotated.csv\", index_col=0)\n",
    "all_hits[\"mutation_distance\"] = [dist(x,y) for x,y in zip(all_hits.position_i, all_hits.position_j)]\n",
    "\n",
    "near_hits = all_hits.query('mutation_distance <= 100')\n",
    "far_hits = all_hits.query('mutation_distance > 100')\n",
    "\n",
    "print(\"number of close pairs\", len(near_hits), \"number of far pairs\", len(far_hits))\n",
    "N = len(near_hits)\n",
    "print(\"fraction intergenic\", len(near_hits.query(\"gene_name_i == gene_name_j == 'None'\"))/N, \"\\n\",\n",
    "      \"fraction genic\", len(near_hits.query(\"gene_name_i == gene_name_j != 'None'\"))/N,\"\\n\",\n",
    "      \"fraction not same gene/one genic one intergenic\", len(near_hits.query(\"gene_name_i != gene_name_j\"))/N,\"\\n\"\n",
    "     )\n"
   ]
  },
  {
   "cell_type": "code",
   "execution_count": 13,
   "metadata": {},
   "outputs": [
    {
     "data": {
      "image/png": "[encoded data removed]",
      "text/plain": [
       "<Figure size 432x288 with 1 Axes>"
      ]
     },
     "metadata": {
      "needs_background": "light"
     },
     "output_type": "display_data"
    }
   ],
   "source": [
    "# At what distance are the pairs actually enriched? \n",
    "# Bin size of 100\n",
    "plt.xlim([0,10000])\n",
    "plt.hist(top_hits.mutation_distance, bins = np.arange(0,10000,100))\n",
    "plt.savefig(\"figures/enrichment_by_distance.pdf\")"
   ]
  },
  {
   "cell_type": "code",
   "execution_count": 14,
   "metadata": {},
   "outputs": [
    {
     "name": "stdout",
     "output_type": "stream",
     "text": [
      "62804\n",
      "2361\n",
      "number of pairs in the same codon 115\n",
      "92\n"
     ]
    }
   ],
   "source": [
    "## What fraction are in the same codon? \n",
    "\n",
    "# annotate with codon position\n",
    "snps = pd.read_csv(\"output/03.annotation/snps_with_all_annotation.csv\",index_col=0)\n",
    "snps_aa = snps.query(\"AA_change != 'None'\")\n",
    "snps_aa[\"AA\"] = [\"\".join(list(x)[1:-1]) for x in snps_aa.AA_change]\n",
    "\n",
    "print(len(all_hits))\n",
    "\n",
    "within_3 = all_hits.query(\"mutation_distance <= 100\")\n",
    "print(len(within_3))\n",
    "\n",
    "within_3 = within_3.merge(snps_aa[[\"pos\", \"AA\"]], left_on=\"position_i\", right_on=\"pos\", how=\"left\")\n",
    "within_3 = within_3.merge(snps_aa[[\"pos\", \"AA\"]], left_on=\"position_j\", \n",
    "                          right_on=\"pos\", how=\"left\", suffixes=[\"_i\", \"_j\"])\n",
    "print(\"number of pairs in the same codon\", len(within_3.query(\"AA_i == AA_j\")))\n",
    "\n",
    "within_3[\"fraction\"] = within_3.n_muts_same_branch / pd.concat(\n",
    "    [within_3.n_mutations_i,within_3.n_mutations_j], axis=1\n",
    ").min(axis=1)\n",
    "\n",
    "print(len(within_3.query(\"AA_i == AA_j and fraction > .8\")))"
   ]
  },
  {
   "cell_type": "code",
   "execution_count": 15,
   "metadata": {},
   "outputs": [
    {
     "data": {
      "text/plain": [
       "0.04870817450232952"
      ]
     },
     "execution_count": 15,
     "metadata": {},
     "output_type": "execute_result"
    }
   ],
   "source": [
    "115/2361"
   ]
  },
  {
   "cell_type": "code",
   "execution_count": 16,
   "metadata": {},
   "outputs": [
    {
     "data": {
      "image/png": "[encoded data removed]",
      "text/plain": [
       "<Figure size 432x432 with 3 Axes>"
      ]
     },
     "metadata": {
      "needs_background": "light"
     },
     "output_type": "display_data"
    }
   ],
   "source": [
    "# fraction of times a mutation happens simultaneously compared to the # of times\n",
    "# the less frequent mutation happens\n",
    "top_hits[\"fraction\"] = top_hits.n_muts_same_branch / pd.concat([top_hits.n_mutations_i,top_hits.n_mutations_j], axis=1).min(axis=1)\n",
    "\n",
    "sns.jointplot(data = top_hits.query('mutation_distance<1000'),\n",
    "                                       x=\"mutation_distance\", \n",
    "              y=\"fraction\", linewidth=0, alpha=0.2, kind='kde')\n",
    "plt.savefig(\"figures/fraction_simultaneous_vs_distance_density.pdf\")"
   ]
  },
  {
   "cell_type": "code",
   "execution_count": 17,
   "metadata": {},
   "outputs": [
    {
     "data": {
      "image/png": "[encoded data removed]",
      "text/plain": [
       "<Figure size 432x432 with 3 Axes>"
      ]
     },
     "metadata": {
      "needs_background": "light"
     },
     "output_type": "display_data"
    }
   ],
   "source": [
    "\n",
    "sns.jointplot(data = top_hits.query('mutation_distance<1000'),\n",
    "                                       x=\"mutation_distance\", \n",
    "              y=\"fraction\", linewidth=0, alpha=0.2)\n",
    "plt.savefig(\"figures/fraction_simultaneous_vs_distance.pdf\")"
   ]
  },
  {
   "cell_type": "markdown",
   "metadata": {},
   "source": [
    "## Enrichment statistics"
   ]
  },
  {
   "cell_type": "code",
   "execution_count": 18,
   "metadata": {},
   "outputs": [
    {
     "name": "stdout",
     "output_type": "stream",
     "text": [
      "annotation\n",
      "between_known_AB     3369\n",
      "between_maybe_AB     2298\n",
      "both_antigen         8872\n",
      "known_AB_first      13102\n",
      "known_AB_second     14790\n",
      "maybe_AB_first       5948\n",
      "maybe_AB_second      2874\n",
      "one_antigen         36310\n",
      "other               44449\n",
      "dtype: int64\n"
     ]
    }
   ],
   "source": [
    "\n",
    "all_hits = pd.read_csv(\"output/04B.pair_annotation/results_allpairs_annotated.csv\")\n",
    "\n",
    "all_hits = annotate(all_hits)\n",
    "all_hits.to_csv(\"output/04B.pair_annotation/results_allpairs_annotation_withcategories.csv\")\n",
    "print(all_hits.groupby(\"annotation\").size())"
   ]
  },
  {
   "cell_type": "markdown",
   "metadata": {},
   "source": [
    "#### Question 1: are the overlapping hits an enrichment in some way based on our expectation from the distribution of SNPs?"
   ]
  },
  {
   "cell_type": "code",
   "execution_count": 19,
   "metadata": {},
   "outputs": [
    {
     "name": "stdout",
     "output_type": "stream",
     "text": [
      "annotation\n",
      "between_known_AB     3369\n",
      "between_maybe_AB     2298\n",
      "both_antigen         8872\n",
      "known_AB_first      13102\n",
      "known_AB_second     14790\n",
      "maybe_AB_first       5948\n",
      "maybe_AB_second      2874\n",
      "one_antigen         36310\n",
      "other               44449\n",
      "dtype: int64\n",
      "Power_divergenceResult(statistic=60410.674337234035, pvalue=0.0)\n",
      "                  actual_pair_freq  expected_pair_freq\n",
      "annotation                                            \n",
      "between_known_AB              3369          366.764404\n",
      "between_maybe_AB              2298         1866.660637\n",
      "both_antigen                  8872         3515.516032\n",
      "known_AB_first               13102         6591.489866\n",
      "known_AB_second              14790         6591.489866\n",
      "maybe_AB_first                5948        10442.046647\n",
      "maybe_AB_second               2874        10442.046647\n",
      "one_antigen                  36310        33783.473184\n",
      "other                        44449        58412.512717\n"
     ]
    }
   ],
   "source": [
    "\n",
    "top_hits = pd.read_csv(\"output/04B.pair_annotation/results_significant_annotated_with_categories.csv\", index_col=0)\n",
    "\n",
    "all_hits = pd.read_csv(\"output/04B.pair_annotation/results_allpairs_annotated.csv\")\n",
    "\n",
    "all_hits = annotate(all_hits)\n",
    "all_hits.to_csv(\"output/04B.pair_annotation/results_allpairs_annotation_withcategories.csv\")\n",
    "print(all_hits.groupby(\"annotation\").size())\n",
    "\n",
    "## Actual numbers: 159 epitopes, 774 antigens, 250 known resistance, 814 possible resistance, 2747 no category\n",
    "total_snps = len(snps)\n",
    "\n",
    "p_epitope = 159/total_snps\n",
    "p_antigen = 774/total_snps\n",
    "p_known_R = 250/total_snps\n",
    "p_possible_R = (814-250)/total_snps\n",
    "p_other = (total_snps - 814 -774)/total_snps\n",
    "\n",
    "# bang this out\n",
    "e_between_known_AB = p_known_R * p_known_R\n",
    "e_between_maybe_AB = p_possible_R * p_possible_R\n",
    "e_both_antigen = p_antigen * p_antigen\n",
    "\n",
    "e_known_AB_first = p_known_R * (1-p_known_R)\n",
    "e_known_AB_second = p_known_R * (1-p_known_R)\n",
    "\n",
    "e_maybe_AB_first = p_possible_R * (p_other)\n",
    "e_maybe_AB_second = p_possible_R * (p_other)\n",
    "\n",
    "e_one_antigen = 2 * p_antigen * (p_other + p_possible_R)\n",
    "e_other = p_other * p_other\n",
    "\n",
    "\n",
    "top_hits_values = all_hits.groupby(\"annotation\").size()\n",
    "labels = all_hits.groupby(\"annotation\").size().index\n",
    "\n",
    "all_hits_expectation = np.array([e_between_known_AB, e_between_maybe_AB, e_both_antigen, e_known_AB_first, \n",
    "                        e_known_AB_second, e_maybe_AB_first, e_maybe_AB_second, e_one_antigen, e_other]) * len(all_hits)\n",
    "\n",
    "## Table of nice results\n",
    "\n",
    "result_df = pd.DataFrame({\n",
    "                          \"actual_pair_freq\": top_hits_values, \n",
    "                          \"expected_pair_freq\": all_hits_expectation})\n",
    "print(chisquare(top_hits_values,  f_exp=all_hits_expectation))\n",
    "\n",
    "print(result_df)\n",
    "result_df1 = result_df\n",
    "result_df1[\"chi_square\"] = chisquare(top_hits_values,  f_exp=all_hits_expectation)[0]\n",
    "result_df1[\"p_value\"] = chisquare(top_hits_values,  f_exp=all_hits_expectation)[1]\n",
    "result_df1[\"category\"] = result_df1.index\n",
    "result_df1.to_csv(\"output/04B.chisquare_all_pairs_vs_expected.csv\")"
   ]
  },
  {
   "cell_type": "code",
   "execution_count": 20,
   "metadata": {},
   "outputs": [
    {
     "name": "stdout",
     "output_type": "stream",
     "text": [
      "Power_divergenceResult(statistic=7587.502894880856, pvalue=0.0)\n",
      "           category  actual_hit_freq  expected_hit_freq\n",
      "0  between_known_AB             1196        1602.783656\n",
      "1  between_maybe_AB             1607        1093.261158\n",
      "2      both_antigen             3721        4220.806351\n",
      "3    known_AB_first             3349        6233.206133\n",
      "4   known_AB_second             2970        7036.263067\n",
      "5    maybe_AB_first             3280        2829.729055\n",
      "6   maybe_AB_second             1524        1367.290065\n",
      "7       one_antigen            15700       17274.287489\n",
      "8             other            29457       21146.373027\n"
     ]
    }
   ],
   "source": [
    "from scipy.stats import chisquare\n",
    "\n",
    "top_hits_values = top_hits.groupby(\"annotation\").size().values\n",
    "all_hits_expectation = all_hits.groupby(\"annotation\").size().values / len(all_hits) * len(top_hits)\n",
    "\n",
    "print(chisquare(top_hits_values,  f_exp=all_hits_expectation))\n",
    "\n",
    "## Table of nice results\n",
    "\n",
    "result_df = pd.DataFrame({ \n",
    "    \"category\": top_hits.groupby(\"annotation\").size().index,\n",
    "    \"actual_hit_freq\": top_hits_values, \n",
    "    \"expected_hit_freq\": all_hits_expectation})\n",
    "\n",
    "print(result_df)\n",
    "result_df2 = result_df"
   ]
  },
  {
   "cell_type": "code",
   "execution_count": 21,
   "metadata": {},
   "outputs": [],
   "source": [
    "top_hits = top_hits.sort_values(\"pval_beta_i_on_j\")"
   ]
  },
  {
   "cell_type": "code",
   "execution_count": 22,
   "metadata": {},
   "outputs": [
    {
     "data": {
      "text/plain": [
       "annotation\n",
       "between_known_AB      36\n",
       "between_maybe_AB     194\n",
       "both_antigen        1202\n",
       "known_AB_first         6\n",
       "known_AB_second        9\n",
       "one_antigen           14\n",
       "other                884\n",
       "dtype: int64"
      ]
     },
     "execution_count": 22,
     "metadata": {},
     "output_type": "execute_result"
    }
   ],
   "source": [
    "top_hits.query(\"mutation_distance < 100\").groupby(\"annotation\").size()"
   ]
  },
  {
   "cell_type": "code",
   "execution_count": 23,
   "metadata": {},
   "outputs": [
    {
     "data": {
      "text/plain": [
       "annotation\n",
       "between_known_AB     8\n",
       "both_antigen        46\n",
       "known_AB_second      1\n",
       "other               45\n",
       "dtype: int64"
      ]
     },
     "execution_count": 23,
     "metadata": {},
     "output_type": "execute_result"
    }
   ],
   "source": [
    "top_hits.iloc[0:100].groupby(\"annotation\").size()"
   ]
  },
  {
   "cell_type": "code",
   "execution_count": 24,
   "metadata": {},
   "outputs": [
    {
     "data": {
      "text/plain": [
       "annotation\n",
       "between_known_AB     1196\n",
       "between_maybe_AB     1607\n",
       "both_antigen         3721\n",
       "known_AB_first       3349\n",
       "known_AB_second      2970\n",
       "maybe_AB_first       3280\n",
       "maybe_AB_second      1524\n",
       "one_antigen         15700\n",
       "other               29457\n",
       "dtype: int64"
      ]
     },
     "execution_count": 24,
     "metadata": {},
     "output_type": "execute_result"
    }
   ],
   "source": [
    "top_hits.groupby(\"annotation\").size()"
   ]
  },
  {
   "cell_type": "code",
   "execution_count": 25,
   "metadata": {},
   "outputs": [
    {
     "data": {
      "text/plain": [
       "annotation\n",
       "between_known_AB     8\n",
       "both_antigen        46\n",
       "known_AB_second      1\n",
       "other               45\n",
       "dtype: int64"
      ]
     },
     "execution_count": 25,
     "metadata": {},
     "output_type": "execute_result"
    }
   ],
   "source": [
    "top_hits_values = top_hits.iloc[0:100].groupby(\"annotation\").size()\n",
    "top_hits_values"
   ]
  },
  {
   "cell_type": "code",
   "execution_count": 26,
   "metadata": {},
   "outputs": [
    {
     "name": "stdout",
     "output_type": "stream",
     "text": [
      "Power_divergenceResult(statistic=334.1370556231716, pvalue=2.1948988662393545e-67)\n",
      "                  actual_top_hit_freq  expected_top_hit_freq\n",
      "annotation                                                  \n",
      "between_known_AB                  8.0               1.904337\n",
      "between_maybe_AB                  NaN               2.558754\n",
      "both_antigen                     46.0               5.924782\n",
      "known_AB_first                    NaN               5.332463\n",
      "known_AB_second                   1.0               4.728998\n",
      "maybe_AB_first                    NaN               5.222597\n",
      "maybe_AB_second                   NaN               2.426597\n",
      "one_antigen                       NaN              24.998408\n",
      "other                            45.0              46.903063\n"
     ]
    }
   ],
   "source": [
    "from scipy.stats import chisquare\n",
    "\n",
    "top_hits=top_hits.sort_values(\"pval_beta_i_on_j\")\n",
    "\n",
    "top_hits_values = top_hits.iloc[0:100].groupby(\"annotation\").size()\n",
    "all_hits_expectation = top_hits.groupby(\"annotation\").size() / len(top_hits) * 100\n",
    "\n",
    "print(chisquare([  8, 0, 46,  0, 1, 0, 0,  0, 45],  f_exp=all_hits_expectation))\n",
    "\n",
    "## Table of nice results\n",
    "\n",
    "\n",
    "result_df = pd.DataFrame({ \n",
    "    #\"category\": top_hits.groupby(\"annotation\").size().index,\n",
    "    \"actual_top_hit_freq\": top_hits_values, \n",
    "    \"expected_top_hit_freq\": all_hits_expectation})\n",
    "\n",
    "print(result_df)\n",
    "result_df3 = result_df\n",
    "result_df3[\"category\"] = result_df3.index"
   ]
  },
  {
   "cell_type": "code",
   "execution_count": 27,
   "metadata": {},
   "outputs": [
    {
     "data": {
      "image/png": "[encoded data removed]",
      "text/plain": [
       "<Figure size 720x360 with 1 Axes>"
      ]
     },
     "metadata": {
      "needs_background": "light"
     },
     "output_type": "display_data"
    }
   ],
   "source": [
    "### Combine all three into bar plot\n",
    "def _process_result_df(result_df):\n",
    "    cats_to_remove = [\"between_maybe_AB\", \"maybe_AB_first\", \"maybe_AB_second\"]\n",
    "    result_df = result_df.query(\"category not in @cats_to_remove\")\n",
    "\n",
    "    desired_order = [\"known_AB_first\", \"known_AB_second\", \"between_known_AB\", \"one_antigen\",\"both_antigen\",  \"other\"]\n",
    "\n",
    "\n",
    "    to_plot = result_df.melt([\"category\"])\n",
    "    to_plot[\"category_sorter\"] = [desired_order.index(x) for x in to_plot.category]\n",
    "    #to_plot[\"value\"] = [np.log10(x) for x in to_plot.value]\n",
    "\n",
    "    # normalize the result dataframe\n",
    "    to_plot[\"value_norm\"] = to_plot.value / (to_plot.value.sum()/2)\n",
    "    \n",
    "    return to_plot\n",
    "\n",
    "pal = sns.color_palette(\"Blues\",4)\n",
    "\n",
    "toplot1 = _process_result_df(result_df1)\n",
    "toplot2 = _process_result_df(result_df2)\n",
    "toplot3 = _process_result_df(result_df3)\n",
    "\n",
    "to_plot = pd.concat([toplot1, toplot2, toplot3])\n",
    "\n",
    "categories_to_keep = [\"expected_pair_freq\", \"actual_top_hit_freq\"]\n",
    "to_plot = to_plot.query(\"variable in @categories_to_keep\")\n",
    "\n",
    "desired_order = [\"expected_pair_freq\", \"actual_pair_freq\", \"actual_hit_freq\", \"actual_top_hit_freq\"]\n",
    "to_plot[\"sorter\"] = [desired_order.index(x) for x in to_plot.variable]\n",
    "to_plot = to_plot.sort_values([\"sorter\", \"category_sorter\"])\n",
    "\n",
    "\n",
    "fig= plt.figure(figsize=(10,5))\n",
    "ax = fig.gca()\n",
    "\n",
    "sns.barplot(data = to_plot, x='category', y = 'value_norm', hue='variable',\n",
    "            palette=[pal[0], pal[3]]\n",
    "            \n",
    "           )\n",
    "plt.xticks(rotation=90)\n",
    "#cs = chisquare(top_hits_values,  f_exp=all_hits_expectation)\n",
    "\n",
    "sns.despine()\n",
    "plt.savefig(\"figures/simultaneous_mutations_category.pdf\")"
   ]
  },
  {
   "cell_type": "markdown",
   "metadata": {},
   "source": [
    "## Repeat enrichment analysis treating the proximal mutations as separate"
   ]
  },
  {
   "cell_type": "code",
   "execution_count": 28,
   "metadata": {},
   "outputs": [
    {
     "name": "stdout",
     "output_type": "stream",
     "text": [
      "2578 129434\n"
     ]
    }
   ],
   "source": [
    "all_hits[\"mutation_distance\"]=[dist(x,y) for x,y in zip(all_hits.position_i, all_hits.position_j)]\n",
    "\n",
    "all_hits_close = all_hits.query(\"mutation_distance <= 100\")\n",
    "all_hits_far = all_hits.query(\"mutation_distance > 100\")\n",
    "print(len(all_hits_close), len(all_hits_far))"
   ]
  },
  {
   "cell_type": "code",
   "execution_count": 29,
   "metadata": {},
   "outputs": [
    {
     "data": {
      "text/plain": [
       "annotation\n",
       "between_known_AB      70\n",
       "between_maybe_AB     199\n",
       "both_antigen        1312\n",
       "known_AB_first        15\n",
       "known_AB_second       20\n",
       "one_antigen           33\n",
       "other                929\n",
       "dtype: int64"
      ]
     },
     "execution_count": 29,
     "metadata": {},
     "output_type": "execute_result"
    }
   ],
   "source": [
    "top_hits_values = all_hits_close.groupby(\"annotation\").size()\n",
    "top_hits_values"
   ]
  },
  {
   "cell_type": "code",
   "execution_count": 30,
   "metadata": {},
   "outputs": [
    {
     "name": "stdout",
     "output_type": "stream",
     "text": [
      "Power_divergenceResult(statistic=25028.7338581076, pvalue=0.0)\n",
      "   actual_pair_freq  expected_pair_freq\n",
      "0                70            7.162369\n",
      "1               199           36.453134\n",
      "2              1312           68.652852\n",
      "3                15          128.722092\n",
      "4                20          128.722092\n",
      "5                 0          203.917797\n",
      "6                 0          203.917797\n",
      "7                33          659.741492\n",
      "8               929         1140.710373\n"
     ]
    }
   ],
   "source": [
    "\n",
    "# need to manually define to ensure that the 0's are in place\n",
    "top_hits_values = [  70, 199, 1312,   15,   20,  0, 0, 33, 929]\n",
    "\n",
    "labels = all_hits_close.groupby(\"annotation\").size().index\n",
    "\n",
    "all_hits_close_expectation = np.array([\n",
    "    e_between_known_AB, e_between_maybe_AB, e_both_antigen, e_known_AB_first, \n",
    "    e_known_AB_second, e_maybe_AB_first, e_maybe_AB_second, e_one_antigen, e_other\n",
    "]) * np.sum(top_hits_values)\n",
    "\n",
    "## Table of nice results\n",
    "\n",
    "result_df = pd.DataFrame({\n",
    "                          \"actual_pair_freq\": top_hits_values, \n",
    "                          \"expected_pair_freq\": all_hits_close_expectation})\n",
    "print(chisquare(top_hits_values,  f_exp=all_hits_close_expectation))\n",
    "\n",
    "print(result_df)\n",
    "results_df1_close = result_df\n",
    "#result_df1_close[\"category\"] = "
   ]
  },
  {
   "cell_type": "code",
   "execution_count": 31,
   "metadata": {},
   "outputs": [
    {
     "name": "stdout",
     "output_type": "stream",
     "text": [
      "Power_divergenceResult(statistic=57139.046666225535, pvalue=0.0)\n",
      "                  actual_pair_freq  expected_pair_freq\n",
      "annotation                                            \n",
      "between_known_AB              3299          359.602035\n",
      "between_maybe_AB              2099         1830.207503\n",
      "both_antigen                  7560         3446.863180\n",
      "known_AB_first               13087         6462.767773\n",
      "known_AB_second              14770         6462.767773\n",
      "maybe_AB_first                5948        10238.128850\n",
      "maybe_AB_second               2874        10238.128850\n",
      "one_antigen                  36277        33123.731692\n",
      "other                        43520        57271.802344\n"
     ]
    }
   ],
   "source": [
    "top_hits_values = all_hits_far.groupby(\"annotation\").size()\n",
    "\n",
    "labels = all_hits_far.groupby(\"annotation\").size().index\n",
    "\n",
    "all_hits_far_expectation = np.array([e_between_known_AB, e_between_maybe_AB, e_both_antigen, e_known_AB_first, \n",
    "                        e_known_AB_second, e_maybe_AB_first, e_maybe_AB_second, e_one_antigen, e_other]) * len(all_hits_far)\n",
    "\n",
    "## Table of nice results\n",
    "\n",
    "result_df = pd.DataFrame({\n",
    "                          \"actual_pair_freq\": top_hits_values, \n",
    "                          \"expected_pair_freq\": all_hits_far_expectation})\n",
    "print(chisquare(top_hits_values,  f_exp=all_hits_far_expectation))\n",
    "\n",
    "print(result_df)\n",
    "results_df1_far = result_df"
   ]
  },
  {
   "cell_type": "code",
   "execution_count": 32,
   "metadata": {},
   "outputs": [
    {
     "data": {
      "text/plain": [
       "annotation\n",
       "both_antigen    52\n",
       "other           48\n",
       "dtype: int64"
      ]
     },
     "execution_count": 32,
     "metadata": {},
     "output_type": "execute_result"
    }
   ],
   "source": [
    "\n",
    "top_hits=all_hits_close.sort_values(\"pval_beta_i_on_j\")\n",
    "\n",
    "top_hits_values = top_hits.iloc[0:100].groupby(\"annotation\").size()\n",
    "top_hits_values"
   ]
  },
  {
   "cell_type": "code",
   "execution_count": 33,
   "metadata": {},
   "outputs": [
    {
     "name": "stdout",
     "output_type": "stream",
     "text": [
      "Power_divergenceResult(statistic=17.068571241040722, pvalue=0.009034511214282233)\n",
      "                  actual_top_hit_freq_close  expected_top_hit_freq_close\n",
      "annotation                                                              \n",
      "between_known_AB                        NaN                     2.715283\n",
      "between_maybe_AB                        NaN                     7.719162\n",
      "both_antigen                           52.0                    50.892164\n",
      "known_AB_first                          NaN                     0.581846\n",
      "known_AB_second                         NaN                     0.775795\n",
      "one_antigen                             NaN                     1.280062\n",
      "other                                  48.0                    36.035687\n"
     ]
    }
   ],
   "source": [
    "\n",
    "top_hits=all_hits_close.sort_values(\"pval_beta_i_on_j\")\n",
    "\n",
    "top_hits_values = top_hits.iloc[0:100].groupby(\"annotation\").size()\n",
    "\n",
    "all_hits_expectation = all_hits_close.groupby(\"annotation\").size() / len(top_hits) * 100\n",
    "\n",
    "print(chisquare([  0, 0, 52,  0, 0,  0, 48],  f_exp=all_hits_expectation))\n",
    "\n",
    "## Table of nice results\n",
    "\n",
    "\n",
    "result_df = pd.DataFrame({ \n",
    "    #\"category\": top_hits.groupby(\"annotation\").size().index,\n",
    "    \"actual_top_hit_freq_close\": top_hits_values, \n",
    "    \"expected_top_hit_freq_close\": all_hits_expectation})\n",
    "\n",
    "print(result_df)\n",
    "results_df3_close = result_df\n",
    "results_df3_close[\"category\"] = results_df3_close.index"
   ]
  },
  {
   "cell_type": "code",
   "execution_count": 34,
   "metadata": {},
   "outputs": [
    {
     "data": {
      "text/plain": [
       "annotation\n",
       "between_known_AB    29\n",
       "between_maybe_AB     2\n",
       "both_antigen        10\n",
       "known_AB_first       2\n",
       "known_AB_second      1\n",
       "maybe_AB_first       5\n",
       "one_antigen         20\n",
       "other               31\n",
       "dtype: int64"
      ]
     },
     "execution_count": 34,
     "metadata": {},
     "output_type": "execute_result"
    }
   ],
   "source": [
    "top_hits=all_hits_far.sort_values(\"pval_beta_i_on_j\")\n",
    "top_hits_values = top_hits.iloc[0:100].groupby(\"annotation\").size()\n",
    "top_hits_values"
   ]
  },
  {
   "cell_type": "code",
   "execution_count": 35,
   "metadata": {},
   "outputs": [
    {
     "name": "stdout",
     "output_type": "stream",
     "text": [
      "Power_divergenceResult(statistic=298.3246367947302, pvalue=9.358750940408153e-60)\n",
      "                  actual_top_hit_freq_far  expected_top_hit_freq_far\n",
      "annotation                                                          \n",
      "between_known_AB                     29.0                   2.548789\n",
      "between_maybe_AB                      2.0                   1.621676\n",
      "both_antigen                         10.0                   5.840815\n",
      "known_AB_first                        2.0                  10.110945\n",
      "known_AB_second                       1.0                  11.411221\n",
      "maybe_AB_first                        5.0                   4.595392\n",
      "maybe_AB_second                       NaN                   2.220437\n",
      "one_antigen                          20.0                  28.027412\n",
      "other                                31.0                  33.623314\n"
     ]
    },
    {
     "data": {
      "text/html": [
       "<div>\n",
       "<style scoped>\n",
       "    .dataframe tbody tr th:only-of-type {\n",
       "        vertical-align: middle;\n",
       "    }\n",
       "\n",
       "    .dataframe tbody tr th {\n",
       "        vertical-align: top;\n",
       "    }\n",
       "\n",
       "    .dataframe thead th {\n",
       "        text-align: right;\n",
       "    }\n",
       "</style>\n",
       "<table border=\"1\" class=\"dataframe\">\n",
       "  <thead>\n",
       "    <tr style=\"text-align: right;\">\n",
       "      <th></th>\n",
       "      <th>actual_top_hit_freq_far</th>\n",
       "      <th>expected_top_hit_freq_far</th>\n",
       "      <th>category</th>\n",
       "    </tr>\n",
       "    <tr>\n",
       "      <th>annotation</th>\n",
       "      <th></th>\n",
       "      <th></th>\n",
       "      <th></th>\n",
       "    </tr>\n",
       "  </thead>\n",
       "  <tbody>\n",
       "    <tr>\n",
       "      <th>between_known_AB</th>\n",
       "      <td>29.0</td>\n",
       "      <td>2.548789</td>\n",
       "      <td>between_known_AB</td>\n",
       "    </tr>\n",
       "    <tr>\n",
       "      <th>between_maybe_AB</th>\n",
       "      <td>2.0</td>\n",
       "      <td>1.621676</td>\n",
       "      <td>between_maybe_AB</td>\n",
       "    </tr>\n",
       "    <tr>\n",
       "      <th>both_antigen</th>\n",
       "      <td>10.0</td>\n",
       "      <td>5.840815</td>\n",
       "      <td>both_antigen</td>\n",
       "    </tr>\n",
       "    <tr>\n",
       "      <th>known_AB_first</th>\n",
       "      <td>2.0</td>\n",
       "      <td>10.110945</td>\n",
       "      <td>known_AB_first</td>\n",
       "    </tr>\n",
       "    <tr>\n",
       "      <th>known_AB_second</th>\n",
       "      <td>1.0</td>\n",
       "      <td>11.411221</td>\n",
       "      <td>known_AB_second</td>\n",
       "    </tr>\n",
       "    <tr>\n",
       "      <th>maybe_AB_first</th>\n",
       "      <td>5.0</td>\n",
       "      <td>4.595392</td>\n",
       "      <td>maybe_AB_first</td>\n",
       "    </tr>\n",
       "    <tr>\n",
       "      <th>maybe_AB_second</th>\n",
       "      <td>NaN</td>\n",
       "      <td>2.220437</td>\n",
       "      <td>maybe_AB_second</td>\n",
       "    </tr>\n",
       "    <tr>\n",
       "      <th>one_antigen</th>\n",
       "      <td>20.0</td>\n",
       "      <td>28.027412</td>\n",
       "      <td>one_antigen</td>\n",
       "    </tr>\n",
       "    <tr>\n",
       "      <th>other</th>\n",
       "      <td>31.0</td>\n",
       "      <td>33.623314</td>\n",
       "      <td>other</td>\n",
       "    </tr>\n",
       "  </tbody>\n",
       "</table>\n",
       "</div>"
      ],
      "text/plain": [
       "                  actual_top_hit_freq_far  expected_top_hit_freq_far  \\\n",
       "annotation                                                             \n",
       "between_known_AB                     29.0                   2.548789   \n",
       "between_maybe_AB                      2.0                   1.621676   \n",
       "both_antigen                         10.0                   5.840815   \n",
       "known_AB_first                        2.0                  10.110945   \n",
       "known_AB_second                       1.0                  11.411221   \n",
       "maybe_AB_first                        5.0                   4.595392   \n",
       "maybe_AB_second                       NaN                   2.220437   \n",
       "one_antigen                          20.0                  28.027412   \n",
       "other                                31.0                  33.623314   \n",
       "\n",
       "                          category  \n",
       "annotation                          \n",
       "between_known_AB  between_known_AB  \n",
       "between_maybe_AB  between_maybe_AB  \n",
       "both_antigen          both_antigen  \n",
       "known_AB_first      known_AB_first  \n",
       "known_AB_second    known_AB_second  \n",
       "maybe_AB_first      maybe_AB_first  \n",
       "maybe_AB_second    maybe_AB_second  \n",
       "one_antigen            one_antigen  \n",
       "other                        other  "
      ]
     },
     "execution_count": 35,
     "metadata": {},
     "output_type": "execute_result"
    }
   ],
   "source": [
    "\n",
    "top_hits=all_hits_far.sort_values(\"pval_beta_i_on_j\")\n",
    "\n",
    "top_hits_values = top_hits.iloc[0:100].groupby(\"annotation\").size()\n",
    "\n",
    "all_hits_expectation = all_hits_far.groupby(\"annotation\").size() / len(top_hits) * 100\n",
    "\n",
    "#top_hits_values\n",
    "print(chisquare([29,  2, 10,  2,  1,  5, 0,20, 31], f_exp=all_hits_expectation))\n",
    "\n",
    "## Table of nice results\n",
    "\n",
    "\n",
    "result_df = pd.DataFrame({ \n",
    "    #\"category\": top_hits.groupby(\"annotation\").size().index,\n",
    "    \"actual_top_hit_freq_far\": top_hits_values, \n",
    "    \"expected_top_hit_freq_far\": all_hits_expectation})\n",
    "\n",
    "print(result_df)\n",
    "results_df3_far = result_df\n",
    "results_df3_far[\"category\"] = results_df3_far.index\n",
    "results_df3_far"
   ]
  },
  {
   "cell_type": "code",
   "execution_count": 36,
   "metadata": {},
   "outputs": [
    {
     "data": {
      "image/png": "[encoded data removed]",
      "text/plain": [
       "<Figure size 720x360 with 1 Axes>"
      ]
     },
     "metadata": {
      "needs_background": "light"
     },
     "output_type": "display_data"
    }
   ],
   "source": [
    "### Combine all three into bar plot\n",
    "def _process_result_df(result_df):\n",
    "    cats_to_remove = [\"between_maybe_AB\", \"maybe_AB_first\", \"maybe_AB_second\"]\n",
    "    result_df = result_df.query(\"category not in @cats_to_remove\")\n",
    "\n",
    "    desired_order = [\"known_AB_first\", \"known_AB_second\", \"between_known_AB\", \"one_antigen\",\"both_antigen\",  \"other\"]\n",
    "\n",
    "\n",
    "    to_plot = result_df.melt([\"category\"])\n",
    "    to_plot[\"category_sorter\"] = [desired_order.index(x) for x in to_plot.category]\n",
    "    #to_plot[\"value\"] = [np.log10(x) for x in to_plot.value]\n",
    "\n",
    "    # normalize the result dataframe\n",
    "    to_plot[\"value_norm\"] = to_plot.value / (to_plot.value.sum()/2)\n",
    "    \n",
    "    return to_plot\n",
    "\n",
    "pal = sns.color_palette(\"Blues\",4)\n",
    "\n",
    "results_df1_far[\"category\"] = results_df3_far.index\n",
    "\n",
    "toplot1 = _process_result_df(results_df1_far).fillna(0)\n",
    "toplot2 = _process_result_df(results_df3_close).fillna(0)\n",
    "toplot3 = _process_result_df(results_df3_far).fillna(0)\n",
    "\n",
    "to_plot = pd.concat([toplot1, toplot2, toplot3])\n",
    "\n",
    "categories_to_keep = [\"expected_pair_freq\", \"actual_top_hit_freq_far\", \"actual_top_hit_freq_close\"]\n",
    "to_plot = to_plot.query(\"variable in @categories_to_keep\")\n",
    "\n",
    "desired_order = [\"expected_pair_freq\", \"actual_top_hit_freq_far\",  \"actual_top_hit_freq_close\"]\n",
    "to_plot[\"sorter\"] = [desired_order.index(x) for x in to_plot.variable]\n",
    "to_plot = to_plot.sort_values([\"sorter\", \"category_sorter\"])\n",
    "\n",
    "\n",
    "fig= plt.figure(figsize=(10,5))\n",
    "ax = fig.gca()\n",
    "\n",
    "sns.barplot(data = to_plot, x='category', y = 'value_norm', hue='variable',\n",
    "            palette=[pal[0], pal[3],\"mediumorchid\"]\n",
    "            \n",
    "           )\n",
    "plt.xticks(rotation=90)\n",
    "#cs = chisquare(top_hits_values,  f_exp=all_hits_expectation)\n",
    "\n",
    "sns.despine()\n",
    "plt.savefig(\"figures/simultaneous_mutations_far_category.pdf\")"
   ]
  },
  {
   "cell_type": "code",
   "execution_count": 38,
   "metadata": {},
   "outputs": [],
   "source": [
    "all_hits = pd.read_csv(\"output/04B.pair_annotation/results_allpairs_annotated.csv\")\n",
    "all_hits[\"mutation_distance\"] = [dist(x,y) for x,y in zip(all_hits.position_i, all_hits.position_j)]\n",
    "\n",
    "all_hits.to_csv(\"_max_all_simultaneous_pairs.csv\")\n",
    "all_hits.query(\"mutation_distance < 100 and pval_beta_i_on_j_BH_sig\").to_csv(\"_max_significant_proximal_pairs.csv\")"
   ]
  },
  {
   "cell_type": "code",
   "execution_count": 56,
   "metadata": {},
   "outputs": [
    {
     "data": {
      "text/html": [
       "<div>\n",
       "<style scoped>\n",
       "    .dataframe tbody tr th:only-of-type {\n",
       "        vertical-align: middle;\n",
       "    }\n",
       "\n",
       "    .dataframe tbody tr th {\n",
       "        vertical-align: top;\n",
       "    }\n",
       "\n",
       "    .dataframe thead th {\n",
       "        text-align: right;\n",
       "    }\n",
       "</style>\n",
       "<table border=\"1\" class=\"dataframe\">\n",
       "  <thead>\n",
       "    <tr style=\"text-align: right;\">\n",
       "      <th></th>\n",
       "      <th>Unnamed: 0</th>\n",
       "      <th>pos</th>\n",
       "      <th>ref</th>\n",
       "      <th>alt</th>\n",
       "      <th>gene_id</th>\n",
       "      <th>gene_pos</th>\n",
       "      <th>gene_category</th>\n",
       "      <th>gene_name</th>\n",
       "      <th>is_lineage</th>\n",
       "      <th>in_antigen_protein</th>\n",
       "      <th>AA_change</th>\n",
       "      <th>aa_position</th>\n",
       "      <th>in_antigen_epitope</th>\n",
       "      <th>in_known_ABR_position</th>\n",
       "      <th>known_drug</th>\n",
       "      <th>in_possible_ABR_gene</th>\n",
       "      <th>possible_drug</th>\n",
       "      <th>in_essential_gene_minato</th>\n",
       "    </tr>\n",
       "  </thead>\n",
       "  <tbody>\n",
       "    <tr>\n",
       "      <th>0</th>\n",
       "      <td>0</td>\n",
       "      <td>290</td>\n",
       "      <td>G</td>\n",
       "      <td>['C', 'T']</td>\n",
       "      <td>Rv0001</td>\n",
       "      <td>289.0</td>\n",
       "      <td>Essential</td>\n",
       "      <td>dnaA</td>\n",
       "      <td>False</td>\n",
       "      <td>False</td>\n",
       "      <td>G97A</td>\n",
       "      <td>97</td>\n",
       "      <td>False</td>\n",
       "      <td>False</td>\n",
       "      <td>NaN</td>\n",
       "      <td>False</td>\n",
       "      <td>NaN</td>\n",
       "      <td>True</td>\n",
       "    </tr>\n",
       "    <tr>\n",
       "      <th>1</th>\n",
       "      <td>2</td>\n",
       "      <td>490</td>\n",
       "      <td>G</td>\n",
       "      <td>['A']</td>\n",
       "      <td>Rv0001</td>\n",
       "      <td>489.0</td>\n",
       "      <td>Essential</td>\n",
       "      <td>dnaA</td>\n",
       "      <td>False</td>\n",
       "      <td>False</td>\n",
       "      <td>G164S</td>\n",
       "      <td>164</td>\n",
       "      <td>False</td>\n",
       "      <td>False</td>\n",
       "      <td>NaN</td>\n",
       "      <td>False</td>\n",
       "      <td>NaN</td>\n",
       "      <td>True</td>\n",
       "    </tr>\n",
       "    <tr>\n",
       "      <th>2</th>\n",
       "      <td>3</td>\n",
       "      <td>573</td>\n",
       "      <td>G</td>\n",
       "      <td>['C', 'T']</td>\n",
       "      <td>Rv0001</td>\n",
       "      <td>572.0</td>\n",
       "      <td>Essential</td>\n",
       "      <td>dnaA</td>\n",
       "      <td>False</td>\n",
       "      <td>False</td>\n",
       "      <td>L191F</td>\n",
       "      <td>191</td>\n",
       "      <td>False</td>\n",
       "      <td>False</td>\n",
       "      <td>NaN</td>\n",
       "      <td>False</td>\n",
       "      <td>NaN</td>\n",
       "      <td>True</td>\n",
       "    </tr>\n",
       "    <tr>\n",
       "      <th>3</th>\n",
       "      <td>5</td>\n",
       "      <td>696</td>\n",
       "      <td>G</td>\n",
       "      <td>['A', 'C', 'T']</td>\n",
       "      <td>Rv0001</td>\n",
       "      <td>695.0</td>\n",
       "      <td>Essential</td>\n",
       "      <td>dnaA</td>\n",
       "      <td>False</td>\n",
       "      <td>False</td>\n",
       "      <td>M232I</td>\n",
       "      <td>232</td>\n",
       "      <td>False</td>\n",
       "      <td>False</td>\n",
       "      <td>NaN</td>\n",
       "      <td>False</td>\n",
       "      <td>NaN</td>\n",
       "      <td>True</td>\n",
       "    </tr>\n",
       "    <tr>\n",
       "      <th>4</th>\n",
       "      <td>8</td>\n",
       "      <td>697</td>\n",
       "      <td>C</td>\n",
       "      <td>['T']</td>\n",
       "      <td>Rv0001</td>\n",
       "      <td>696.0</td>\n",
       "      <td>Essential</td>\n",
       "      <td>dnaA</td>\n",
       "      <td>False</td>\n",
       "      <td>False</td>\n",
       "      <td>R233W</td>\n",
       "      <td>233</td>\n",
       "      <td>False</td>\n",
       "      <td>False</td>\n",
       "      <td>NaN</td>\n",
       "      <td>False</td>\n",
       "      <td>NaN</td>\n",
       "      <td>True</td>\n",
       "    </tr>\n",
       "    <tr>\n",
       "      <th>...</th>\n",
       "      <td>...</td>\n",
       "      <td>...</td>\n",
       "      <td>...</td>\n",
       "      <td>...</td>\n",
       "      <td>...</td>\n",
       "      <td>...</td>\n",
       "      <td>...</td>\n",
       "      <td>...</td>\n",
       "      <td>...</td>\n",
       "      <td>...</td>\n",
       "      <td>...</td>\n",
       "      <td>...</td>\n",
       "      <td>...</td>\n",
       "      <td>...</td>\n",
       "      <td>...</td>\n",
       "      <td>...</td>\n",
       "      <td>...</td>\n",
       "      <td>...</td>\n",
       "    </tr>\n",
       "    <tr>\n",
       "      <th>4738</th>\n",
       "      <td>7274</td>\n",
       "      <td>4408156</td>\n",
       "      <td>A</td>\n",
       "      <td>['C', 'G']</td>\n",
       "      <td>Rv3919c</td>\n",
       "      <td>628.0</td>\n",
       "      <td>Antibiotic Resistance</td>\n",
       "      <td>gid</td>\n",
       "      <td>True</td>\n",
       "      <td>False</td>\n",
       "      <td>L16R</td>\n",
       "      <td>16</td>\n",
       "      <td>False</td>\n",
       "      <td>False</td>\n",
       "      <td>NaN</td>\n",
       "      <td>True</td>\n",
       "      <td>STM</td>\n",
       "      <td>False</td>\n",
       "    </tr>\n",
       "    <tr>\n",
       "      <th>4739</th>\n",
       "      <td>7276</td>\n",
       "      <td>4408168</td>\n",
       "      <td>A</td>\n",
       "      <td>['C', 'G']</td>\n",
       "      <td>Rv3919c</td>\n",
       "      <td>640.0</td>\n",
       "      <td>Antibiotic Resistance</td>\n",
       "      <td>gid</td>\n",
       "      <td>False</td>\n",
       "      <td>False</td>\n",
       "      <td>F12C</td>\n",
       "      <td>12</td>\n",
       "      <td>False</td>\n",
       "      <td>False</td>\n",
       "      <td>NaN</td>\n",
       "      <td>True</td>\n",
       "      <td>STM</td>\n",
       "      <td>False</td>\n",
       "    </tr>\n",
       "    <tr>\n",
       "      <th>4740</th>\n",
       "      <td>7278</td>\n",
       "      <td>4408185</td>\n",
       "      <td>G</td>\n",
       "      <td>['A', 'C']</td>\n",
       "      <td>Rv3919c</td>\n",
       "      <td>657.0</td>\n",
       "      <td>Antibiotic Resistance</td>\n",
       "      <td>gid</td>\n",
       "      <td>False</td>\n",
       "      <td>False</td>\n",
       "      <td>P6P</td>\n",
       "      <td>6</td>\n",
       "      <td>False</td>\n",
       "      <td>False</td>\n",
       "      <td>NaN</td>\n",
       "      <td>True</td>\n",
       "      <td>STM</td>\n",
       "      <td>False</td>\n",
       "    </tr>\n",
       "    <tr>\n",
       "      <th>4741</th>\n",
       "      <td>7280</td>\n",
       "      <td>4408806</td>\n",
       "      <td>G</td>\n",
       "      <td>['A']</td>\n",
       "      <td>Rv3920c</td>\n",
       "      <td>472.0</td>\n",
       "      <td>Non-Essential</td>\n",
       "      <td>Rv3920c</td>\n",
       "      <td>False</td>\n",
       "      <td>False</td>\n",
       "      <td>A31V</td>\n",
       "      <td>31</td>\n",
       "      <td>False</td>\n",
       "      <td>False</td>\n",
       "      <td>NaN</td>\n",
       "      <td>False</td>\n",
       "      <td>NaN</td>\n",
       "      <td>False</td>\n",
       "    </tr>\n",
       "    <tr>\n",
       "      <th>4742</th>\n",
       "      <td>7281</td>\n",
       "      <td>4411475</td>\n",
       "      <td>G</td>\n",
       "      <td>['A']</td>\n",
       "      <td>intergenic</td>\n",
       "      <td>NaN</td>\n",
       "      <td>None</td>\n",
       "      <td>None</td>\n",
       "      <td>False</td>\n",
       "      <td>False</td>\n",
       "      <td>None</td>\n",
       "      <td>-1</td>\n",
       "      <td>False</td>\n",
       "      <td>False</td>\n",
       "      <td>NaN</td>\n",
       "      <td>False</td>\n",
       "      <td>NaN</td>\n",
       "      <td>False</td>\n",
       "    </tr>\n",
       "  </tbody>\n",
       "</table>\n",
       "<p>4743 rows × 18 columns</p>\n",
       "</div>"
      ],
      "text/plain": [
       "      Unnamed: 0      pos ref              alt     gene_id  gene_pos  \\\n",
       "0              0      290   G       ['C', 'T']      Rv0001     289.0   \n",
       "1              2      490   G            ['A']      Rv0001     489.0   \n",
       "2              3      573   G       ['C', 'T']      Rv0001     572.0   \n",
       "3              5      696   G  ['A', 'C', 'T']      Rv0001     695.0   \n",
       "4              8      697   C            ['T']      Rv0001     696.0   \n",
       "...          ...      ...  ..              ...         ...       ...   \n",
       "4738        7274  4408156   A       ['C', 'G']     Rv3919c     628.0   \n",
       "4739        7276  4408168   A       ['C', 'G']     Rv3919c     640.0   \n",
       "4740        7278  4408185   G       ['A', 'C']     Rv3919c     657.0   \n",
       "4741        7280  4408806   G            ['A']     Rv3920c     472.0   \n",
       "4742        7281  4411475   G            ['A']  intergenic       NaN   \n",
       "\n",
       "              gene_category gene_name  is_lineage  in_antigen_protein  \\\n",
       "0                 Essential      dnaA       False               False   \n",
       "1                 Essential      dnaA       False               False   \n",
       "2                 Essential      dnaA       False               False   \n",
       "3                 Essential      dnaA       False               False   \n",
       "4                 Essential      dnaA       False               False   \n",
       "...                     ...       ...         ...                 ...   \n",
       "4738  Antibiotic Resistance       gid        True               False   \n",
       "4739  Antibiotic Resistance       gid       False               False   \n",
       "4740  Antibiotic Resistance       gid       False               False   \n",
       "4741          Non-Essential   Rv3920c       False               False   \n",
       "4742                   None      None       False               False   \n",
       "\n",
       "     AA_change  aa_position  in_antigen_epitope  in_known_ABR_position  \\\n",
       "0         G97A           97               False                  False   \n",
       "1        G164S          164               False                  False   \n",
       "2        L191F          191               False                  False   \n",
       "3        M232I          232               False                  False   \n",
       "4        R233W          233               False                  False   \n",
       "...        ...          ...                 ...                    ...   \n",
       "4738      L16R           16               False                  False   \n",
       "4739      F12C           12               False                  False   \n",
       "4740       P6P            6               False                  False   \n",
       "4741      A31V           31               False                  False   \n",
       "4742      None           -1               False                  False   \n",
       "\n",
       "     known_drug  in_possible_ABR_gene possible_drug  in_essential_gene_minato  \n",
       "0           NaN                 False           NaN                      True  \n",
       "1           NaN                 False           NaN                      True  \n",
       "2           NaN                 False           NaN                      True  \n",
       "3           NaN                 False           NaN                      True  \n",
       "4           NaN                 False           NaN                      True  \n",
       "...         ...                   ...           ...                       ...  \n",
       "4738        NaN                  True           STM                     False  \n",
       "4739        NaN                  True           STM                     False  \n",
       "4740        NaN                  True           STM                     False  \n",
       "4741        NaN                 False           NaN                     False  \n",
       "4742        NaN                 False           NaN                     False  \n",
       "\n",
       "[4743 rows x 18 columns]"
      ]
     },
     "execution_count": 56,
     "metadata": {},
     "output_type": "execute_result"
    }
   ],
   "source": [
    "pd.read_csv(\"output/03.annotation/snps_with_all_annotation.csv\")"
   ]
  },
  {
   "cell_type": "code",
   "execution_count": 57,
   "metadata": {},
   "outputs": [
    {
     "data": {
      "text/html": [
       "<div>\n",
       "<style scoped>\n",
       "    .dataframe tbody tr th:only-of-type {\n",
       "        vertical-align: middle;\n",
       "    }\n",
       "\n",
       "    .dataframe tbody tr th {\n",
       "        vertical-align: top;\n",
       "    }\n",
       "\n",
       "    .dataframe thead th {\n",
       "        text-align: right;\n",
       "    }\n",
       "</style>\n",
       "<table border=\"1\" class=\"dataframe\">\n",
       "  <thead>\n",
       "    <tr style=\"text-align: right;\">\n",
       "      <th></th>\n",
       "      <th>Unnamed: 0</th>\n",
       "      <th>pos</th>\n",
       "      <th>n_mutations</th>\n",
       "      <th>n_reversions</th>\n",
       "      <th>n_branches_with</th>\n",
       "      <th>mat_index</th>\n",
       "    </tr>\n",
       "  </thead>\n",
       "  <tbody>\n",
       "    <tr>\n",
       "      <th>0</th>\n",
       "      <td>0</td>\n",
       "      <td>290</td>\n",
       "      <td>5</td>\n",
       "      <td>0</td>\n",
       "      <td>4</td>\n",
       "      <td>0</td>\n",
       "    </tr>\n",
       "    <tr>\n",
       "      <th>1</th>\n",
       "      <td>1</td>\n",
       "      <td>490</td>\n",
       "      <td>5</td>\n",
       "      <td>0</td>\n",
       "      <td>10</td>\n",
       "      <td>1</td>\n",
       "    </tr>\n",
       "    <tr>\n",
       "      <th>2</th>\n",
       "      <td>2</td>\n",
       "      <td>573</td>\n",
       "      <td>7</td>\n",
       "      <td>0</td>\n",
       "      <td>2</td>\n",
       "      <td>2</td>\n",
       "    </tr>\n",
       "    <tr>\n",
       "      <th>3</th>\n",
       "      <td>3</td>\n",
       "      <td>696</td>\n",
       "      <td>8</td>\n",
       "      <td>0</td>\n",
       "      <td>4</td>\n",
       "      <td>3</td>\n",
       "    </tr>\n",
       "    <tr>\n",
       "      <th>4</th>\n",
       "      <td>4</td>\n",
       "      <td>697</td>\n",
       "      <td>8</td>\n",
       "      <td>0</td>\n",
       "      <td>0</td>\n",
       "      <td>4</td>\n",
       "    </tr>\n",
       "    <tr>\n",
       "      <th>...</th>\n",
       "      <td>...</td>\n",
       "      <td>...</td>\n",
       "      <td>...</td>\n",
       "      <td>...</td>\n",
       "      <td>...</td>\n",
       "      <td>...</td>\n",
       "    </tr>\n",
       "    <tr>\n",
       "      <th>4738</th>\n",
       "      <td>4738</td>\n",
       "      <td>4408156</td>\n",
       "      <td>7</td>\n",
       "      <td>2</td>\n",
       "      <td>11371</td>\n",
       "      <td>4738</td>\n",
       "    </tr>\n",
       "    <tr>\n",
       "      <th>4739</th>\n",
       "      <td>4739</td>\n",
       "      <td>4408168</td>\n",
       "      <td>5</td>\n",
       "      <td>0</td>\n",
       "      <td>0</td>\n",
       "      <td>4739</td>\n",
       "    </tr>\n",
       "    <tr>\n",
       "      <th>4740</th>\n",
       "      <td>4740</td>\n",
       "      <td>4408185</td>\n",
       "      <td>6</td>\n",
       "      <td>0</td>\n",
       "      <td>46</td>\n",
       "      <td>4740</td>\n",
       "    </tr>\n",
       "    <tr>\n",
       "      <th>4741</th>\n",
       "      <td>4741</td>\n",
       "      <td>4408806</td>\n",
       "      <td>5</td>\n",
       "      <td>0</td>\n",
       "      <td>8</td>\n",
       "      <td>4741</td>\n",
       "    </tr>\n",
       "    <tr>\n",
       "      <th>4742</th>\n",
       "      <td>4742</td>\n",
       "      <td>4411475</td>\n",
       "      <td>5</td>\n",
       "      <td>0</td>\n",
       "      <td>484</td>\n",
       "      <td>4742</td>\n",
       "    </tr>\n",
       "  </tbody>\n",
       "</table>\n",
       "<p>4743 rows × 6 columns</p>\n",
       "</div>"
      ],
      "text/plain": [
       "      Unnamed: 0      pos  n_mutations  n_reversions  n_branches_with  \\\n",
       "0              0      290            5             0                4   \n",
       "1              1      490            5             0               10   \n",
       "2              2      573            7             0                2   \n",
       "3              3      696            8             0                4   \n",
       "4              4      697            8             0                0   \n",
       "...          ...      ...          ...           ...              ...   \n",
       "4738        4738  4408156            7             2            11371   \n",
       "4739        4739  4408168            5             0                0   \n",
       "4740        4740  4408185            6             0               46   \n",
       "4741        4741  4408806            5             0                8   \n",
       "4742        4742  4411475            5             0              484   \n",
       "\n",
       "      mat_index  \n",
       "0             0  \n",
       "1             1  \n",
       "2             2  \n",
       "3             3  \n",
       "4             4  \n",
       "...         ...  \n",
       "4738       4738  \n",
       "4739       4739  \n",
       "4740       4740  \n",
       "4741       4741  \n",
       "4742       4742  \n",
       "\n",
       "[4743 rows x 6 columns]"
      ]
     },
     "execution_count": 57,
     "metadata": {},
     "output_type": "execute_result"
    }
   ],
   "source": [
    "pd.read_csv(\"output/01.mutation_and_comutation_data/first_order_statistics.csv\")\n"
   ]
  },
  {
   "cell_type": "code",
   "execution_count": 42,
   "metadata": {},
   "outputs": [],
   "source": [
    "close_hits = all_hits.query(\"mutation_distance < 100 and pval_beta_i_on_j_BH_sig\")"
   ]
  },
  {
   "cell_type": "code",
   "execution_count": 45,
   "metadata": {},
   "outputs": [
    {
     "data": {
      "text/plain": [
       "82"
      ]
     },
     "execution_count": 45,
     "metadata": {},
     "output_type": "execute_result"
    }
   ],
   "source": [
    "len(close_hits.gene_name_i.unique())"
   ]
  },
  {
   "cell_type": "code",
   "execution_count": 54,
   "metadata": {
    "collapsed": true,
    "jupyter": {
     "outputs_hidden": true
    },
    "tags": []
   },
   "outputs": [
    {
     "data": {
      "text/plain": [
       "['None',\n",
       " 'PE_PGRS17',\n",
       " 'PE_PGRS18',\n",
       " 'PE_PGRS20',\n",
       " 'PE_PGRS21',\n",
       " 'PPE18',\n",
       " 'PPE19',\n",
       " 'PPE24',\n",
       " 'PPE27',\n",
       " 'PPE34',\n",
       " 'PPE35',\n",
       " 'PPE40',\n",
       " 'PPE5',\n",
       " 'PPE54',\n",
       " 'PPE55',\n",
       " 'PPE56',\n",
       " 'PPE59',\n",
       " 'PPE6',\n",
       " 'PPE60',\n",
       " 'PPE8',\n",
       " 'Rv0095c',\n",
       " 'Rv0331',\n",
       " 'Rv0397',\n",
       " 'Rv0740',\n",
       " 'Rv0750',\n",
       " 'Rv0813c',\n",
       " 'Rv1129c',\n",
       " 'Rv1148c',\n",
       " 'Rv1288',\n",
       " 'Rv1318c',\n",
       " 'Rv1319c',\n",
       " 'Rv1435c',\n",
       " 'Rv1566c',\n",
       " 'Rv1944c',\n",
       " 'Rv1945',\n",
       " 'Rv2021c',\n",
       " 'Rv2082',\n",
       " 'Rv2390c',\n",
       " 'Rv2824c',\n",
       " 'Rv2825c',\n",
       " 'Rv2980',\n",
       " 'Rv3405c',\n",
       " 'Rv3424c',\n",
       " 'Rv3466',\n",
       " 'Rv3900c',\n",
       " 'Rv3901c',\n",
       " 'ald',\n",
       " 'cyp130',\n",
       " 'dnaA',\n",
       " 'eccD1',\n",
       " 'embB',\n",
       " 'espA',\n",
       " 'esxJ',\n",
       " 'esxL',\n",
       " 'esxM',\n",
       " 'esxN',\n",
       " 'esxO',\n",
       " 'esxW',\n",
       " 'ethA',\n",
       " 'fadD18',\n",
       " 'fadE35',\n",
       " 'folC',\n",
       " 'folP2',\n",
       " 'gid',\n",
       " 'gyrA',\n",
       " 'katG',\n",
       " 'lipN',\n",
       " 'lppA',\n",
       " 'lppB',\n",
       " 'mycP1',\n",
       " 'pks12',\n",
       " 'pncA',\n",
       " 'ppsA',\n",
       " 'ppsB',\n",
       " 'prpD',\n",
       " 'rpoB',\n",
       " 'rpoC',\n",
       " 'ubiA',\n",
       " 'vapB31',\n",
       " 'vapC25',\n",
       " 'vapC31',\n",
       " 'whiB6']"
      ]
     },
     "execution_count": 54,
     "metadata": {},
     "output_type": "execute_result"
    }
   ],
   "source": [
    "sorted(close_hits.gene_name_i.unique())"
   ]
  },
  {
   "cell_type": "code",
   "execution_count": 55,
   "metadata": {},
   "outputs": [
    {
     "data": {
      "text/plain": [
       "['None',\n",
       " 'PE_PGRS17',\n",
       " 'PE_PGRS18',\n",
       " 'PE_PGRS20',\n",
       " 'PE_PGRS21',\n",
       " 'PPE18',\n",
       " 'PPE19',\n",
       " 'PPE24',\n",
       " 'PPE27',\n",
       " 'PPE34',\n",
       " 'PPE40',\n",
       " 'PPE5',\n",
       " 'PPE54',\n",
       " 'PPE55',\n",
       " 'PPE56',\n",
       " 'PPE59',\n",
       " 'PPE6',\n",
       " 'PPE60',\n",
       " 'PPE8',\n",
       " 'Rv0095c',\n",
       " 'Rv0331',\n",
       " 'Rv0397',\n",
       " 'Rv0740',\n",
       " 'Rv0750',\n",
       " 'Rv0813c',\n",
       " 'Rv1129c',\n",
       " 'Rv1148c',\n",
       " 'Rv1288',\n",
       " 'Rv1318c',\n",
       " 'Rv1319c',\n",
       " 'Rv1435c',\n",
       " 'Rv1566c',\n",
       " 'Rv1944c',\n",
       " 'Rv1945',\n",
       " 'Rv2021c',\n",
       " 'Rv2082',\n",
       " 'Rv2390c',\n",
       " 'Rv2824c',\n",
       " 'Rv2825c',\n",
       " 'Rv2980',\n",
       " 'Rv3405c',\n",
       " 'Rv3424c',\n",
       " 'Rv3466',\n",
       " 'Rv3900c',\n",
       " 'Rv3901c',\n",
       " 'ald',\n",
       " 'cyp130',\n",
       " 'dnaA',\n",
       " 'eccD1',\n",
       " 'espA',\n",
       " 'esxJ',\n",
       " 'esxL',\n",
       " 'esxM',\n",
       " 'esxN',\n",
       " 'esxO',\n",
       " 'esxW',\n",
       " 'fadD18',\n",
       " 'fadE35',\n",
       " 'folC',\n",
       " 'folP2',\n",
       " 'lipN',\n",
       " 'lppA',\n",
       " 'lppB',\n",
       " 'mycP1',\n",
       " 'pks12',\n",
       " 'ppsA',\n",
       " 'ppsB',\n",
       " 'prpD',\n",
       " 'vapB31',\n",
       " 'vapC25',\n",
       " 'vapC31']"
      ]
     },
     "execution_count": 55,
     "metadata": {},
     "output_type": "execute_result"
    }
   ],
   "source": [
    "sorted(close_hits.query(\"not in_possible_ABR_gene_i\").gene_name_i.unique())"
   ]
  },
  {
   "cell_type": "code",
   "execution_count": 53,
   "metadata": {},
   "outputs": [
    {
     "data": {
      "text/plain": [
       "Index(['Unnamed: 0', 'position_i', 'gene_name_i', 'position_j', 'gene_name_j',\n",
       "       'n_mutations_i', 'n_mutations_j', 'n_branches_with_i',\n",
       "       'n_branches_with_j', 'n_muts_i_on_branch_j', 'n_muts_j_on_branch_i',\n",
       "       'n_muts_same_branch', 'n_branch_with_i_no_j', 'n_branch_with_j_no_i',\n",
       "       'n_branch_i_and_j', 'pval_beta_i_on_j', 'BH_critical_value',\n",
       "       'pval_beta_i_on_j_BH_sig', 'is_lineage_i', 'is_lineage_j', 'gene_id_i',\n",
       "       'gene_id_j', 'in_antigen_epitope_i', 'in_antigen_protein_i',\n",
       "       'in_known_ABR_position_i', 'known_drug_i', 'in_possible_ABR_gene_i',\n",
       "       'possible_drug_i', 'in_antigen_epitope_j', 'in_antigen_protein_j',\n",
       "       'in_known_ABR_position_j', 'known_drug_j', 'in_possible_ABR_gene_j',\n",
       "       'possible_drug_j', 'mutation_distance'],\n",
       "      dtype='object')"
      ]
     },
     "execution_count": 53,
     "metadata": {},
     "output_type": "execute_result"
    }
   ],
   "source": [
    "close_hits.columns"
   ]
  },
  {
   "cell_type": "code",
   "execution_count": null,
   "metadata": {},
   "outputs": [],
   "source": []
  }
 ],
 "metadata": {
  "kernelspec": {
   "display_name": "Python 3 (ipykernel)",
   "language": "python",
   "name": "python3"
  },
  "language_info": {
   "codemirror_mode": {
    "name": "ipython",
    "version": 3
   },
   "file_extension": ".py",
   "mimetype": "text/x-python",
   "name": "python",
   "nbconvert_exporter": "python",
   "pygments_lexer": "ipython3",
   "version": "3.9.13"
  }
 },
 "nbformat": 4,
 "nbformat_minor": 4
}
